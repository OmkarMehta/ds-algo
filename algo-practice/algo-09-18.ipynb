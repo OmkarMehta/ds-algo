{
 "cells": [
  {
   "cell_type": "code",
   "execution_count": 10,
   "id": "7fb9fb36",
   "metadata": {},
   "outputs": [],
   "source": [
    "def balancedExpression(input):\n",
    "    openers = ['(', '[', '{']\n",
    "    stack = []\n",
    "    for x in input:\n",
    "        if x in openers:\n",
    "            stack.append(x)\n",
    "        else:\n",
    "            if len(stack)==0:\n",
    "                return False\n",
    "            top = stack.pop()\n",
    "            if x==']':\n",
    "                if top!='[':\n",
    "                    return False\n",
    "            elif x==')':\n",
    "                if top!='(':\n",
    "                    return False\n",
    "            elif x=='}':\n",
    "                if top!='{':\n",
    "                    return False\n",
    "    if len(stack)!=0:\n",
    "        return False\n",
    "    return True               \n"
   ]
  },
  {
   "cell_type": "code",
   "execution_count": 13,
   "id": "c246d432",
   "metadata": {},
   "outputs": [
    {
     "data": {
      "text/plain": [
       "True"
      ]
     },
     "execution_count": 13,
     "metadata": {},
     "output_type": "execute_result"
    }
   ],
   "source": [
    "input = '[]'\n",
    "balancedExpression(input)"
   ]
  },
  {
   "cell_type": "code",
   "execution_count": 12,
   "id": "586d1bfd",
   "metadata": {},
   "outputs": [
    {
     "data": {
      "text/plain": [
       "False"
      ]
     },
     "execution_count": 12,
     "metadata": {},
     "output_type": "execute_result"
    }
   ],
   "source": [
    "input = '{[(])}'\n",
    "balancedExpression(input)"
   ]
  },
  {
   "cell_type": "code",
   "execution_count": 15,
   "id": "a62e7b96",
   "metadata": {},
   "outputs": [
    {
     "name": "stderr",
     "output_type": "stream",
     "text": [
      "/Users/omkarmehta/Library/Jupyter/runtime/kernel-877ab89b-aab8-421a-9008-59c47dfbe8e3 (unittest.loader._FailedTest) ... ERROR\n",
      "\n",
      "======================================================================\n",
      "ERROR: /Users/omkarmehta/Library/Jupyter/runtime/kernel-877ab89b-aab8-421a-9008-59c47dfbe8e3 (unittest.loader._FailedTest)\n",
      "----------------------------------------------------------------------\n",
      "AttributeError: module '__main__' has no attribute '/Users/omkarmehta/Library/Jupyter/runtime/kernel-877ab89b-aab8-421a-9008-59c47dfbe8e3'\n",
      "\n",
      "----------------------------------------------------------------------\n",
      "Ran 1 test in 0.001s\n",
      "\n",
      "FAILED (errors=1)\n"
     ]
    },
    {
     "ename": "SystemExit",
     "evalue": "True",
     "output_type": "error",
     "traceback": [
      "An exception has occurred, use %tb to see the full traceback.\n",
      "\u001b[0;31mSystemExit\u001b[0m\u001b[0;31m:\u001b[0m True\n"
     ]
    },
    {
     "name": "stderr",
     "output_type": "stream",
     "text": [
      "/opt/homebrew/lib/python3.8/site-packages/IPython/core/interactiveshell.py:3449: UserWarning: To exit: use 'exit', 'quit', or Ctrl-D.\n",
      "  warn(\"To exit: use 'exit', 'quit', or Ctrl-D.\", stacklevel=1)\n"
     ]
    }
   ],
   "source": [
    "import unittest\n",
    "\n",
    "def is_valid(input):\n",
    "    openers = ['(', '[', '{']\n",
    "    stack = []\n",
    "    for x in input:\n",
    "        if x in openers:\n",
    "            stack.append(x)\n",
    "        else:\n",
    "            if len(stack)==0:\n",
    "                return False\n",
    "            top = stack.pop()\n",
    "            if x==']':\n",
    "                if top!='[':\n",
    "                    return False\n",
    "            elif x==')':\n",
    "                if top!='(':\n",
    "                    return False\n",
    "            elif x=='}':\n",
    "                if top!='{':\n",
    "                    return False\n",
    "    if len(stack)!=0:\n",
    "        return False\n",
    "    return True    \n",
    "\n",
    "# Tests\n",
    "\n",
    "class Test(unittest.TestCase):\n",
    "\n",
    "    def test_valid_short_code(self):\n",
    "        result = is_valid('()')\n",
    "        self.assertTrue(result)\n",
    "\n",
    "    def test_valid_longer_code(self):\n",
    "        result = is_valid('([]{[]})[]{{}()}')\n",
    "        self.assertTrue(result)\n",
    "\n",
    "    def test_interleaved_openers_and_closers(self):\n",
    "        result = is_valid('([)]')\n",
    "        self.assertFalse(result)\n",
    "\n",
    "    def test_mismatched_opener_and_closer(self):\n",
    "        result = is_valid('([][]}')\n",
    "        self.assertFalse(result)\n",
    "\n",
    "    def test_missing_closer(self):\n",
    "        result = is_valid('[[]()')\n",
    "        self.assertFalse(result)\n",
    "\n",
    "    def test_extra_closer(self):\n",
    "        result = is_valid('[[]]())')\n",
    "        self.assertFalse(result)\n",
    "\n",
    "    def test_empty_string(self):\n",
    "        result = is_valid('')\n",
    "        self.assertTrue(result)\n",
    "\n",
    "\n",
    "unittest.main(verbosity=2)"
   ]
  },
  {
   "cell_type": "code",
   "execution_count": null,
   "id": "41a9eeb0",
   "metadata": {},
   "outputs": [],
   "source": []
  },
  {
   "cell_type": "code",
   "execution_count": 22,
   "id": "fda1866d",
   "metadata": {},
   "outputs": [],
   "source": [
    "class queue:\n",
    "    def __init__(self):\n",
    "        self.s1 = []\n",
    "        self.s2 = []\n",
    "    def enqueue(self, x):\n",
    "        self.s1.append(x)\n",
    "    def deque(self):\n",
    "        while len(self.s1)!=0:\n",
    "            self.s2.append(self.s1[-1])\n",
    "            self.s1.pop()\n",
    "        res = self.s2.pop()\n",
    "        \n",
    "        while len(self.s2)!=0:\n",
    "            self.s1.append(self.s2[-1])\n",
    "            self.s2.pop()\n",
    "        return res\n",
    "    def print_queue(self):\n",
    "        print(self.s1)\n"
   ]
  },
  {
   "cell_type": "code",
   "execution_count": 23,
   "id": "fd7ad87c",
   "metadata": {},
   "outputs": [
    {
     "name": "stdout",
     "output_type": "stream",
     "text": [
      "[1]\n",
      "[1, 2]\n",
      "[1, 2, 3]\n",
      "1\n",
      "[2, 3]\n",
      "2\n",
      "[3]\n",
      "3\n",
      "[]\n"
     ]
    }
   ],
   "source": [
    "q = queue()\n",
    "q.enqueue(1)\n",
    "q.print_queue()\n",
    "q.enqueue(2)\n",
    "q.print_queue()\n",
    "q.enqueue(3)\n",
    "q.print_queue()\n",
    "print(q.deque())\n",
    "q.print_queue()\n",
    "print(q.deque())\n",
    "q.print_queue()\n",
    "print(q.deque())\n",
    "q.print_queue()"
   ]
  },
  {
   "cell_type": "code",
   "execution_count": null,
   "id": "5402291e",
   "metadata": {},
   "outputs": [],
   "source": []
  }
 ],
 "metadata": {
  "kernelspec": {
   "display_name": "Python 3 (ipykernel)",
   "language": "python",
   "name": "python3"
  },
  "language_info": {
   "codemirror_mode": {
    "name": "ipython",
    "version": 3
   },
   "file_extension": ".py",
   "mimetype": "text/x-python",
   "name": "python",
   "nbconvert_exporter": "python",
   "pygments_lexer": "ipython3",
   "version": "3.8.11"
  }
 },
 "nbformat": 4,
 "nbformat_minor": 5
}
