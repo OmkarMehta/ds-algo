{
 "cells": [
  {
   "cell_type": "code",
   "execution_count": 5,
   "source": [
    "def findIntersection(A, B):\n",
    "    dict_A = dict()\n",
    "    dict_B = dict()\n",
    "    \n",
    "    for ele in A:\n",
    "        if ele in dict_A:\n",
    "            dict_A[ele] += 1\n",
    "        else:\n",
    "            dict_A[ele] = 1\n",
    "    for ele in B:\n",
    "        if ele in dict_B:\n",
    "            dict_B[ele] += 1\n",
    "        else:\n",
    "            dict_B[ele] = 1\n",
    "    result = []\n",
    "    for key in dict_A:\n",
    "        if key in dict_B:\n",
    "            result.append(key)\n",
    "    return result"
   ],
   "outputs": [],
   "metadata": {}
  },
  {
   "cell_type": "code",
   "execution_count": 6,
   "source": [
    "A = [1, 2, 3, 4]\n",
    "B = [2, 3]\n",
    "findIntersection(A, B)"
   ],
   "outputs": [
    {
     "output_type": "execute_result",
     "data": {
      "text/plain": [
       "[2, 3]"
      ]
     },
     "metadata": {},
     "execution_count": 6
    }
   ],
   "metadata": {}
  },
  {
   "cell_type": "code",
   "execution_count": 7,
   "source": [
    "A = [1,2,3,4,6,7,8,8]\n",
    "B = [2,3,7,8]\n",
    "print(findIntersection(A, B))\n",
    "A = [2,5,7,3,5,4,6,4,6,7]\n",
    "B = [2,6,8,5,3,3,5,76,78,4,6,7,89,9,0,4]\n",
    "print(findIntersection(A, B))"
   ],
   "outputs": [
    {
     "output_type": "stream",
     "name": "stdout",
     "text": [
      "[2, 3, 7, 8]\n",
      "[2, 5, 7, 3, 4, 6]\n"
     ]
    }
   ],
   "metadata": {}
  },
  {
   "cell_type": "code",
   "execution_count": null,
   "source": [],
   "outputs": [],
   "metadata": {}
  },
  {
   "cell_type": "code",
   "execution_count": 9,
   "source": [
    "def findMaxProductThreeNumbers(A):\n",
    "    n = len(A)\n",
    "    if n==3:\n",
    "        return A[0]*A[1]*A[2]\n",
    "    pos_array = [1, 1, 1]\n",
    "    neg_array = [-1, -1]\n",
    "    \n",
    "    for num in A:\n",
    "        if num>=0:\n",
    "            if num>=pos_array[0]:\n",
    "                temp = pos_array[0]\n",
    "                pos_array[0] = num\n",
    "                if temp>=pos_array[1]:\n",
    "                    temp2 = pos_array[1]\n",
    "                    pos_array[1] = temp\n",
    "                    pos_array[2] = temp2\n",
    "            elif num>=pos_array[1]:\n",
    "                temp = pos_array[1]\n",
    "                pos_array[1] = num\n",
    "                pos_array[2] = temp\n",
    "            elif num>=pos_array[2]:\n",
    "                pos_array[2] = num\n",
    "        elif num<0:\n",
    "            if num<=neg_array[0]:\n",
    "                temp = neg_array[0]\n",
    "                neg_array[0] = num\n",
    "                neg_array[1] = temp\n",
    "    p1 = pos_array[0]*pos_array[1]*pos_array[2]\n",
    "    p2 = neg_array[0]*neg_array[1]*pos_array[0]    \n",
    "    return max(p1, p2)\n",
    "A = [1, 3, 4, 5]\n",
    "print(findMaxProductThreeNumbers(A))\n",
    "A = [-2, -4, 5, 3, -7, 6]\n",
    "print(findMaxProductThreeNumbers(A))\n",
    "A = [-2, -4, 5, 3, -7, 6]\n",
    "print(findMaxProductThreeNumbers(A))"
   ],
   "outputs": [
    {
     "output_type": "stream",
     "name": "stdout",
     "text": [
      "60\n",
      "168\n"
     ]
    }
   ],
   "metadata": {}
  },
  {
   "cell_type": "code",
   "execution_count": null,
   "source": [],
   "outputs": [],
   "metadata": {}
  }
 ],
 "metadata": {
  "kernelspec": {
   "display_name": "Python 3 (ipykernel)",
   "language": "python",
   "name": "python3"
  },
  "language_info": {
   "codemirror_mode": {
    "name": "ipython",
    "version": 3
   },
   "file_extension": ".py",
   "mimetype": "text/x-python",
   "name": "python",
   "nbconvert_exporter": "python",
   "pygments_lexer": "ipython3",
   "version": "3.8.11"
  }
 },
 "nbformat": 4,
 "nbformat_minor": 5
}