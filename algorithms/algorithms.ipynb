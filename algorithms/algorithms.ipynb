{
 "cells": [
  {
   "cell_type": "markdown",
   "source": [
    "# Algorithms\n",
    "## &copy;  [Omkar Mehta](omehta2@illinois.edu) ##\n",
    "### Industrial and Enterprise Systems Engineering, The Grainger College of Engineering,  UIUC ###\n",
    "\n",
    "<hr style=\"border:2px solid blue\"> </hr>\n",
    "\n",
    "## 1. Trapping Rain Water\n",
    "\n",
    "Given n non-negative integers representing an elevation map where the width of each bar is 1, compute how much water it can trap after raining."
   ],
   "metadata": {}
  },
  {
   "cell_type": "code",
   "execution_count": 6,
   "source": [
    "def trap(height):\n",
    "    # ans to store the trapped rain water\n",
    "    ans = 0\n",
    "    # curr_index finds the index of the bar whose height is greater than the stack's top \n",
    "    curr_index = 0\n",
    "    # stack to store the indices of those bars whose heights are lesser than the stack's top\n",
    "    st = list()\n",
    "    # go through all indices until the end\n",
    "    while curr_index<len(height):\n",
    "        # while stack is not empty and height at current index is greater than the height at top index\n",
    "        while len(st)!=0 and height[curr_index]>height[st[-1]]:\n",
    "            print(f\"Popping {st[-1]} from the stack\")\n",
    "            # get the stack's top\n",
    "            top = st.pop()\n",
    "            # if stack becomes empty, break the loop. \n",
    "            # this situation will come when ans has been updated and the previous bars need to be removed from stack\n",
    "            if len(st)==0:\n",
    "                break\n",
    "            # distance is the width of the rectangle bounded between current index and the stack's top (new top+1)\n",
    "            distance = curr_index-st[-1]-1\n",
    "            print(f\"distance is {distance}\")\n",
    "            # height of the rectangle bounded. \n",
    "            bounded_height = min(height[curr_index], height[st[-1]]) - height[top]\n",
    "            print(f\"Bounded height is {bounded_height}\")\n",
    "            # add the area of the rectangle to the ans\n",
    "            ans += distance*bounded_height\n",
    "            print(f\"ans is {ans}\")\n",
    "        print(f\"Current height is lesser than stack's top index\")\n",
    "        print(f\"Appending {curr_index} to the stack\")\n",
    "        # append the current index to the stack\n",
    "        st.append(curr_index)\n",
    "        print(f\"Incrementing {curr_index} to {curr_index + 1}\")\n",
    "        curr_index += 1\n",
    "    \n",
    "    return ans\n",
    "height = [0,1,0,2,1,0,1,3,2,1,2,1]\n",
    "trap(height)"
   ],
   "outputs": [
    {
     "output_type": "stream",
     "name": "stdout",
     "text": [
      "Current height is lesser than stack's top index\n",
      "Appending 0 to the stack\n",
      "Incrementing 0 to 1\n",
      "Popping 0 from the stack\n",
      "Current height is lesser than stack's top index\n",
      "Appending 1 to the stack\n",
      "Incrementing 1 to 2\n",
      "Current height is lesser than stack's top index\n",
      "Appending 2 to the stack\n",
      "Incrementing 2 to 3\n",
      "Popping 2 from the stack\n",
      "distance is 1\n",
      "Bounded height is 1\n",
      "ans is 1\n",
      "Popping 1 from the stack\n",
      "Current height is lesser than stack's top index\n",
      "Appending 3 to the stack\n",
      "Incrementing 3 to 4\n",
      "Current height is lesser than stack's top index\n",
      "Appending 4 to the stack\n",
      "Incrementing 4 to 5\n",
      "Current height is lesser than stack's top index\n",
      "Appending 5 to the stack\n",
      "Incrementing 5 to 6\n",
      "Popping 5 from the stack\n",
      "distance is 1\n",
      "Bounded height is 1\n",
      "ans is 2\n",
      "Current height is lesser than stack's top index\n",
      "Appending 6 to the stack\n",
      "Incrementing 6 to 7\n",
      "Popping 6 from the stack\n",
      "distance is 2\n",
      "Bounded height is 0\n",
      "ans is 2\n",
      "Popping 4 from the stack\n",
      "distance is 3\n",
      "Bounded height is 1\n",
      "ans is 5\n",
      "Popping 3 from the stack\n",
      "Current height is lesser than stack's top index\n",
      "Appending 7 to the stack\n",
      "Incrementing 7 to 8\n",
      "Current height is lesser than stack's top index\n",
      "Appending 8 to the stack\n",
      "Incrementing 8 to 9\n",
      "Current height is lesser than stack's top index\n",
      "Appending 9 to the stack\n",
      "Incrementing 9 to 10\n",
      "Popping 9 from the stack\n",
      "distance is 1\n",
      "Bounded height is 1\n",
      "ans is 6\n",
      "Current height is lesser than stack's top index\n",
      "Appending 10 to the stack\n",
      "Incrementing 10 to 11\n",
      "Current height is lesser than stack's top index\n",
      "Appending 11 to the stack\n",
      "Incrementing 11 to 12\n"
     ]
    },
    {
     "output_type": "execute_result",
     "data": {
      "text/plain": [
       "6"
      ]
     },
     "metadata": {},
     "execution_count": 6
    }
   ],
   "metadata": {}
  },
  {
   "cell_type": "markdown",
   "source": [
    "## Longest Palindromic Substring | Set 1\n",
    "\n",
    "Given a string, find the longest substring which is palindrome. "
   ],
   "metadata": {}
  },
  {
   "cell_type": "markdown",
   "source": [
    "def "
   ],
   "metadata": {}
  }
 ],
 "metadata": {
  "orig_nbformat": 4,
  "language_info": {
   "name": "python",
   "version": "3.9.6",
   "mimetype": "text/x-python",
   "codemirror_mode": {
    "name": "ipython",
    "version": 3
   },
   "pygments_lexer": "ipython3",
   "nbconvert_exporter": "python",
   "file_extension": ".py"
  },
  "kernelspec": {
   "name": "python3",
   "display_name": "Python 3.9.6 64-bit"
  },
  "interpreter": {
   "hash": "b0fa6594d8f4cbf19f97940f81e996739fb7646882a419484c72d19e05852a7e"
  }
 },
 "nbformat": 4,
 "nbformat_minor": 2
}