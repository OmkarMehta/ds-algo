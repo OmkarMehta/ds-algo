{
 "cells": [
  {
   "cell_type": "markdown",
   "metadata": {},
   "source": [
    "# Algorithms\n",
    "## &copy;  [Omkar Mehta](omehta2@illinois.edu) ##\n",
    "### Industrial and Enterprise Systems Engineering, The Grainger College of Engineering,  UIUC ###\n",
    "\n",
    "<hr style=\"border:2px solid blue\"> </hr>\n",
    "\n",
    "## 1. Trapping Rain Water\n",
    "\n",
    "Given n non-negative integers representing an elevation map where the width of each bar is 1, compute how much water it can trap after raining."
   ]
  },
  {
   "cell_type": "code",
   "execution_count": 6,
   "metadata": {},
   "outputs": [
    {
     "name": "stdout",
     "output_type": "stream",
     "text": [
      "Current height is lesser than stack's top index\n",
      "Appending 0 to the stack\n",
      "Incrementing 0 to 1\n",
      "Popping 0 from the stack\n",
      "Current height is lesser than stack's top index\n",
      "Appending 1 to the stack\n",
      "Incrementing 1 to 2\n",
      "Current height is lesser than stack's top index\n",
      "Appending 2 to the stack\n",
      "Incrementing 2 to 3\n",
      "Popping 2 from the stack\n",
      "distance is 1\n",
      "Bounded height is 1\n",
      "ans is 1\n",
      "Popping 1 from the stack\n",
      "Current height is lesser than stack's top index\n",
      "Appending 3 to the stack\n",
      "Incrementing 3 to 4\n",
      "Current height is lesser than stack's top index\n",
      "Appending 4 to the stack\n",
      "Incrementing 4 to 5\n",
      "Current height is lesser than stack's top index\n",
      "Appending 5 to the stack\n",
      "Incrementing 5 to 6\n",
      "Popping 5 from the stack\n",
      "distance is 1\n",
      "Bounded height is 1\n",
      "ans is 2\n",
      "Current height is lesser than stack's top index\n",
      "Appending 6 to the stack\n",
      "Incrementing 6 to 7\n",
      "Popping 6 from the stack\n",
      "distance is 2\n",
      "Bounded height is 0\n",
      "ans is 2\n",
      "Popping 4 from the stack\n",
      "distance is 3\n",
      "Bounded height is 1\n",
      "ans is 5\n",
      "Popping 3 from the stack\n",
      "Current height is lesser than stack's top index\n",
      "Appending 7 to the stack\n",
      "Incrementing 7 to 8\n",
      "Current height is lesser than stack's top index\n",
      "Appending 8 to the stack\n",
      "Incrementing 8 to 9\n",
      "Current height is lesser than stack's top index\n",
      "Appending 9 to the stack\n",
      "Incrementing 9 to 10\n",
      "Popping 9 from the stack\n",
      "distance is 1\n",
      "Bounded height is 1\n",
      "ans is 6\n",
      "Current height is lesser than stack's top index\n",
      "Appending 10 to the stack\n",
      "Incrementing 10 to 11\n",
      "Current height is lesser than stack's top index\n",
      "Appending 11 to the stack\n",
      "Incrementing 11 to 12\n"
     ]
    },
    {
     "data": {
      "text/plain": [
       "6"
      ]
     },
     "execution_count": 6,
     "metadata": {},
     "output_type": "execute_result"
    }
   ],
   "source": [
    "def trap(height):\n",
    "    # ans to store the trapped rain water\n",
    "    ans = 0\n",
    "    # curr_index finds the index of the bar whose height is greater than the stack's top \n",
    "    curr_index = 0\n",
    "    # stack to store the indices of those bars whose heights are lesser than the stack's top\n",
    "    st = list()\n",
    "    # go through all indices until the end\n",
    "    while curr_index<len(height):\n",
    "        # while stack is not empty and height at current index is greater than the height at top index\n",
    "        while len(st)!=0 and height[curr_index]>height[st[-1]]:\n",
    "            print(f\"Popping {st[-1]} from the stack\")\n",
    "            # get the stack's top\n",
    "            top = st.pop()\n",
    "            # if stack becomes empty, break the loop. \n",
    "            # this situation will come when ans has been updated and the previous bars need to be removed from stack\n",
    "            if len(st)==0:\n",
    "                break\n",
    "            # distance is the width of the rectangle bounded between current index and the stack's top (new top+1)\n",
    "            distance = curr_index-st[-1]-1\n",
    "            print(f\"distance is {distance}\")\n",
    "            # height of the rectangle bounded. \n",
    "            bounded_height = min(height[curr_index], height[st[-1]]) - height[top]\n",
    "            print(f\"Bounded height is {bounded_height}\")\n",
    "            # add the area of the rectangle to the ans\n",
    "            ans += distance*bounded_height\n",
    "            print(f\"ans is {ans}\")\n",
    "        print(f\"Current height is lesser than stack's top index\")\n",
    "        print(f\"Appending {curr_index} to the stack\")\n",
    "        # append the current index to the stack\n",
    "        st.append(curr_index)\n",
    "        print(f\"Incrementing {curr_index} to {curr_index + 1}\")\n",
    "        curr_index += 1\n",
    "    \n",
    "    return ans\n",
    "height = [0,1,0,2,1,0,1,3,2,1,2,1]\n",
    "trap(height)"
   ]
  },
  {
   "cell_type": "markdown",
   "metadata": {},
   "source": [
    "## Longest Palindromic Substring | Set 1\n",
    "\n",
    "Given a string, find the longest substring which is palindrome. "
   ]
  },
  {
   "cell_type": "code",
   "execution_count": 11,
   "metadata": {},
   "outputs": [
    {
     "name": "stdout",
     "output_type": "stream",
     "text": [
      "Longest palindrome substring is: geeksskeeg\n",
      "Length is 10\n"
     ]
    }
   ],
   "source": [
    "def longestSubStr(str):\n",
    "    # n stores the length of the input string\n",
    "    n = len(str)\n",
    "    # table[i][j] will be true if str[i...j] is palindrome\n",
    "    table = [[0 for i in range(n)] for j in range(n)]\n",
    "\n",
    "    # palidnromes of size 1 \n",
    "    for i in range(n):\n",
    "        table[i][i] = True\n",
    "    \n",
    "    # stores the length of the longest palindrome\n",
    "    maxLength = 1\n",
    "\n",
    "    # check for substring of size 2\n",
    "    start = 0  # stores the start index of the longest palindrome\n",
    "    # go through all the indices, except the last one.\n",
    "    for i in range(n-1):\n",
    "        # if character at i is same as the next one\n",
    "        if str[i] == str[i+1]:\n",
    "            # update table\n",
    "            table[i][i+1] = True\n",
    "            # update start\n",
    "            start = i\n",
    "            maxLength = 2\n",
    "    \n",
    "    # check for substring of size k\n",
    "    for k in range(3, n+1):\n",
    "        # fix the starting index\n",
    "        i = 0\n",
    "        while i<n-k+1:\n",
    "            # get the last index\n",
    "            j = i+k-1\n",
    "            # if the str[i+1 .... j-1] is palindrome and str[i]==str[j], then update table[i][j]\n",
    "            if table[i+1][j-1] == True and str[i]==str[j]:\n",
    "                table[i][j] = True\n",
    "                # if k is greater than maxLength, update maxLength\n",
    "                if k>maxLength:\n",
    "                    start = i\n",
    "                    maxLength = k\n",
    "            i += 1\n",
    "    print(\"Longest palindrome substring is: {}\".format(str[start:start+maxLength]))\n",
    "    return maxLength\n",
    "\n",
    "\n",
    "st = \"forgeeksskeegfor\"\n",
    "l = longestSubStr(st)\n",
    "print(f\"Length is {l}\")"
   ]
  },
  {
   "cell_type": "markdown",
   "metadata": {},
   "source": [
    "## 3. Islands in a graph using BFS\n",
    "\n",
    "Given a boolean 2D matrix, find the number of islands. A group of connected 1s forms an island. For example, the below matrix contains 5 islands\n",
    "\n",
    "Example:  \n",
    "```\n",
    "Input : mat[][] = {{1, 1, 0, 0, 0},\n",
    "                   {0, 1, 0, 0, 1},\n",
    "                   {1, 0, 0, 1, 1},\n",
    "                   {0, 0, 0, 0, 0},\n",
    "                   {1, 0, 1, 0, 1} \n",
    "Output : 5\n",
    "```"
   ]
  },
  {
   "cell_type": "code",
   "execution_count": 16,
   "metadata": {},
   "outputs": [
    {
     "name": "stdout",
     "output_type": "stream",
     "text": [
      "5\n"
     ]
    }
   ],
   "source": [
    "from collections import deque\n",
    "R = 5\n",
    "C = 5\n",
    "# A function to check if a given cell\n",
    "# (u, v) can be included in DFS\n",
    "def isSafe(mat, i, j, visited):\n",
    "    return i>=0 and j>=0 and i<R and j<C and mat[i][j] and not visited[i][j]\n",
    "\n",
    "# This function returns number islands (connected\n",
    "# components) in a graph. It simply works as\n",
    "# BFS for disconnected graph and returns count\n",
    "# of BFS calls.\n",
    "def countIslands(mat):\n",
    "    # Mark all cells as not visited\n",
    "    visited = [[False for i in range(C)] for j in range(R)]\n",
    "    # Call BFS for every unvisited vertex\n",
    "    # Whenever we see an univisted vertex,\n",
    "    # we increment res (number of islands)\n",
    "    # also.\n",
    "    res = 0\n",
    "    for i in range(R):\n",
    "        for j in range(C):\n",
    "            if mat[i][j] and not visited[i][j]:\n",
    "                BFS(mat, visited, i, j)\n",
    "                res += 1\n",
    "    return res\n",
    "\n",
    "def BFS(mat, visited, i, j):\n",
    "    # These arrays are used to get row and\n",
    "    # column numbers of 8 neighbours of\n",
    "    # a given cell\n",
    "    row = [-1, -1, -1, 0, 0, 1, 1, 1]\n",
    "    col = [-1, 0, 1, -1, 1, -1, 0, 1]\n",
    "\n",
    "    # Simple BFS first step, we enqueue\n",
    "    # source and mark it as visited\n",
    "    q = deque()\n",
    "    q.append([i, j])\n",
    "    visited[i][j] = True\n",
    "\n",
    "    # Next step of BFS. We take out\n",
    "    # items one by one from queue and\n",
    "    # enqueue their univisited adjacent\n",
    "    while len(q)>0:\n",
    "        temp = q.popleft()\n",
    "        i = temp[0]\n",
    "        j = temp[1]\n",
    "\n",
    "        # Go through all 8 adjacent\n",
    "        for k in range(8):\n",
    "            if isSafe(mat, i+row[k], j+col[k], visited):\n",
    "                visited[i+row[k]][j+col[k]] = True\n",
    "                q.append([i+row[k], j+col[k]])\n",
    "# Driver code\n",
    "if __name__ == '__main__':\n",
    "     \n",
    "    mat = [ [ 1, 1, 0, 0, 0 ],\n",
    "            [ 0, 1, 0, 0, 1 ],\n",
    "            [ 1, 0, 0, 1, 1 ],\n",
    "            [ 0, 0, 0, 0, 0 ],\n",
    "            [ 1, 0, 1, 0, 1 ]]\n",
    " \n",
    "    print (countIslands(mat))"
   ]
  },
  {
   "cell_type": "markdown",
   "metadata": {},
   "source": [
    "## 4. Median of two sorted arrays of same size\n",
    "\n",
    "There are 2 sorted arrays A and B of size n each. Write an algorithm to find the median of the array obtained after merging the above 2 arrays(i.e. array of length 2n). The complexity should be O(log(n)). "
   ]
  },
  {
   "cell_type": "code",
   "execution_count": null,
   "metadata": {},
   "outputs": [],
   "source": []
  },
  {
   "cell_type": "markdown",
   "metadata": {},
   "source": [
    "## 5. Merge k Sorted Lists\n",
    "\n",
    "You are given an array of `k` linked-lists `lists`, each linked-list is sorted in ascending order. Merge all the linked-lists into one sorted linked-list and return it.*"
   ]
  },
  {
   "cell_type": "code",
   "execution_count": null,
   "metadata": {},
   "outputs": [],
   "source": []
  },
  {
   "cell_type": "markdown",
   "metadata": {},
   "source": [
    "## 6. Merge Intervals\n",
    "\n",
    "Given an array of intervals where intervals[i] = [starti, endi], merge all overlapping intervals, and return an array of the non-overlapping intervals that cover all the intervals in the input.\n",
    "\n",
    " \n",
    "```\n",
    "Example 1:\n",
    "\n",
    "Input: intervals = [[1,3],[2,6],[8,10],[15,18]]\n",
    "Output: [[1,6],[8,10],[15,18]]\n",
    "Explanation: Since intervals [1,3] and [2,6] overlaps, merge them into [1,6].\n",
    "\n",
    "```"
   ]
  },
  {
   "cell_type": "code",
   "execution_count": null,
   "metadata": {},
   "outputs": [],
   "source": []
  },
  {
   "cell_type": "markdown",
   "metadata": {},
   "source": [
    "## 7. Minimum Number of Platforms Required for a Railway/Bus Station\n",
    "\n",
    "Minimum Number of Platforms Required for a Railway/Bus Station\n",
    "Difficulty Level : Medium\n",
    "Last Updated : 06 Aug, 2021\n",
    "Given the arrival and departure times of all trains that reach a railway station, the task is to find the minimum number of platforms required for the railway station so that no train waits. \n",
    "We are given two arrays that represent the arrival and departure times of trains that stop.\n",
    "```\n",
    "Examples: \n",
    "\n",
    "Input: arr[] = {9:00, 9:40, 9:50, 11:00, 15:00, 18:00} \n",
    "dep[] = {9:10, 12:00, 11:20, 11:30, 19:00, 20:00} \n",
    "Output: 3 \n",
    "Explanation: There are at-most three trains at a time (time between 11:00 to 11:20)\n",
    "\n",
    "Input: arr[] = {9:00, 9:40} \n",
    "dep[] = {9:10, 12:00} \n",
    "Output: 1 \n",
    "Explanation: Only one platform is needed. \n",
    "```"
   ]
  },
  {
   "cell_type": "code",
   "execution_count": null,
   "metadata": {},
   "outputs": [],
   "source": []
  },
  {
   "cell_type": "markdown",
   "metadata": {},
   "source": [
    "## 8. Design a data structure that supports insert, delete, search and getRandom in constant time\n",
    "```\n",
    "Design a data structure that supports the following operations in Θ(1) time.\n",
    "insert(x): Inserts an item x to the data structure if not already present.\n",
    "remove(x): Removes item x from the data structure if present. \n",
    "search(x): Searches an item x in the data structure.\n",
    "getRandom(): Returns a random element from current set of elements \n",
    "```"
   ]
  },
  {
   "cell_type": "code",
   "execution_count": null,
   "metadata": {},
   "outputs": [],
   "source": []
  },
  {
   "cell_type": "markdown",
   "metadata": {},
   "source": [
    "## 9. Iterative Letter Combinations of a Phone Number\n",
    "\n",
    "Given an integer array containing digits from [0, 9], the task is to print all possible letter combinations that the numbers could represent. \n",
    "\n",
    "A mapping of digit to letters (just like on the telephone buttons) is being followed. Note that 0 and 1 do not map to any letters. All the mapping are shown in the image below: \n",
    "\n",
    "![image](https://media.geeksforgeeks.org/wp-content/cdn-uploads/Mobile-keypad-267x300.png)\n",
    "\n",
    "Example: \n",
    "\n",
    "Input: arr[] = {2, 3} \n",
    "Output: ad ae af bd be bf cd ce cf\n",
    "\n",
    "\n",
    "\n",
    "Input: arr[] = {9} \n",
    "Output: w x y z "
   ]
  },
  {
   "cell_type": "code",
   "execution_count": null,
   "metadata": {},
   "outputs": [],
   "source": []
  },
  {
   "cell_type": "markdown",
   "metadata": {},
   "source": [
    "## 10. Word Ladder (Length of shortest chain to reach a target word)\n",
    "\n",
    "Given a dictionary, and two words ‘start’ and ‘target’ (both of same length). Find length of the smallest chain from ‘start’ to ‘target’ if it exists, such that adjacent words in the chain only differ by one character and each word in the chain is a valid word i.e., it exists in the dictionary. It may be assumed that the ‘target’ word exists in dictionary and length of all dictionary words is same. \n",
    "\n",
    "```\n",
    "\n",
    "Example: \n",
    "\n",
    "Input: Dictionary = {POON, PLEE, SAME, POIE, PLEA, PLIE, POIN}\n",
    "       start = TOON\n",
    "       target = PLEA\n",
    "Output: 7\n",
    "TOON - POON - POIN - POIE - PLIE - PLEE - PLEA\n",
    "\n",
    "Input: Dictionary = {ABCD, EBAD, EBCD, XYZA}\n",
    "       Start = ABCV\n",
    "       End = EBAD\n",
    "Output: 4\n",
    "ABCV - ABCD - EBCD - EBAD\n",
    "```"
   ]
  },
  {
   "cell_type": "markdown",
   "metadata": {},
   "source": [
    "## 11. Time Based Key-Value Store\n",
    "\n",
    "Design a time-based key-value data structure that can store multiple values for the same key at different time stamps and retrieve the key's value at a certain timestamp.\n",
    "\n",
    "Implement the TimeMap class:\n",
    "\n",
    "* TimeMap() Initializes the object of the data structure.\n",
    "* void set(String key, String value, int timestamp) Stores the key key with the value value at the given time timestamp.\n",
    "* String get(String key, int timestamp) Returns a value such that set was called previously, with timestamp_prev <= timestamp. If there are multiple such values, it returns the value associated with the largest timestamp_prev. If there are no values, it returns \"\"\n",
    "\n",
    "```\n",
    "Example 1:\n",
    "\n",
    "Input\n",
    "[\"TimeMap\", \"set\", \"get\", \"get\", \"set\", \"get\", \"get\"]\n",
    "[[], [\"foo\", \"bar\", 1], [\"foo\", 1], [\"foo\", 3], [\"foo\", \"bar2\", 4], [\"foo\", 4], [\"foo\", 5]]\n",
    "Output\n",
    "[null, null, \"bar\", \"bar\", null, \"bar2\", \"bar2\"]\n",
    "\n",
    "Explanation\n",
    "TimeMap timeMap = new TimeMap();\n",
    "timeMap.set(\"foo\", \"bar\", 1);  // store the key \"foo\" and value \"bar\" along with timestamp = 1.\n",
    "timeMap.get(\"foo\", 1);         // return \"bar\"\n",
    "timeMap.get(\"foo\", 3);         // return \"bar\", since there is no value corresponding to foo at timestamp 3 and timestamp 2, then the only value is at timestamp 1 is \"bar\".\n",
    "timeMap.set(\"foo\", \"bar2\", 4); // store the key \"foo\" and value \"ba2r\" along with timestamp = 4.\n",
    "timeMap.get(\"foo\", 4);         // return \"bar2\"\n",
    "timeMap.get(\"foo\", 5);         // return \"bar2\"\n",
    "```"
   ]
  },
  {
   "cell_type": "code",
   "execution_count": 13,
   "metadata": {},
   "outputs": [
    {
     "name": "stdout",
     "output_type": "stream",
     "text": [
      "bar\n",
      "bar\n",
      "bar2\n",
      "bar2\n"
     ]
    }
   ],
   "source": [
    "def floorkey(dictionary, key):\n",
    "    if key in dictionary:\n",
    "        return key\n",
    "    return max(k for k in dictionary if k<key)\n",
    "\n",
    "class TimeMap:\n",
    "    def __init__(self):\n",
    "        # initialize map as empty dictionary which stores (key: {timestamp: value})\n",
    "        self.map = {}\n",
    "    def set(self, key, value, timestamp):\n",
    "        # if key is not in map, add (key, empty dictionary) to map\n",
    "        if key not in self.map:\n",
    "            self.map[key] = {}\n",
    "        # get the dictionary stored at key and add timestamp-value pair to the map\n",
    "        self.map.get(key)[timestamp] = value\n",
    "    def get(self, key, timestamp):\n",
    "        # get the dictionary stored at key\n",
    "        dictionary = self.map.get(key)\n",
    "        # if dictionary is not present, return None\n",
    "        if len(dictionary)==0:\n",
    "            return \"\"\n",
    "        # get the floor key (key just less than or equal to timestamp)\n",
    "        floorKey = floorkey(dictionary, timestamp)\n",
    "        # if it is None, return None\n",
    "        if floorKey is None:\n",
    "            return \"\"\n",
    "        # return the value stored at timestamp\n",
    "        return dictionary.get(floorKey)\n",
    "\n",
    "t = TimeMap()\n",
    "t.set(\"foo\", \"bar\", 1)\n",
    "print(t.get(\"foo\", 1))\n",
    "print(t.get(\"foo\", 3))\n",
    "t.set(\"foo\", \"bar2\", 4)\n",
    "print(t.get(\"foo\", 4))\n",
    "print(t.get(\"foo\", 5))"
   ]
  },
  {
   "cell_type": "code",
   "execution_count": null,
   "metadata": {},
   "outputs": [],
   "source": []
  }
 ],
 "metadata": {
  "interpreter": {
   "hash": "b0fa6594d8f4cbf19f97940f81e996739fb7646882a419484c72d19e05852a7e"
  },
  "kernelspec": {
   "display_name": "Python 3 (ipykernel)",
   "language": "python",
   "name": "python3"
  },
  "language_info": {
   "codemirror_mode": {
    "name": "ipython",
    "version": 3
   },
   "file_extension": ".py",
   "mimetype": "text/x-python",
   "name": "python",
   "nbconvert_exporter": "python",
   "pygments_lexer": "ipython3",
   "version": "3.8.11"
  }
 },
 "nbformat": 4,
 "nbformat_minor": 2
}
