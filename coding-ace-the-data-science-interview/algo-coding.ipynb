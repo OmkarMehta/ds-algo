{
 "cells": [
  {
   "cell_type": "markdown",
   "id": "013bc3a6",
   "metadata": {},
   "source": [
    "# 1. [Amazon] Intersection of two arrays\n"
   ]
  },
  {
   "cell_type": "code",
   "execution_count": 1,
   "id": "6c811709",
   "metadata": {},
   "outputs": [
    {
     "name": "stdout",
     "output_type": "stream",
     "text": [
      "intersection : [1]\n"
     ]
    }
   ],
   "source": [
    "def intersection(a, b):\n",
    "    set_a = set(a)\n",
    "    set_b = set(b)\n",
    "    if len(set_a)<len(set_b):\n",
    "        return [x for x in set_a if x in set_b]\n",
    "    else:\n",
    "        return [x for x in set_b if x in set_a]\n",
    "a = [1, 2, 3]\n",
    "b = [1]\n",
    "print(f\"intersection : {intersection(a, b)}\")"
   ]
  },
  {
   "cell_type": "markdown",
   "id": "08b154c1",
   "metadata": {},
   "source": [
    "# 2. [D. E. Shaw] Return the maximum product of any three numbers"
   ]
  },
  {
   "cell_type": "code",
   "execution_count": 3,
   "id": "b439a258",
   "metadata": {},
   "outputs": [
    {
     "name": "stdout",
     "output_type": "stream",
     "text": [
      "max product of three numbers in arr : 40\n"
     ]
    }
   ],
   "source": [
    "import heapq\n",
    "def max_three(arr):\n",
    "    a = heapq.nlargest(3, arr)\n",
    "    b = heapq.nsmallest(2, arr)\n",
    "    return max(a[2] * a[1] * a[0], b[1] * b[0] * a[0])\n",
    "arr = [-2, -4, 5, 3]\n",
    "print(f\"max product of three numbers in arr : {max_three(arr)}\")"
   ]
  },
  {
   "cell_type": "markdown",
   "id": "3cd2d1ec",
   "metadata": {},
   "source": [
    "# 3. [Facebook] Function to find the k closest points to the origin"
   ]
  },
  {
   "cell_type": "code",
   "execution_count": 4,
   "id": "87faa159",
   "metadata": {},
   "outputs": [
    {
     "name": "stdout",
     "output_type": "stream",
     "text": [
      "3 closest points to origin are : [[-1, -1], [2, -1], [-2, 2]]\n"
     ]
    }
   ],
   "source": [
    "from heapq import heappush, heappop\n",
    "def closest(points, k):\n",
    "    def get_dist(x, y):\n",
    "        return x**2 + y**2\n",
    "    min_heap = []\n",
    "    n = len(points)\n",
    "    for i in range(n):\n",
    "        x = points[i][0]\n",
    "        y = points[i][1]\n",
    "        heappush(min_heap, (get_dist(x, y), points[i]))\n",
    "    res = []\n",
    "    for i in range(k):\n",
    "        res.append(heappop(min_heap)[1])\n",
    "    return res\n",
    "\n",
    "points = [[2, -1], [3, 2], [4, 1], [-1, -1], [-2, 2]]\n",
    "k = 3\n",
    "print(f\"{k} closest points to origin are : {closest(points, k)}\")"
   ]
  },
  {
   "cell_type": "markdown",
   "id": "1df020c3",
   "metadata": {},
   "source": [
    "# 4. [Google] Return the kth smallest element of the matrix\n"
   ]
  },
  {
   "cell_type": "code",
   "execution_count": 5,
   "id": "214b18b4",
   "metadata": {},
   "outputs": [
    {
     "name": "stdout",
     "output_type": "stream",
     "text": [
      "4-th smallest element of matrix is : 5\n"
     ]
    }
   ],
   "source": [
    "from heapq import heappush, heappop\n",
    "def smallest(ma, k):\n",
    "    n = len(mat)\n",
    "    min_heap = []\n",
    "    for i in range(min(k, n)):\n",
    "        for j in range(min(k, n)):\n",
    "            heappush(min_heap, mat[i][j])\n",
    "    for _ in range(k):\n",
    "        res = heappop(min_heap)\n",
    "    return res\n",
    "mat = [[1, 4, 7], [3, 5, 9], [6, 8, 11]]\n",
    "k = 4\n",
    "print(f\"{k}-th smallest element of matrix is : {smallest(mat, k)}\")"
   ]
  },
  {
   "cell_type": "markdown",
   "id": "81054235",
   "metadata": {},
   "source": [
    "# 5. [Akuna Capital] Given an integer array, find the sum of the largest contiguous subarray within the array.\n",
    "\n"
   ]
  },
  {
   "cell_type": "code",
   "execution_count": 6,
   "id": "400d129d",
   "metadata": {},
   "outputs": [
    {
     "name": "stdout",
     "output_type": "stream",
     "text": [
      "sum of largest contiguous subarray is 11\n"
     ]
    }
   ],
   "source": [
    "def max_subarray(arr):\n",
    "    n = len(arr)\n",
    "    max_sum = arr[0]\n",
    "    curr_sum = 0\n",
    "    for i in range(n):\n",
    "        curr_sum += arr[i]\n",
    "        max_sum = max(max_sum, curr_sum)\n",
    "        if curr_sum<0:\n",
    "            curr_sum = 0\n",
    "    return max_sum\n",
    "arr = [-1, -3, 5, -4, 3, -6, 9, 2]\n",
    "print(f\"sum of largest contiguous subarray is {max_subarray(arr)}\")"
   ]
  },
  {
   "cell_type": "markdown",
   "id": "d736175c",
   "metadata": {},
   "source": [
    "# 6. [Facebook] Given a binary tree, write a function to determine whether the tree is a mirror image of itself.\n",
    "\n"
   ]
  },
  {
   "cell_type": "code",
   "execution_count": 7,
   "id": "8147eca4",
   "metadata": {},
   "outputs": [],
   "source": [
    "class TreeNode:\n",
    "    def __init__(self, val):\n",
    "        self.val = val\n",
    "        self.left = None\n",
    "        self.right = None\n",
    "\n",
    "def is_mirror(root):\n",
    "    if root is None:\n",
    "        return True\n",
    "    return helper(root.left, root.right)\n",
    "\n",
    "def helper(x, y):\n",
    "    if x is None and y is None:\n",
    "        return True\n",
    "    elif x is None or y is None:\n",
    "        return False\n",
    "    else:\n",
    "        return x.val==y.val and helper(x.left, y.right) and helper(x.right, y.left)\n"
   ]
  },
  {
   "cell_type": "markdown",
   "id": "537593ed",
   "metadata": {},
   "source": [
    "# 7. [Google] Function to find the index of any peak elements. A peak element is greater than its neighbors.\n",
    "\n"
   ]
  },
  {
   "cell_type": "code",
   "execution_count": 13,
   "id": "8c82945e",
   "metadata": {},
   "outputs": [
    {
     "name": "stdout",
     "output_type": "stream",
     "text": [
      "peak element is 3\n"
     ]
    }
   ],
   "source": [
    "def get_peak(arr):\n",
    "    n = len(arr)\n",
    "    start = 0\n",
    "    end = n-1\n",
    "    while True:\n",
    "        mid = (start+end)//2\n",
    "        left = arr[mid-1] if mid-1>=0 else float('-inf')\n",
    "        right = arr[mid+1] if mid+1<n else float('-inf')\n",
    "        if left<arr[mid] and right<arr[mid]:\n",
    "            return mid\n",
    "        elif right>arr[mid]:\n",
    "            start = mid + 1\n",
    "        else:\n",
    "            end = mid - 1\n",
    "arr = [3, 5, 2, 4, 1]\n",
    "print(f\"peak element is {get_peak(arr)}\")"
   ]
  },
  {
   "cell_type": "markdown",
   "id": "cd03fc5f",
   "metadata": {},
   "source": [
    "# 8. [AQR] Given two lists X and Y, return their correlation"
   ]
  },
  {
   "cell_type": "code",
   "execution_count": 14,
   "id": "79ad1e46",
   "metadata": {},
   "outputs": [],
   "source": [
    "import math\n",
    "def mean(x):\n",
    "    return sum(x)/len(x)\n",
    "def sd(x):\n",
    "    m = mean(x)\n",
    "    ss = sum((i-m)**2 for i in x)\n",
    "    return math.sqrt(ss/len(x))\n",
    "\n",
    "def corr(x, y):\n",
    "    x_m = mean(x)\n",
    "    y_m = mean(y)\n",
    "    xy_d = []\n",
    "    for i in range(len(x)):\n",
    "        x_d = x[i] - x_m\n",
    "        y_d = y[i] - y_m\n",
    "        xy_d.append(x_d * y_d)\n",
    "    return mean(xy_d)/sd(x)/sd(y)"
   ]
  },
  {
   "cell_type": "markdown",
   "id": "db57a9d8",
   "metadata": {},
   "source": [
    "# 9. [Amazon] Given a binary tree, write a function to determine the diameter of the tree.\n",
    "\n",
    "## Time Complexity: O(N) and Space Complexity: O(N)"
   ]
  },
  {
   "cell_type": "code",
   "execution_count": 1,
   "id": "0d80d250",
   "metadata": {},
   "outputs": [],
   "source": [
    "class TreeNode:\n",
    "    def __init__(self, val):\n",
    "        self.val = val\n",
    "        self.left = None\n",
    "        self.right = None\n",
    "\n",
    "def calc_diameter(root):\n",
    "    def depth(root, diameter): # helper\n",
    "        if root is None:\n",
    "            return 0, diameter\n",
    "        left, diameter = depth(root.left, diameter)\n",
    "        right, diameter = depth(root.right, diameter)\n",
    "        diameter = max(diameter, left+right) # update diameter\n",
    "        return max(left, right)+1, diameter # return root's longest path\n",
    "    depth, diameter = depth(root, 0)\n",
    "    return diameter\n",
    "\n",
    "\n",
    "        "
   ]
  },
  {
   "cell_type": "markdown",
   "id": "548ab023",
   "metadata": {},
   "source": [
    "# 10. [D. E. Shaw] Given a target number, generate a random sample of n integers that sum to that target that are also within $ \\sigma $ standard deviations of the mean\n",
    "\n",
    "## Time Complexity: $ O(max(\\sigma*T), N) $ and Space complexity: O(N)"
   ]
  },
  {
   "cell_type": "code",
   "execution_count": 2,
   "id": "20e5f2df",
   "metadata": {},
   "outputs": [],
   "source": [
    "import random\n",
    "\n",
    "def generate_nums(target, n, sigma):\n",
    "    mean = target/n\n",
    "    sd = int(sigma*mean)\n",
    "    max_val, min_val = mean + sd, mean - sd\n",
    "    results = [min_val] * n\n",
    "    remaining = target - n * min_val\n",
    "    \n",
    "    while remaining>0:\n",
    "        a = random.randint(0, n-1) # choose random index\n",
    "        if results[a]>=max_val: #skip if above bound\n",
    "            continue\n",
    "        results[a] += min(remaining, 1)\n",
    "        remaining -= 1\n",
    "    return results\n",
    "            \n",
    "        "
   ]
  },
  {
   "cell_type": "markdown",
   "id": "29212f57",
   "metadata": {},
   "source": [
    "# 11. [Facebook] Given a social graph and two users, write a function to return the smallest number of friendships between the two users. \n",
    "\n",
    "## Time Complexity: O(N*M) and Space Complexity: O(N)"
   ]
  },
  {
   "cell_type": "code",
   "execution_count": 3,
   "id": "e1fdb8ed",
   "metadata": {},
   "outputs": [],
   "source": [
    "import queue\n",
    "\n",
    "def friendship_distance(n, edges, x, y):\n",
    "    distance = [0] * n # distances from x\n",
    "    processed = [False] * n # visited or not already\n",
    "    q = queue.Queue()\n",
    "    q.put(x)\n",
    "    processed[x] = True\n",
    "    while (not q.empty()):\n",
    "        curr = q.get() # current node\n",
    "        if curr not in edges:\n",
    "            continue\n",
    "        for neighbor in range(len(edges[curr])):\n",
    "            if not processed[edges[curr][neighbor]]: # process if not visited\n",
    "                distance[edges[curr][neighbor]] = distance(curr) + 1\n",
    "                q.put(edges[curr][neighbor]) # add neighbor\n",
    "                processed[edges[curr][neighbor]] = True\n",
    "    return distance[y]"
   ]
  },
  {
   "cell_type": "markdown",
   "id": "67253b09",
   "metadata": {},
   "source": [
    "# 12. [LinkedIn] Given two strings A and B, write a function to return a list of all the start indices within A where the substring of A is an anagram of B. \n",
    "\n",
    "## Time Complexity: O(NK), Space complexity: O(N)"
   ]
  },
  {
   "cell_type": "code",
   "execution_count": 4,
   "id": "a304f59f",
   "metadata": {},
   "outputs": [],
   "source": [
    "def total_anagrams(A, B):\n",
    "    n, k = len(A), len(B)\n",
    "    if n<k:\n",
    "        return []\n",
    "    \n",
    "    def is_anagram(d_a, d_b):\n",
    "        for x in d_a:\n",
    "            if x not in d_a: # key doesn't exist\n",
    "                return False\n",
    "            if d_b[x] != d_a[x]: # count doesn't match\n",
    "                return False\n",
    "        return True\n",
    "    \n",
    "    def add(char, d): # tracking char freq\n",
    "        if char in d:\n",
    "            d[char] += 1\n",
    "        else:\n",
    "            d[char] = 1\n",
    "        return d\n",
    "    \n",
    "    d_a, d_b = {}, {}\n",
    "    start, res = 0, []\n",
    "    for i in range(k):\n",
    "        d_a = add(A[i], d_a) # set up dictionary for A\n",
    "        d_b = add(B[i], d_b) # set up dictionary for B\n",
    "    \n",
    "    for i in range(k, n+1):\n",
    "        if is_anagram(d_a, d_b):\n",
    "            res.append(start)\n",
    "        if i<n:\n",
    "            d_a = add(A[i], d_a) # add next char of window to dict\n",
    "        d_a[A[start]] -= 1 # remove leftmost char of window from dict\n",
    "        start += 1\n",
    "    return res\n"
   ]
  },
  {
   "cell_type": "markdown",
   "id": "7e57d485",
   "metadata": {},
   "source": [
    "# 13. [Yelp] You are given an array of intervals, where each interval is represented by a start time and an end time, such as [1, 3]. Determine the smallest number of intervals to remove from the list, such that the rest of the intervals do not overlap.\n",
    "\n",
    "## Time complexity: O(N), Space Complexity: O(1)"
   ]
  },
  {
   "cell_type": "code",
   "execution_count": 5,
   "id": "9b66a3bb",
   "metadata": {},
   "outputs": [],
   "source": [
    "def interval_removal(interval_list):\n",
    "    if len(interval_list) == 0:\n",
    "        return 0\n",
    "    intervals = sorted(interval_list, key = lambda k: (k[0], k[1])) # sort\n",
    "    res, low, count = 0, 0, 0\n",
    "    for high in range(1, len(intervals)):\n",
    "        if intervals[low][1] > intervals[high][0]: # overlap\n",
    "            count += 1\n",
    "        if not intervals[high][0] < intervals[low][1] < intervals[high][1]:\n",
    "            low = high # merge\n",
    "    return count"
   ]
  },
  {
   "cell_type": "markdown",
   "id": "47f7629c",
   "metadata": {},
   "source": [
    "# 14. [Goldman Sachs] Given an array of strings, return a list of lists where each list contains the strings that are anagrams of one another. "
   ]
  },
  {
   "cell_type": "code",
   "execution_count": null,
   "id": "640bce4f",
   "metadata": {},
   "outputs": [],
   "source": [
    "def anagram_"
   ]
  },
  {
   "cell_type": "markdown",
   "id": "f1b94377",
   "metadata": {},
   "source": [
    "# 15. [Two Sigma] Define a friend group to be any group that is either directly or indirectly friends. Given an n-by-n adjacency matrix N, where N[i][j] is one of person i and j are friends, and zero otherwise, write a function to determine how many friend groups exist."
   ]
  },
  {
   "cell_type": "code",
   "execution_count": null,
   "id": "fa2b3b69",
   "metadata": {},
   "outputs": [],
   "source": []
  },
  {
   "cell_type": "markdown",
   "id": "db321643",
   "metadata": {},
   "source": [
    "# 16. [Workday] Given a linked list, return the head of the same linked list, but with k-th node from the end of a linked list removed."
   ]
  },
  {
   "cell_type": "code",
   "execution_count": null,
   "id": "3680c398",
   "metadata": {},
   "outputs": [],
   "source": []
  },
  {
   "cell_type": "markdown",
   "id": "04798807",
   "metadata": {},
   "source": [
    "# 17. [Goldman Sachs] Estimate $ \\pi $ using a Monte Carlo method. Hint: think about throwing darts on a square and seeing where they land within a circle."
   ]
  },
  {
   "cell_type": "code",
   "execution_count": null,
   "id": "8358bb02",
   "metadata": {},
   "outputs": [],
   "source": []
  },
  {
   "cell_type": "markdown",
   "id": "d3e5570a",
   "metadata": {},
   "source": [
    "# 18. [Palantir] Given a string with lowercase letters and left and right parentheses, remove the minimum number of parentheses so the string is valid (every left parenthesis is correctly matched by a corresponding right parenthesis). "
   ]
  },
  {
   "cell_type": "code",
   "execution_count": null,
   "id": "e170a57d",
   "metadata": {},
   "outputs": [],
   "source": []
  },
  {
   "cell_type": "markdown",
   "id": "00340978",
   "metadata": {},
   "source": [
    "# 19. [Citadel] Given a list of one or more distinct integers, write a function to generate all permutations of those integers. "
   ]
  },
  {
   "cell_type": "code",
   "execution_count": null,
   "id": "21f3a1cd",
   "metadata": {},
   "outputs": [],
   "source": []
  },
  {
   "cell_type": "markdown",
   "id": "8baca1a9",
   "metadata": {},
   "source": [
    "# 20. [Two Sigma] Given a list of several categories, sample from the list of categories according to a particular relative weighting scheme. How do we construct the sampling? How do you extend the solution to an arbitrarily large number of $k$ categories?"
   ]
  },
  {
   "cell_type": "code",
   "execution_count": null,
   "id": "da6ac1c8",
   "metadata": {},
   "outputs": [],
   "source": []
  },
  {
   "cell_type": "markdown",
   "id": "f2b436c1",
   "metadata": {},
   "source": [
    "# 21. [Amazon] Given two arrays with integers, return the maximum length of a common subarray within both arrays. "
   ]
  },
  {
   "cell_type": "code",
   "execution_count": null,
   "id": "68735005",
   "metadata": {},
   "outputs": [],
   "source": []
  },
  {
   "cell_type": "markdown",
   "id": "08caea58",
   "metadata": {},
   "source": [
    "# 22. [Uber] Given a list of positive integers, return the maximum increasing subsequence sum"
   ]
  },
  {
   "cell_type": "code",
   "execution_count": null,
   "id": "53b8e4a1",
   "metadata": {},
   "outputs": [],
   "source": []
  },
  {
   "cell_type": "markdown",
   "id": "a2815eff",
   "metadata": {},
   "source": [
    "# 23. [Palantir] Given a positive integer n, find the smallest number of perfect squares that sum up to n."
   ]
  },
  {
   "cell_type": "code",
   "execution_count": null,
   "id": "d2f093ea",
   "metadata": {},
   "outputs": [],
   "source": []
  },
  {
   "cell_type": "markdown",
   "id": "ed89c118",
   "metadata": {},
   "source": [
    "# 24. [Facebook] Given an integer n and an integer k, output a list of all the combinations of k numbers chosen from 1 to n."
   ]
  },
  {
   "cell_type": "code",
   "execution_count": null,
   "id": "d0deeef2",
   "metadata": {},
   "outputs": [],
   "source": []
  },
  {
   "cell_type": "markdown",
   "id": "36e72c3e",
   "metadata": {},
   "source": [
    "# 25. [Citadel] Given a string with left and right parentheses, write a function to determine the length of the longest well-formed substring. "
   ]
  },
  {
   "cell_type": "code",
   "execution_count": null,
   "id": "6da2044b",
   "metadata": {},
   "outputs": [],
   "source": []
  },
  {
   "cell_type": "markdown",
   "id": "229f85cc",
   "metadata": {},
   "source": [
    "# 26. [Bloomberg] Given an m-by-n matrix with positive integers, determine the length of the longest path of increasing integers within the matrix. "
   ]
  },
  {
   "cell_type": "code",
   "execution_count": null,
   "id": "3480bed4",
   "metadata": {},
   "outputs": [],
   "source": []
  },
  {
   "cell_type": "markdown",
   "id": "00ce22f9",
   "metadata": {},
   "source": [
    "# 27. [Google] Given a number n, return the number of lists of consecutive positive integers that sum up to n. Can you solve this in linear time?\n"
   ]
  },
  {
   "cell_type": "code",
   "execution_count": null,
   "id": "f1bcfb01",
   "metadata": {},
   "outputs": [],
   "source": []
  },
  {
   "cell_type": "markdown",
   "id": "83b82e0c",
   "metadata": {},
   "source": [
    "# 28. [Citadel] Given a continuous stream of integers, write a class with functions to add new integers to the stream, and a function to calculate the median at any time."
   ]
  },
  {
   "cell_type": "code",
   "execution_count": 18,
   "id": "76fca557",
   "metadata": {},
   "outputs": [],
   "source": [
    "import heapq\n",
    "class MedianFinder(object):\n",
    "    def __init__(self):\n",
    "        self.min_heap = []\n",
    "        self.max_heap = []\n",
    "    def add_num(self, num):\n",
    "        heapq.heappush(self.max_heap, -num)\n",
    "        heapq.heappush(self.min_heap, -heapq.heappop(self.max_heap))\n",
    "        if len(self.min_heap)>len(self.max_heap):\n",
    "            heapq.heappush(self.max_heap, -heapq.heappop(self.min_heap))\n",
    "    def find_median(self):\n",
    "        if len(self.max_heap)>len(self.min_heap):\n",
    "            return 1.0 * -self.max_heap[0]\n",
    "        else:\n",
    "            return 1.0 * (self.min_heap[0] - self.max_heap[0])/2"
   ]
  },
  {
   "cell_type": "markdown",
   "id": "0ebd07d8",
   "metadata": {},
   "source": [
    "# 29. [Two Sigma] Given an input string and a regex, write a function that checks whether the regex matches the input string. The regular expression contains lowercase letters a-z, '?', or '* ', where the '?' matches any one character, and '* ' matches an arbitrary number of characters (empty as well)."
   ]
  },
  {
   "cell_type": "code",
   "execution_count": 17,
   "id": "681e100a",
   "metadata": {},
   "outputs": [],
   "source": [
    "def wildcard_match(string, regex):\n",
    "    m = len(string)\n",
    "    n = len(regex)\n",
    "    dp = [[False for _ in range(n+1)] for _ in range(m+1)]\n",
    "    dp[0][0] = True\n",
    "    # fill out empty string conditions\n",
    "    for j in range(1, n+1):\n",
    "        if regex[j-1]!='*':\n",
    "            break\n",
    "        dp[0][j] = True\n",
    "    for i in range(1, m+1):\n",
    "        for j in range(1, n+1):\n",
    "            if string[i-1]==regex[j-1] or regex[j-1]=='?':\n",
    "                dp[i][j] = dp[i-1][j-1]\n",
    "            elif regex[j-1]=='*':\n",
    "                dp[i][j] = dp[i-1][j-1] or dp[i][j-1] or dp[i-1][j]\n",
    "    return dp[-1][-1]"
   ]
  },
  {
   "cell_type": "markdown",
   "id": "dfb8bd3b",
   "metadata": {},
   "source": [
    "# 30. [Citadel] Given a list of coordinates for the n houses, return the coordinates of the optimal location for the new fire station."
   ]
  },
  {
   "cell_type": "code",
   "execution_count": 16,
   "id": "57558651",
   "metadata": {},
   "outputs": [],
   "source": [
    "# Loss function L(x, y)\n",
    "# Initial learning rate\n",
    "# Rate of decay\n",
    "# Terminal Rate\n",
    "# Damping factor: constant that helps with numerical stability. Many oscillations. Damping factor to reduce the\n",
    "    # magnitude of step sizes for smooth convergence.\n",
    "# centroid of coordinates as the inital point.\n",
    "import math\n",
    "def get_optimal_location(coords):\n",
    "    def partialX(x_c, y_c):\n",
    "        return sum(((x_c-x_i)/math.sqrt((x_c-x_i)**2 + (y_c-y_i)**2) if x_c!=x_i else 0) for x_i, y_i in coords)\n",
    "    def partialY(x_c, y_c):\n",
    "        return sum(((y_c-y_i)/math.sqrt((x_c-x_i)**2 + (y_c-y_i)**2) if x_c!=x_i else 0) for x_i, y_i in coords)\n",
    "    \n",
    "    rate = 1\n",
    "    decay_rate = 0.99\n",
    "    terminal_rate = 1e-8\n",
    "    damping_factor = 0.7\n",
    "    \n",
    "    l = len(coords)\n",
    "    x_c = sum(x for x, y in coords)/l\n",
    "    y_c = sum(y for x, y in coords)/l\n",
    "    \n",
    "    dx = 0\n",
    "    dy = 0\n",
    "    \n",
    "    while rate>terminal:\n",
    "        dx = partialX(x_c, y_c) + damping_factor * dx\n",
    "        dy = partialY(x_c, y_c) + damping_factor * dy\n",
    "        x_c = x_c - rate * dx\n",
    "        y_c = y_c - rate * dy\n",
    "        rate = rate * decay_rate\n",
    "    return (x_c, y_c)\n",
    "    "
   ]
  },
  {
   "cell_type": "code",
   "execution_count": null,
   "id": "3266054e",
   "metadata": {},
   "outputs": [],
   "source": []
  }
 ],
 "metadata": {
  "kernelspec": {
   "display_name": "Python 3.8.5 64-bit ('base': conda)",
   "language": "python",
   "name": "python385jvsc74a57bd0dca0ade3e726a953b501b15e8e990130d2b7799f14cfd9f4271676035ebe5511"
  },
  "language_info": {
   "codemirror_mode": {
    "name": "ipython",
    "version": 3
   },
   "file_extension": ".py",
   "mimetype": "text/x-python",
   "name": "python",
   "nbconvert_exporter": "python",
   "pygments_lexer": "ipython3",
   "version": "3.8.5"
  }
 },
 "nbformat": 4,
 "nbformat_minor": 5
}
