{
 "cells": [
  {
   "cell_type": "markdown",
   "id": "f71d16a7",
   "metadata": {},
   "source": [
    "# 1. [Amazon] Intersection of two arrays\n"
   ]
  },
  {
   "cell_type": "code",
   "execution_count": 1,
   "id": "380cc057",
   "metadata": {},
   "outputs": [
    {
     "name": "stdout",
     "output_type": "stream",
     "text": [
      "intersection : [1]\n"
     ]
    }
   ],
   "source": [
    "def intersection(a, b):\n",
    "    set_a = set(a)\n",
    "    set_b = set(b)\n",
    "    if len(set_a)<len(set_b):\n",
    "        return [x for x in set_a if x in set_b]\n",
    "    else:\n",
    "        return [x for x in set_b if x in set_a]\n",
    "a = [1, 2, 3]\n",
    "b = [1]\n",
    "print(f\"intersection : {intersection(a, b)}\")"
   ]
  },
  {
   "cell_type": "markdown",
   "id": "19cb6c15",
   "metadata": {},
   "source": [
    "# 2. [D. E. Shaw] Return the maximum product of any three numbers"
   ]
  },
  {
   "cell_type": "code",
   "execution_count": 3,
   "id": "52c8887c",
   "metadata": {},
   "outputs": [
    {
     "name": "stdout",
     "output_type": "stream",
     "text": [
      "max product of three numbers in arr : 40\n"
     ]
    }
   ],
   "source": [
    "import heapq\n",
    "def max_three(arr):\n",
    "    a = heapq.nlargest(3, arr)\n",
    "    b = heapq.nsmallest(2, arr)\n",
    "    return max(a[2] * a[1] * a[0], b[1] * b[0] * a[0])\n",
    "arr = [-2, -4, 5, 3]\n",
    "print(f\"max product of three numbers in arr : {max_three(arr)}\")"
   ]
  },
  {
   "cell_type": "markdown",
   "id": "825066cd",
   "metadata": {},
   "source": [
    "# 3. [Facebook] Function to find the k closest points to the origin"
   ]
  },
  {
   "cell_type": "code",
   "execution_count": 4,
   "id": "5cd6fc5d",
   "metadata": {},
   "outputs": [
    {
     "name": "stdout",
     "output_type": "stream",
     "text": [
      "3 closest points to origin are : [[-1, -1], [2, -1], [-2, 2]]\n"
     ]
    }
   ],
   "source": [
    "from heapq import heappush, heappop\n",
    "def closest(points, k):\n",
    "    def get_dist(x, y):\n",
    "        return x**2 + y**2\n",
    "    min_heap = []\n",
    "    n = len(points)\n",
    "    for i in range(n):\n",
    "        x = points[i][0]\n",
    "        y = points[i][1]\n",
    "        heappush(min_heap, (get_dist(x, y), points[i]))\n",
    "    res = []\n",
    "    for i in range(k):\n",
    "        res.append(heappop(min_heap)[1])\n",
    "    return res\n",
    "\n",
    "points = [[2, -1], [3, 2], [4, 1], [-1, -1], [-2, 2]]\n",
    "k = 3\n",
    "print(f\"{k} closest points to origin are : {closest(points, k)}\")"
   ]
  },
  {
   "cell_type": "markdown",
   "id": "a2d95f0e",
   "metadata": {},
   "source": [
    "# 4. [Google] Return the kth smallest element of the matrix\n"
   ]
  },
  {
   "cell_type": "code",
   "execution_count": 5,
   "id": "dfbd809c",
   "metadata": {},
   "outputs": [
    {
     "name": "stdout",
     "output_type": "stream",
     "text": [
      "4-th smallest element of matrix is : 5\n"
     ]
    }
   ],
   "source": [
    "from heapq import heappush, heappop\n",
    "def smallest(ma, k):\n",
    "    n = len(mat)\n",
    "    min_heap = []\n",
    "    for i in range(min(k, n)):\n",
    "        for j in range(min(k, n)):\n",
    "            heappush(min_heap, mat[i][j])\n",
    "    for _ in range(k):\n",
    "        res = heappop(min_heap)\n",
    "    return res\n",
    "mat = [[1, 4, 7], [3, 5, 9], [6, 8, 11]]\n",
    "k = 4\n",
    "print(f\"{k}-th smallest element of matrix is : {smallest(mat, k)}\")"
   ]
  },
  {
   "cell_type": "code",
   "execution_count": null,
   "id": "645b1fa8",
   "metadata": {},
   "outputs": [],
   "source": []
  }
 ],
 "metadata": {
  "kernelspec": {
   "display_name": "Python 3.8.5 64-bit ('base': conda)",
   "language": "python",
   "name": "python385jvsc74a57bd0dca0ade3e726a953b501b15e8e990130d2b7799f14cfd9f4271676035ebe5511"
  },
  "language_info": {
   "codemirror_mode": {
    "name": "ipython",
    "version": 3
   },
   "file_extension": ".py",
   "mimetype": "text/x-python",
   "name": "python",
   "nbconvert_exporter": "python",
   "pygments_lexer": "ipython3",
   "version": "3.8.5"
  }
 },
 "nbformat": 4,
 "nbformat_minor": 5
}
