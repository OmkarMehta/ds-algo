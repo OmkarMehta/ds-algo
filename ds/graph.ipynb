{
 "cells": [
  {
   "cell_type": "markdown",
   "metadata": {},
   "source": [
    "# Graph\n",
    "## &copy;  [Omkar Mehta](omehta2@illinois.edu) ##\n",
    "### Industrial and Enterprise Systems Engineering, The Grainger College of Engineering,  UIUC ###\n",
    "\n",
    "<hr style=\"border:2px solid blue\"> </hr>\n",
    "\n",
    "## 1. Check whether a given graph is Bipartite or not"
   ]
  },
  {
   "cell_type": "code",
   "execution_count": 3,
   "metadata": {},
   "outputs": [
    {
     "name": "stdout",
     "output_type": "stream",
     "text": [
      "Yes\n"
     ]
    }
   ],
   "source": [
    "class Graph:\n",
    "    def __init__(self, V):\n",
    "        self.V = V\n",
    "        self.graph = [[0 for column in range(self.V)]\n",
    "                        for row in range(V)]\n",
    "        self.colorArr = [-1 for i in range(V)]\n",
    "    \n",
    "    def isBipartite(self):\n",
    "        self.colorArr = [-1 for i in range(self.V)]\n",
    "        # go through each vertex\n",
    "        for i in range(self.V):\n",
    "            # if the color at index i is -1, check if all edges are of different color using isBipartiteUtil function\n",
    "            if not self.isBipartiteUtil(i):\n",
    "                return False\n",
    "        return True\n",
    "    \n",
    "    def isBipartiteUtil(self, src):\n",
    "        # queue to store the vertices\n",
    "        queue = []\n",
    "        # add src to queue\n",
    "        queue.append(src)\n",
    "\n",
    "        # While there are vertices in queue\n",
    "        while queue:\n",
    "            # pop the queue and store it in u\n",
    "            u = queue.pop()\n",
    "\n",
    "            # check self-loop\n",
    "            if self.graph[u][u] == 1:\n",
    "                return False \n",
    "\n",
    "            # Check if it has edges and check edge colors\n",
    "            for v in range(self.V):\n",
    "                # if edge exists between u and v and v is not colored\n",
    "                if self.graph[u][v] == 1 and self.colorArr[v] == -1:\n",
    "                    self.colorArr[v] = 1-self.colorArr[u]\n",
    "                    queue.append(v)\n",
    "                \n",
    "                elif self.graph[u][v] == 1 and self.colorArr[v] == self.colorArr[u]:\n",
    "                    return False \n",
    "        return True \n",
    "# Driver Code\n",
    "g = Graph(4)\n",
    "g.graph = [[0, 1, 0, 1],\n",
    "           [1, 0, 1, 0],\n",
    "           [0, 1, 0, 1],\n",
    "           [1, 0, 1, 0]]\n",
    " \n",
    "print (\"Yes\" if g.isBipartite() else \"No\")\n"
   ]
  },
  {
   "cell_type": "markdown",
   "metadata": {},
   "source": []
  },
  {
   "cell_type": "code",
   "execution_count": null,
   "metadata": {},
   "outputs": [],
   "source": []
  }
 ],
 "metadata": {
  "kernelspec": {
   "display_name": "Python 3.9.6 64-bit ('3.9')",
   "name": "python396jvsc74a57bd07812ea015bdcee6f23a998adcdd2ef97c151c0c241b7b7070987d9313e41299d"
  },
  "language_info": {
   "codemirror_mode": {
    "name": "ipython",
    "version": 3
   },
   "file_extension": ".py",
   "mimetype": "text/x-python",
   "name": "python",
   "nbconvert_exporter": "python",
   "pygments_lexer": "ipython3",
   "version": "3.9.6"
  },
  "metadata": {
   "interpreter": {
    "hash": "7812ea015bdcee6f23a998adcdd2ef97c151c0c241b7b7070987d9313e41299d"
   }
  },
  "orig_nbformat": 2
 },
 "nbformat": 4,
 "nbformat_minor": 2
}