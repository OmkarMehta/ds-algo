{
 "cells": [
  {
   "cell_type": "markdown",
   "metadata": {},
   "source": [
    "# Graph\n",
    "## &copy;  [Omkar Mehta](omehta2@illinois.edu) ##\n",
    "### Industrial and Enterprise Systems Engineering, The Grainger College of Engineering,  UIUC ###\n",
    "\n",
    "<hr style=\"border:2px solid blue\"> </hr>\n",
    "\n",
    "## 1. Check whether a given graph is Bipartite or not"
   ]
  },
  {
   "cell_type": "code",
   "execution_count": 3,
   "metadata": {},
   "outputs": [
    {
     "name": "stdout",
     "output_type": "stream",
     "text": [
      "Yes\n"
     ]
    }
   ],
   "source": [
    "class Graph:\n",
    "    def __init__(self, V):\n",
    "        self.V = V\n",
    "        self.graph = [[0 for column in range(self.V)]\n",
    "                        for row in range(V)]\n",
    "        self.colorArr = [-1 for i in range(V)]\n",
    "    \n",
    "    def isBipartite(self):\n",
    "        self.colorArr = [-1 for i in range(self.V)]\n",
    "        # go through each vertex\n",
    "        for i in range(self.V):\n",
    "            # if the color at index i is -1, check if all edges are of different color using isBipartiteUtil function\n",
    "            if not self.isBipartiteUtil(i):\n",
    "                return False\n",
    "        return True\n",
    "    \n",
    "    def isBipartiteUtil(self, src):\n",
    "        # queue to store the vertices\n",
    "        queue = []\n",
    "        # add src to queue\n",
    "        queue.append(src)\n",
    "\n",
    "        # While there are vertices in queue\n",
    "        while queue:\n",
    "            # pop the queue and store it in u\n",
    "            u = queue.pop()\n",
    "\n",
    "            # check self-loop\n",
    "            if self.graph[u][u] == 1:\n",
    "                return False \n",
    "\n",
    "            # Check if it has edges and check edge colors\n",
    "            for v in range(self.V):\n",
    "                # if edge exists between u and v and v is not colored\n",
    "                if self.graph[u][v] == 1 and self.colorArr[v] == -1:\n",
    "                    self.colorArr[v] = 1-self.colorArr[u]\n",
    "                    queue.append(v)\n",
    "                \n",
    "                elif self.graph[u][v] == 1 and self.colorArr[v] == self.colorArr[u]:\n",
    "                    return False \n",
    "        return True \n",
    "# Driver Code\n",
    "g = Graph(4)\n",
    "g.graph = [[0, 1, 0, 1],\n",
    "           [1, 0, 1, 0],\n",
    "           [0, 1, 0, 1],\n",
    "           [1, 0, 1, 0]]\n",
    " \n",
    "print (\"Yes\" if g.isBipartite() else \"No\")\n"
   ]
  },
  {
   "cell_type": "markdown",
   "metadata": {},
   "source": [
    "## 2. Maximum number of edges to be added to a tree so that it stays a Bipartite graph"
   ]
  },
  {
   "cell_type": "code",
   "execution_count": 5,
   "metadata": {},
   "outputs": [
    {
     "name": "stdout",
     "output_type": "stream",
     "text": [
      "2\n"
     ]
    }
   ],
   "source": [
    "# list to store counts of nodes with two colours\n",
    "count_color = [0,0]\n",
    "# number of nodes in graph\n",
    "n = 5\n",
    "# adjacency list representation of graph\n",
    "adj = [[] for i in range(n+1)]\n",
    "# Graph\n",
    "adj[1].append(2) \n",
    "adj[1].append(3) \n",
    "adj[2].append(4) \n",
    "adj[3].append(5) \n",
    "\n",
    "# function to get extra edges needed for max number of edges\n",
    "def findMaxEdges(adj, n):\n",
    "    # dfs() with inputs adj list, root node, root node's parent, color : 0 or 1\n",
    "    dfs(adj, 1, 0, 0)\n",
    "    return count_color[0] * count_color[1] - (n - 1)\n",
    "\n",
    "def dfs(adj, node, parent, color):\n",
    "    # increment the color's count \n",
    "    count_color[color] += 1\n",
    "\n",
    "    # go through each adjacency list\n",
    "    for i in range(len(adj[node])):\n",
    "        # don't recur for the parent\n",
    "        if adj[node][i] != parent:\n",
    "            # recur for the adjacent node\n",
    "            dfs(adj, adj[node][i], node, not color)\n",
    "print(findMaxEdges(adj, 5))\n"
   ]
  },
  {
   "cell_type": "markdown",
   "metadata": {},
   "source": [
    "## 3. Detect Cycle in a Directed Graph\n"
   ]
  },
  {
   "cell_type": "code",
   "execution_count": 1,
   "metadata": {},
   "outputs": [
    {
     "name": "stdout",
     "output_type": "stream",
     "text": [
      "Graph has a cycle\n"
     ]
    }
   ],
   "source": [
    "from collections import defaultdict\n",
    "class Graph:\n",
    "    def __init__(self, vertices):\n",
    "        self.V = vertices\n",
    "        self.graph = defaultdict(list)\n",
    "    \n",
    "    def addEdge(self, u, v):\n",
    "        self.graph[u].append(v)\n",
    "    def isCyclic(self):\n",
    "        # boolean list to store if node is marked\n",
    "        visited = [False] * self.V\n",
    "        # boolean list to store if node is in recursion stack\n",
    "        recStack = [False] * self.V \n",
    "\n",
    "        # Go through each node\n",
    "        for node in range(self.V):\n",
    "            if not visited[node]:\n",
    "                if self.isCyclicUtil(node, visited, recStack):\n",
    "                    return True \n",
    "        \n",
    "        return False \n",
    "    \n",
    "    def isCyclicUtil(self, v, visited, recStack):\n",
    "\n",
    "        # mark v as visited\n",
    "        visited[v] = True \n",
    "        # mark v as added to recursion stack\n",
    "        recStack[v] = True \n",
    "\n",
    "        # go through each neighbor of v\n",
    "        for neighbor in self.graph[v]:\n",
    "            # if neighbor is not visited\n",
    "            if not visited[neighbor]:\n",
    "                # if it is cyclic\n",
    "                if self.isCyclicUtil(neighbor, visited, recStack):\n",
    "                    return True\n",
    "            # if neighbor is in recursion stack\n",
    "            elif recStack[neighbor]:\n",
    "                return True \n",
    "        \n",
    "        # mark the node v as removed from the recursion stack\n",
    "        recStack[v] = False\n",
    "\n",
    "        return False\n",
    "\n",
    "g = Graph(4)\n",
    "g.addEdge(0, 1)\n",
    "g.addEdge(0, 2)\n",
    "g.addEdge(1, 2)\n",
    "g.addEdge(2, 0)\n",
    "g.addEdge(2, 3)\n",
    "g.addEdge(3, 3)\n",
    "if g.isCyclic() == 1:\n",
    "    print (\"Graph has a cycle\")\n",
    "else:\n",
    "    print (\"Graph has no cycle\")"
   ]
  },
  {
   "cell_type": "code",
   "execution_count": null,
   "metadata": {},
   "outputs": [],
   "source": []
  }
 ],
 "metadata": {
  "kernelspec": {
   "display_name": "Python 3.9.6 64-bit ('3.9')",
   "name": "python396jvsc74a57bd07812ea015bdcee6f23a998adcdd2ef97c151c0c241b7b7070987d9313e41299d"
  },
  "language_info": {
   "codemirror_mode": {
    "name": "ipython",
    "version": 3
   },
   "file_extension": ".py",
   "mimetype": "text/x-python",
   "name": "python",
   "nbconvert_exporter": "python",
   "pygments_lexer": "ipython3",
   "version": "3.9.6"
  },
  "metadata": {
   "interpreter": {
    "hash": "7812ea015bdcee6f23a998adcdd2ef97c151c0c241b7b7070987d9313e41299d"
   }
  },
  "orig_nbformat": 2
 },
 "nbformat": 4,
 "nbformat_minor": 2
}