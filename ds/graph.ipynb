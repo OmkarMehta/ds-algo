{
 "cells": [
  {
   "cell_type": "markdown",
   "metadata": {},
   "source": [
    "# Graph\n",
    "## &copy;  [Omkar Mehta](omehta2@illinois.edu) ##\n",
    "### Industrial and Enterprise Systems Engineering, The Grainger College of Engineering,  UIUC ###\n",
    "\n",
    "<hr style=\"border:2px solid blue\"> </hr>\n",
    "\n",
    "## 1. Check whether a given graph is Bipartite or not"
   ]
  },
  {
   "cell_type": "code",
   "execution_count": 3,
   "metadata": {},
   "outputs": [
    {
     "name": "stdout",
     "output_type": "stream",
     "text": [
      "Yes\n"
     ]
    }
   ],
   "source": [
    "class Graph:\n",
    "    def __init__(self, V):\n",
    "        self.V = V\n",
    "        self.graph = [[0 for column in range(self.V)]\n",
    "                        for row in range(V)]\n",
    "        self.colorArr = [-1 for i in range(V)]\n",
    "    \n",
    "    def isBipartite(self):\n",
    "        self.colorArr = [-1 for i in range(self.V)]\n",
    "        # go through each vertex\n",
    "        for i in range(self.V):\n",
    "            # if the color at index i is -1, check if all edges are of different color using isBipartiteUtil function\n",
    "            if not self.isBipartiteUtil(i):\n",
    "                return False\n",
    "        return True\n",
    "    \n",
    "    def isBipartiteUtil(self, src):\n",
    "        # queue to store the vertices\n",
    "        queue = []\n",
    "        # add src to queue\n",
    "        queue.append(src)\n",
    "\n",
    "        # While there are vertices in queue\n",
    "        while queue:\n",
    "            # pop the queue and store it in u\n",
    "            u = queue.pop()\n",
    "\n",
    "            # check self-loop\n",
    "            if self.graph[u][u] == 1:\n",
    "                return False \n",
    "\n",
    "            # Check if it has edges and check edge colors\n",
    "            for v in range(self.V):\n",
    "                # if edge exists between u and v and v is not colored\n",
    "                if self.graph[u][v] == 1 and self.colorArr[v] == -1:\n",
    "                    self.colorArr[v] = 1-self.colorArr[u]\n",
    "                    queue.append(v)\n",
    "                \n",
    "                elif self.graph[u][v] == 1 and self.colorArr[v] == self.colorArr[u]:\n",
    "                    return False \n",
    "        return True \n",
    "# Driver Code\n",
    "g = Graph(4)\n",
    "g.graph = [[0, 1, 0, 1],\n",
    "           [1, 0, 1, 0],\n",
    "           [0, 1, 0, 1],\n",
    "           [1, 0, 1, 0]]\n",
    " \n",
    "print (\"Yes\" if g.isBipartite() else \"No\")\n"
   ]
  },
  {
   "cell_type": "markdown",
   "metadata": {},
   "source": [
    "## 2. Maximum number of edges to be added to a tree so that it stays a Bipartite graph"
   ]
  },
  {
   "cell_type": "code",
   "execution_count": 5,
   "metadata": {},
   "outputs": [
    {
     "name": "stdout",
     "output_type": "stream",
     "text": [
      "2\n"
     ]
    }
   ],
   "source": [
    "# list to store counts of nodes with two colours\n",
    "count_color = [0,0]\n",
    "# number of nodes in graph\n",
    "n = 5\n",
    "# adjacency list representation of graph\n",
    "adj = [[] for i in range(n+1)]\n",
    "# Graph\n",
    "adj[1].append(2) \n",
    "adj[1].append(3) \n",
    "adj[2].append(4) \n",
    "adj[3].append(5) \n",
    "\n",
    "# function to get extra edges needed for max number of edges\n",
    "def findMaxEdges(adj, n):\n",
    "    # dfs() with inputs adj list, root node, root node's parent, color : 0 or 1\n",
    "    dfs(adj, 1, 0, 0)\n",
    "    return count_color[0] * count_color[1] - (n - 1)\n",
    "\n",
    "def dfs(adj, node, parent, color):\n",
    "    # increment the color's count \n",
    "    count_color[color] += 1\n",
    "\n",
    "    # go through each adjacency list\n",
    "    for i in range(len(adj[node])):\n",
    "        # don't recur for the parent\n",
    "        if adj[node][i] != parent:\n",
    "            # recur for the adjacent node\n",
    "            dfs(adj, adj[node][i], node, not color)\n",
    "print(findMaxEdges(adj, 5))\n"
   ]
  },
  {
   "cell_type": "markdown",
   "metadata": {},
   "source": [
    "## 3. Detect Cycle in a Directed Graph\n"
   ]
  },
  {
   "cell_type": "code",
   "execution_count": 1,
   "metadata": {},
   "outputs": [
    {
     "name": "stdout",
     "output_type": "stream",
     "text": [
      "Graph has a cycle\n"
     ]
    }
   ],
   "source": [
    "from collections import defaultdict\n",
    "class Graph:\n",
    "    def __init__(self, vertices):\n",
    "        self.V = vertices\n",
    "        self.graph = defaultdict(list)\n",
    "    \n",
    "    def addEdge(self, u, v):\n",
    "        self.graph[u].append(v)\n",
    "    def isCyclic(self):\n",
    "        # boolean list to store if node is marked\n",
    "        visited = [False] * self.V\n",
    "        # boolean list to store if node is in recursion stack\n",
    "        recStack = [False] * self.V \n",
    "\n",
    "        # Go through each node\n",
    "        for node in range(self.V):\n",
    "            if not visited[node]:\n",
    "                if self.isCyclicUtil(node, visited, recStack):\n",
    "                    return True \n",
    "        \n",
    "        return False \n",
    "    \n",
    "    def isCyclicUtil(self, v, visited, recStack):\n",
    "\n",
    "        # mark v as visited\n",
    "        visited[v] = True \n",
    "        # mark v as added to recursion stack\n",
    "        recStack[v] = True \n",
    "\n",
    "        # go through each neighbor of v\n",
    "        for neighbor in self.graph[v]:\n",
    "            # if neighbor is not visited\n",
    "            if not visited[neighbor]:\n",
    "                # if it is cyclic\n",
    "                if self.isCyclicUtil(neighbor, visited, recStack):\n",
    "                    return True\n",
    "            # if neighbor is in recursion stack\n",
    "            elif recStack[neighbor]:\n",
    "                return True \n",
    "        \n",
    "        # mark the node v as removed from the recursion stack\n",
    "        recStack[v] = False\n",
    "\n",
    "        return False\n",
    "\n",
    "g = Graph(4)\n",
    "g.addEdge(0, 1)\n",
    "g.addEdge(0, 2)\n",
    "g.addEdge(1, 2)\n",
    "g.addEdge(2, 0)\n",
    "g.addEdge(2, 3)\n",
    "g.addEdge(3, 3)\n",
    "if g.isCyclic() == 1:\n",
    "    print (\"Graph has a cycle\")\n",
    "else:\n",
    "    print (\"Graph has no cycle\")"
   ]
  },
  {
   "cell_type": "markdown",
   "metadata": {},
   "source": [
    "## 4. Print all paths from a given source to a destination using BFS"
   ]
  },
  {
   "cell_type": "code",
   "execution_count": 5,
   "metadata": {},
   "outputs": [
    {
     "name": "stdout",
     "output_type": "stream",
     "text": [
      "path from src 2 to dst 3 are\n",
      "2 0 3 \n",
      "2 1 3 \n",
      "2 0 1 3 \n"
     ]
    }
   ],
   "source": [
    "from collections import deque \n",
    "\n",
    "def printPath(path):\n",
    "    # go through each node in path\n",
    "    for i in range(len(path)):\n",
    "        # print the path in one line\n",
    "        print(path[i], end = ' ')\n",
    "    print()\n",
    "\n",
    "def isNotVisited(x, path):\n",
    "    # go through each node in path\n",
    "    for i in range(len(path)):\n",
    "        # if x is present in path\n",
    "        if path[i] == x:\n",
    "            return 0\n",
    "    return 1\n",
    "\n",
    "def findPaths(g, src, dest, v):\n",
    "    \n",
    "    # queue to store the paths \n",
    "    q = deque()\n",
    "\n",
    "    # list to store current path\n",
    "    path = []\n",
    "    # append src to path\n",
    "    path.append(src)\n",
    "    # append this path's copy to q\n",
    "    q.append(path.copy())\n",
    "\n",
    "    # while there are paths in q\n",
    "    while q:\n",
    "        # get the first path\n",
    "        path = q.popleft()\n",
    "        # get the last node from path\n",
    "        last = path[len(path)-1]\n",
    "        # if this last node is dest\n",
    "        if last == dest:\n",
    "            printPath(path)\n",
    "        \n",
    "        # It means that last node is dest\n",
    "        for i in range(len(g[last])):\n",
    "            if isNotVisited(g[last][i], path):\n",
    "                newPath = path.copy()\n",
    "                newPath.append(g[last][i])\n",
    "                q.append(newPath)\n",
    "# Driver code\n",
    "if __name__ == \"__main__\":\n",
    "     \n",
    "    # Number of vertices\n",
    "    v = 4\n",
    "    g = [[] for _ in range(4)]\n",
    " \n",
    "    # Construct a graph\n",
    "    g[0].append(3)\n",
    "    g[0].append(1)\n",
    "    g[0].append(2)\n",
    "    g[1].append(3)\n",
    "    g[2].append(0)\n",
    "    g[2].append(1)\n",
    " \n",
    "    src = 2\n",
    "    dst = 3\n",
    "    print(\"path from src {} to dst {} are\".format(\n",
    "        src, dst))\n",
    " \n",
    "    # Function for finding the paths\n",
    "    findPaths(g, src, dst, v)\n",
    "\n"
   ]
  },
  {
   "cell_type": "markdown",
   "metadata": {},
   "source": [
    "## 5. Detect cycle in an undirected graph"
   ]
  },
  {
   "cell_type": "code",
   "execution_count": 7,
   "metadata": {},
   "outputs": [
    {
     "name": "stdout",
     "output_type": "stream",
     "text": [
      "Graph contains cycle\n",
      "Graph does not contain cycle \n"
     ]
    }
   ],
   "source": [
    "from collections import defaultdict\n",
    "class Graph:\n",
    "    def __init__(self, vertices):\n",
    "        self.V = vertices\n",
    "        self.graph = defaultdict(list)\n",
    "    \n",
    "    def addEdge(self, u, v):\n",
    "        self.graph[u].append(v)\n",
    "        self.graph[v].append(u)\n",
    "    \n",
    "    def isCyclic(self):\n",
    "        # list of size V to check if the node is visited or not. \n",
    "        visited = [False] * self.V\n",
    "        # go through all DFS trees with each node being the root node and its parent being -1\n",
    "        for i in range(self.V):\n",
    "            # if the node is not visited\n",
    "            if visited[i] == False:\n",
    "                # invoke the recursive helper function. If it is cyclic, return True\n",
    "                if self.isCyclicUtil(i, visited, -1) == True:\n",
    "                    return True\n",
    "        return False\n",
    "    \n",
    "    def isCyclicUtil(self, v, visited, parent):\n",
    "        \"\"\"\n",
    "        v: current node to recurse on\n",
    "        visited: list of size V to check if the node is visited.\n",
    "        parent: parent of current node, v\n",
    "        \"\"\"\n",
    "        # mark v as visited\n",
    "        visited[v] = True\n",
    "        # go through each adjacent vertex of v\n",
    "        for i in self.graph[v]:\n",
    "            # if adjacent vertex is not visited\n",
    "            if visited[i] == False:\n",
    "                # check recursively and dfs-way if it is cyclic\n",
    "                if self.isCyclicUtil(i, visited, v):\n",
    "                    return True\n",
    "            # if adjacent vertex of v is visted, it might be possible that it is parent of v. If that's the case, then it is not cycly.\n",
    "            # if adjacent vertex is not parent, it is cycle\n",
    "            elif visited[i] == True and i!= parent:\n",
    "                return True\n",
    "        return False\n",
    "    \n",
    "    # Create a graph given in the above diagram\n",
    "g = Graph(5)\n",
    "g.addEdge(1, 0)\n",
    "g.addEdge(1, 2)\n",
    "g.addEdge(2, 0)\n",
    "g.addEdge(0, 3)\n",
    "g.addEdge(3, 4)\n",
    " \n",
    "if g.isCyclic():\n",
    "    print (\"Graph contains cycle\")\n",
    "else :\n",
    "    print (\"Graph does not contain cycle \")\n",
    "g1 = Graph(3)\n",
    "g1.addEdge(0,1)\n",
    "g1.addEdge(1,2)\n",
    " \n",
    " \n",
    "if g1.isCyclic():\n",
    "    print (\"Graph contains cycle\")\n",
    "else :\n",
    "    print (\"Graph does not contain cycle \")\n",
    "\n"
   ]
  },
  {
   "cell_type": "markdown",
   "metadata": {},
   "source": [
    "## 6. Detect Cycle in a directed graph using colors"
   ]
  },
  {
   "cell_type": "code",
   "execution_count": 9,
   "metadata": {},
   "outputs": [
    {
     "name": "stdout",
     "output_type": "stream",
     "text": [
      "Graph contains cycle\n"
     ]
    }
   ],
   "source": [
    "from collections import defaultdict\n",
    "class Graph:\n",
    "    def __init__(self, vertices):\n",
    "        self.V = vertices\n",
    "        self.graph = defaultdict(list)\n",
    "    \n",
    "    def addEdge(self, u, v):\n",
    "        self.graph[u].append(v)\n",
    "    \n",
    "    def isCyclic(self):\n",
    "        # list to store colors of node\n",
    "        color = ['White'] * self.V\n",
    "        # go through each node\n",
    "        for i in range(self.V):\n",
    "            # if it cyclic on DFS tree with root node as i\n",
    "            if self.isCyclicUtil(i, color):\n",
    "                return True\n",
    "        return False\n",
    "    \n",
    "    def isCyclicUtil(self, u, color):\n",
    "        # mark u as being visited/being processed for DFS\n",
    "        color[u] = 'Gray'\n",
    "        # go thorugh u's neighbors\n",
    "        for v in self.graph[u]:\n",
    "            # if v is being processed, it is cycle\n",
    "            if color[v] == 'Gray':\n",
    "                return True\n",
    "            # if v is not being processed but if DFS Traversal on vertex v yields cycle, return True\n",
    "            if color[v] == 'White' and self.isCyclicUtil(v, color):\n",
    "                return True\n",
    "        color[u] = 'Black'\n",
    "        return False\n",
    "\n",
    "# Driver program to test above functions\n",
    "g = Graph(4)\n",
    "g.addEdge(0, 1)\n",
    "g.addEdge(0, 2)\n",
    "g.addEdge(1, 2)\n",
    "g.addEdge(2, 0)\n",
    "g.addEdge(2, 3)\n",
    "g.addEdge(3, 3)\n",
    "print (\"Graph contains cycle\" if g.isCyclic() == True\\\n",
    "                             else \"Graph doesn't contain cycle\")"
   ]
  },
  {
   "cell_type": "markdown",
   "metadata": {},
   "source": [
    "## 7. Disjoint Set (Or Union-Find) | Set 1 (Detect Cycle in an Undirected Graph)"
   ]
  },
  {
   "cell_type": "code",
   "execution_count": 10,
   "metadata": {},
   "outputs": [
    {
     "name": "stdout",
     "output_type": "stream",
     "text": [
      "Graph contains cycle\n"
     ]
    }
   ],
   "source": [
    "from collections import defaultdict\n",
    "class Graph:\n",
    "    def __init__(self, vertices):\n",
    "        self.V = vertices\n",
    "        self.graph = defaultdict(list)\n",
    "    \n",
    "    def addEdge(self, u, v):\n",
    "        self.graph[u].append(v)\n",
    "\n",
    "    def find_parent(self, parent, i):\n",
    "        # if parent of i does not exist, make itself the parent\n",
    "        if parent[i] == -1:\n",
    "            return i\n",
    "        # if parent exists for i, go recursively up to find the parent of parent of i\n",
    "        if parent[i] != -1:\n",
    "            return self.find_parent(parent, parent[i])\n",
    "    \n",
    "    def union(self, parent, x, y):\n",
    "        # make y as parent of x\n",
    "        parent[x] = y\n",
    "    \n",
    "    def isCyclic(self):\n",
    "        parent = [-1] * self.V\n",
    "        for i in self.graph:\n",
    "            for j in self.graph[i]:\n",
    "                x = self.find_parent(parent, i)\n",
    "                y = self.find_parent(parent, j)\n",
    "                if x == y:\n",
    "                    return True\n",
    "                self.union(parent, x, y)\n",
    "\n",
    "# Create a graph given in the above diagram\n",
    "g = Graph(3)\n",
    "g.addEdge(0, 1)\n",
    "g.addEdge(1, 2)\n",
    "g.addEdge(2, 0)\n",
    "\n",
    "if g.isCyclic():\n",
    "    print (\"Graph contains cycle\")\n",
    "else :\n",
    "    print (\"Graph does not contain cycle \")"
   ]
  },
  {
   "cell_type": "markdown",
   "metadata": {},
   "source": [
    "## 8. Union-Find Algorithm | Set 2 (Union By Rank and Path Compression)"
   ]
  },
  {
   "cell_type": "code",
   "execution_count": 14,
   "metadata": {},
   "outputs": [
    {
     "name": "stdout",
     "output_type": "stream",
     "text": [
      "Graph contains cycle\n"
     ]
    }
   ],
   "source": [
    "from collections import defaultdict\n",
    "class Graph:\n",
    "    def __init__(self, vertices):\n",
    "        self.V = vertices\n",
    "        self.edges = defaultdict(list)\n",
    "    \n",
    "    def add_edge(self, u, v):\n",
    "        self.edges[u].append(v)\n",
    "\n",
    "# Class Subset to store parent and rank in subsets list\n",
    "class Subset:\n",
    "    def __init__(self, parent, rank):\n",
    "        self.parent = parent\n",
    "        self.rank = rank\n",
    "# union by path compression. Go up the tree to find the root of the node\n",
    "def find(subsets, node):\n",
    "    # if parent of node is not node, then go up\n",
    "    if subsets[node].parent != node:\n",
    "        subsets[node].parent =  find(subsets, subsets[node].parent)\n",
    "    # return the parent of the node\n",
    "    return subsets[node].parent\n",
    "\n",
    "# union by rank\n",
    "def union(subsets, u, v):\n",
    "    # if rank of u is more than rank of v, make u as parent\n",
    "    if subsets[u].rank > subsets[v].rank:\n",
    "        subsets[v].parent = u\n",
    "    # if rank of v is more than rank of u, then make v as parent\n",
    "    elif subsets[v].rank > subsets[u].rank:\n",
    "        subsets[u].parent = v\n",
    "    # if ranks of u and v are same, make u (or v) the parent of v (or u) and increment rank of u (or v) by 1\n",
    "    else:\n",
    "        subsets[v].parent = u\n",
    "        subsets[u].rank += 1\n",
    "\n",
    "# function that takes graph as input and checks if cycle is present\n",
    "def isCycle(graph):\n",
    "    subsets = []\n",
    "    for u in range(graph.V):\n",
    "        subsets.append(Subset(u, 0))\n",
    "    for u in graph.edges:\n",
    "        set_of_u = find(subsets, u)\n",
    "        for v in graph.edges[u]:\n",
    "            set_of_v = find(subsets, v)\n",
    "\n",
    "            if set_of_u == set_of_v:\n",
    "                return True\n",
    "            else:\n",
    "                union(subsets, u, v)\n",
    "\n",
    "# Driver Code\n",
    "g = Graph(3)\n",
    " \n",
    "# add edge 0-1\n",
    "g.add_edge(0, 1)\n",
    " \n",
    "# add edge 1-2\n",
    "g.add_edge(1, 2)\n",
    " \n",
    "# add edge 0-2\n",
    "g.add_edge(0, 2)\n",
    " \n",
    "if isCycle(g):\n",
    "    print('Graph contains cycle')\n",
    "else:\n",
    "    print('Graph does not contain cycle')\n"
   ]
  },
  {
   "cell_type": "markdown",
   "metadata": {},
   "source": [
    "## 9. Topological Sorting"
   ]
  },
  {
   "cell_type": "code",
   "execution_count": 17,
   "metadata": {},
   "outputs": [
    {
     "name": "stdout",
     "output_type": "stream",
     "text": [
      "Following is a Topological Sort of the given graph\n",
      "[5, 4, 2, 3, 1, 0]\n"
     ]
    }
   ],
   "source": [
    "from collections import defaultdict\n",
    "class Graph:\n",
    "    def __init__(self, vertices):\n",
    "        self.V = vertices\n",
    "        self.graph = defaultdict(list)\n",
    "    \n",
    "    def addEdge(self, u, v):\n",
    "        self.graph[u].append(v)\n",
    "\n",
    "    def topologicalSort(self):\n",
    "        # list to check if vertices are visited\n",
    "        visited = [False] * self.V\n",
    "        # list to store the elements of graph in reverse topological order\n",
    "        stack = []\n",
    "        # go through each node\n",
    "        for u in range(self.V):\n",
    "            # if it is not visited, recursively call topologicalSortUtil on each node\n",
    "            if not visited[u]:\n",
    "                self.topologicalSortUtil(u, visited, stack)  \n",
    "        # print the stack in reverse order to get topological sort\n",
    "        print(stack[::-1])\n",
    "    \n",
    "    def topologicalSortUtil(self, u, visited, stack):\n",
    "        \"\"\"\n",
    "        The idea is that node is not added to the stack, until all its adjacent vertices are visited.\n",
    "        \"\"\"\n",
    "        # mark u as visited\n",
    "        visited[u] = True\n",
    "        # go through all u's neighbors\n",
    "        for v in self.graph[u]:\n",
    "            # if neighbor is not visited\n",
    "            if not visited[v]:\n",
    "                self.topologicalSortUtil(v, visited, stack)\n",
    "        # append u after all its neighbors are visited\n",
    "        stack.append(u)\n",
    "\n",
    "# Driver Code\n",
    "g = Graph(6)\n",
    "g.addEdge(5, 2)\n",
    "g.addEdge(5, 0)\n",
    "g.addEdge(4, 0)\n",
    "g.addEdge(4, 1)\n",
    "g.addEdge(2, 3)\n",
    "g.addEdge(3, 1)\n",
    " \n",
    "print (\"Following is a Topological Sort of the given graph\")\n",
    " \n",
    "# Function Call\n",
    "g.topologicalSort()"
   ]
  },
  {
   "cell_type": "code",
   "execution_count": null,
   "metadata": {},
   "outputs": [],
   "source": []
  }
 ],
 "metadata": {
  "kernelspec": {
   "display_name": "Python 3.9.6 64-bit ('3.9')",
   "name": "python396jvsc74a57bd07812ea015bdcee6f23a998adcdd2ef97c151c0c241b7b7070987d9313e41299d"
  },
  "language_info": {
   "codemirror_mode": {
    "name": "ipython",
    "version": 3
   },
   "file_extension": ".py",
   "mimetype": "text/x-python",
   "name": "python",
   "nbconvert_exporter": "python",
   "pygments_lexer": "ipython3",
   "version": "3.9.6"
  },
  "metadata": {
   "interpreter": {
    "hash": "7812ea015bdcee6f23a998adcdd2ef97c151c0c241b7b7070987d9313e41299d"
   }
  },
  "orig_nbformat": 2
 },
 "nbformat": 4,
 "nbformat_minor": 2
}