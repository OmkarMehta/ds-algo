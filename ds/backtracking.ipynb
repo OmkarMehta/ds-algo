{
 "metadata": {
  "language_info": {
   "codemirror_mode": {
    "name": "ipython",
    "version": 3
   },
   "file_extension": ".py",
   "mimetype": "text/x-python",
   "name": "python",
   "nbconvert_exporter": "python",
   "pygments_lexer": "ipython3",
   "version": "3.9.1"
  },
  "orig_nbformat": 2,
  "kernelspec": {
   "name": "python391jvsc74a57bd07812ea015bdcee6f23a998adcdd2ef97c151c0c241b7b7070987d9313e41299d",
   "display_name": "Python 3.9.1 64-bit ('3.9')"
  },
  "metadata": {
   "interpreter": {
    "hash": "7812ea015bdcee6f23a998adcdd2ef97c151c0c241b7b7070987d9313e41299d"
   }
  }
 },
 "nbformat": 4,
 "nbformat_minor": 2,
 "cells": [
  {
   "source": [
    "\n",
    "# Backtracking\n",
    "## &copy;  [Omkar Mehta](omehta2@illinois.edu) ##\n",
    "### Industrial and Enterprise Systems Engineering, The Grainger College of Engineering,  UIUC ###\n",
    "\n",
    "<hr style=\"border:2px solid blue\"> </hr>\n",
    "\n",
    "# 1. The Knight’s tour problem | Backtracking-1\n"
   ],
   "cell_type": "markdown",
   "metadata": {}
  },
  {
   "cell_type": "code",
   "execution_count": 1,
   "metadata": {},
   "outputs": [
    {
     "output_type": "stream",
     "name": "stdout",
     "text": [
      "0 59 38 33 30 17 8 63 \n37 34 31 60 9 62 29 16 \n58 1 36 39 32 27 18 7 \n35 48 41 26 61 10 15 28 \n42 57 2 49 40 23 6 19 \n47 50 45 54 25 20 11 14 \n56 43 52 3 22 13 24 5 \n51 46 55 44 53 4 21 12 \n"
     ]
    }
   ],
   "source": [
    "# Python3 program to solve Knight Tour problem using Backtracking\n",
    " \n",
    "# Chessboard Size\n",
    "n = 8\n",
    " \n",
    " \n",
    "def isSafe(x, y, board):\n",
    "    '''\n",
    "        A utility function to check if i,j are valid indexes\n",
    "        for N*N chessboard\n",
    "    '''\n",
    "    if(x >= 0 and y >= 0 and x < n and y < n and board[x][y] == -1):\n",
    "        return True\n",
    "    return False\n",
    " \n",
    " \n",
    "def printSolution(n, board):\n",
    "    '''\n",
    "        A utility function to print Chessboard matrix\n",
    "    '''\n",
    "    for i in range(n):\n",
    "        for j in range(n):\n",
    "            print(board[i][j], end=' ')\n",
    "        print()\n",
    " \n",
    " \n",
    "def solveKT(n):\n",
    "    '''\n",
    "        This function solves the Knight Tour problem using\n",
    "        Backtracking. This function mainly uses solveKTUtil()\n",
    "        to solve the problem. It returns false if no complete\n",
    "        tour is possible, otherwise return true and prints the\n",
    "        tour.\n",
    "        Please note that there may be more than one solutions,\n",
    "        this function prints one of the feasible solutions.\n",
    "    '''\n",
    " \n",
    "    # Initialization of Board matrix\n",
    "    board = [[-1 for i in range(n)]for i in range(n)]\n",
    " \n",
    "    # move_x and move_y define next move of Knight.\n",
    "    # move_x is for next value of x coordinate\n",
    "    # move_y is for next value of y coordinate\n",
    "    move_x = [2, 1, -1, -2, -2, -1, 1, 2]\n",
    "    move_y = [1, 2, 2, 1, -1, -2, -2, -1]\n",
    " \n",
    "    # Since the Knight is initially at the first block\n",
    "    board[0][0] = 0\n",
    " \n",
    "    # Step counter for knight's position\n",
    "    pos = 1\n",
    " \n",
    "    # Checking if solution exists or not\n",
    "    if(not solveKTUtil(n, board, 0, 0, move_x, move_y, pos)):\n",
    "        print(\"Solution does not exist\")\n",
    "    else:\n",
    "        printSolution(n, board)\n",
    " \n",
    " \n",
    "def solveKTUtil(n, board, curr_x, curr_y, move_x, move_y, pos):\n",
    "    '''\n",
    "        A recursive utility function to solve Knight Tour\n",
    "        problem\n",
    "    '''\n",
    " \n",
    "    if(pos == n**2):\n",
    "        return True\n",
    " \n",
    "    # Try all next moves from the current coordinate x, y\n",
    "    for i in range(8):\n",
    "        new_x = curr_x + move_x[i]\n",
    "        new_y = curr_y + move_y[i]\n",
    "        if(isSafe(new_x, new_y, board)):\n",
    "            board[new_x][new_y] = pos\n",
    "            if(solveKTUtil(n, board, new_x, new_y, move_x, move_y, pos+1)):\n",
    "                return True\n",
    " \n",
    "            # Backtracking\n",
    "            board[new_x][new_y] = -1\n",
    "    return False\n",
    " \n",
    " \n",
    "# Driver Code\n",
    "if __name__ == \"__main__\":\n",
    "     \n",
    "    # Function Call\n",
    "    solveKT(n)\n",
    " "
   ]
  },
  {
   "source": [
    "# 2. N Queen Problem | Backtracking-3\n"
   ],
   "cell_type": "markdown",
   "metadata": {}
  },
  {
   "cell_type": "code",
   "execution_count": null,
   "metadata": {},
   "outputs": [],
   "source": []
  }
 ]
}