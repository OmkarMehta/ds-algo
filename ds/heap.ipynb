{
 "metadata": {
  "language_info": {
   "codemirror_mode": {
    "name": "ipython",
    "version": 3
   },
   "file_extension": ".py",
   "mimetype": "text/x-python",
   "name": "python",
   "nbconvert_exporter": "python",
   "pygments_lexer": "ipython3",
   "version": "3.9.6"
  },
  "orig_nbformat": 2,
  "kernelspec": {
   "name": "python3",
   "display_name": "Python 3.9.6 64-bit"
  },
  "metadata": {
   "interpreter": {
    "hash": "dca0ade3e726a953b501b15e8e990130d2b7799f14cfd9f4271676035ebe5511"
   }
  },
  "interpreter": {
   "hash": "aee8b7b246df8f9039afb4144a1f6fd8d2ca17a180786b69acc140d282b71a49"
  }
 },
 "nbformat": 4,
 "nbformat_minor": 2,
 "cells": [
  {
   "cell_type": "markdown",
   "source": [
    "# Heap Problems\n",
    "## &copy;  [Omkar Mehta](omehta2@illinois.edu) ##\n",
    "### Industrial and Enterprise Systems Engineering, The Grainger College of Engineering,  UIUC ###\n",
    "\n",
    "<hr style=\"border:2px solid blue\"> </hr>\n",
    "\n",
    "# 1. Binary Heap\n",
    "\n",
    "## Operations on Min Heap:\n",
    "1) getMini(): It returns the root element of Min Heap. Time Complexity of this operation is O(1).\n",
    "\n",
    "2) extractMin(): Removes the minimum element from MinHeap. Time Complexity of this Operation is O(Logn) as this operation needs to maintain the heap property (by calling heapify()) after removing root.\n",
    "\n",
    "3) decreaseKey(): Decreases value of key. The time complexity of this operation is O(Logn). If the decreases key value of a node is greater than the parent of the node, then we don’t need to do anything. Otherwise, we need to traverse up to fix the violated heap property.\n",
    "\n",
    "\n",
    "\n",
    "4) insert(): Inserting a new key takes O(Logn) time. We add a new key at the end of the tree. IF new key is greater than its parent, then we don’t need to do anything. Otherwise, we need to traverse up to fix the violated heap property.\n",
    "\n",
    "5) delete(): Deleting a key also takes O(Logn) time. We replace the key to be deleted with minum infinite by calling decreaseKey(). After decreaseKey(), the minus infinite value must reach root, so we call extractMin() to remove the key.\n",
    "\n",
    "Below is the implementation of basic heap operations."
   ],
   "metadata": {}
  },
  {
   "cell_type": "code",
   "execution_count": 3,
   "source": [
    "# A Python program to demonstrate common binary heap operations\n",
    "  \n",
    "# Import the heap functions from python library\n",
    "from heapq import heappush, heappop, heapify \n",
    "  \n",
    "# heappop - pop and return the smallest element from heap\n",
    "# heappush - push the value item onto the heap, maintaining\n",
    "#             heap invarient\n",
    "# heapify - transform list into heap, in place, in linear time\n",
    "  \n",
    "# A class for Min Heap\n",
    "class MinHeap:\n",
    "      \n",
    "    # Constructor to initialize a heap\n",
    "    def __init__(self):\n",
    "        self.heap = [] \n",
    "  \n",
    "    def parent(self, i):\n",
    "        return (i-1)//2\n",
    "      \n",
    "    # Inserts a new key 'k'\n",
    "    def insertKey(self, k):\n",
    "        heappush(self.heap, k)           \n",
    "  \n",
    "    # Decrease value of key at index 'i' to new_val\n",
    "    # It is assumed that new_val is smaller than heap[i]\n",
    "    def decreaseKey(self, i, new_val):\n",
    "        self.heap[i]  = new_val \n",
    "        while(i != 0 and self.heap[self.parent(i)] > self.heap[i]):\n",
    "            # Swap heap[i] with heap[parent(i)]\n",
    "            self.heap[i] , self.heap[self.parent(i)] = (\n",
    "            self.heap[self.parent(i)], self.heap[i])\n",
    "              \n",
    "    # Method to remove minium element from min heap\n",
    "    def extractMin(self):\n",
    "        return heappop(self.heap)\n",
    "  \n",
    "    # This functon deletes key at index i. It first reduces\n",
    "    # value to minus infinite and then calls extractMin()\n",
    "    def deleteKey(self, i):\n",
    "        self.decreaseKey(i, float(\"-inf\"))\n",
    "        self.extractMin()\n",
    "  \n",
    "    # Get the minimum element from the heap\n",
    "    def getMin(self):\n",
    "        return self.heap[0]\n",
    "  \n",
    "# Driver pgoratm to test above function\n",
    "heapObj = MinHeap()\n",
    "heapObj.insertKey(3)\n",
    "heapObj.insertKey(2)\n",
    "heapObj.deleteKey(1)\n",
    "heapObj.insertKey(15)\n",
    "heapObj.insertKey(5)\n",
    "heapObj.insertKey(4)\n",
    "heapObj.insertKey(45)\n",
    "  \n",
    "print (heapObj.extractMin(),)\n",
    "print (heapObj.getMin(),)\n",
    "heapObj.decreaseKey(2, 1)\n",
    "print (heapObj.getMin())\n",
    "\n",
    "  "
   ],
   "outputs": [
    {
     "output_type": "stream",
     "name": "stdout",
     "text": [
      "2\n",
      "4\n",
      "1\n"
     ]
    }
   ],
   "metadata": {}
  },
  {
   "cell_type": "markdown",
   "source": [
    "# 2. Time Complexity of building a heap\n",
    "\n",
    "Answer is : $ O(n) $\n",
    "\n",
    "![Time Complexity](time-complexity-heap.png)"
   ],
   "metadata": {}
  },
  {
   "cell_type": "markdown",
   "source": [
    "# 3. Applications of Heap Data Structure\n",
    "\n",
    "Heap Data Structure is generally taught with Heapsort. Heapsort algorithm has limited uses because Quicksort is better in practice. Nevertheless, the Heap data structure itself is enormously used. Following are some uses other than Heapsort.\n",
    "\n",
    "Priority Queues: Priority queues can be efficiently implemented using Binary Heap because it supports insert(), delete() and extractmax(), decreaseKey() operations in O(logn) time. Binomoial Heap and Fibonacci Heap are variations of Binary Heap. These variations perform union also in O(logn) time which is a O(n) operation in Binary Heap. Heap Implemented priority queues are used in Graph algorithms like [Prim’s Algorithm](http://en.wikipedia.org/wiki/Prim%27s_algorithm) and [Dijkstra’s algorithm](http://en.wikipedia.org/wiki/Dijkstra%27s_algorithm).\n",
    "\n",
    "Order statistics: The Heap data structure can be used to efficiently find the kth smallest (or largest) element in an array. See method 4 and 6 of [this post](https://www.geeksforgeeks.org/k-largestor-smallest-elements-in-an-array/) for details.\n",
    "\n",
    "References:\n",
    "http://net.pku.edu.cn/~course/cs101/2007/resource/Intro2Algorithm/book6/chap07.htm\n",
    "http://en.wikipedia.org/wiki/Heap_%28data_structure%29\n"
   ],
   "metadata": {}
  },
  {
   "cell_type": "markdown",
   "source": [
    "# 4. HeapSort\n"
   ],
   "metadata": {}
  },
  {
   "cell_type": "code",
   "execution_count": 4,
   "source": [
    "# Python program for implementation of heap Sort\n",
    " \n",
    "# To heapify subtree rooted at index i.\n",
    "# n is size of heap\n",
    " \n",
    " \n",
    "def heapify(arr, n, i):\n",
    "    largest = i  # Initialize largest as root\n",
    "    l = 2 * i + 1     # left = 2*i + 1\n",
    "    r = 2 * i + 2     # right = 2*i + 2\n",
    " \n",
    "    # See if left child of root exists and is\n",
    "    # greater than root\n",
    "    if l < n and arr[largest] < arr[l]:\n",
    "        largest = l\n",
    " \n",
    "    # See if right child of root exists and is\n",
    "    # greater than root\n",
    "    if r < n and arr[largest] < arr[r]:\n",
    "        largest = r\n",
    " \n",
    "    # Change root, if needed\n",
    "    if largest != i:\n",
    "        arr[i], arr[largest] = arr[largest], arr[i]  # swap\n",
    " \n",
    "        # Heapify the root.\n",
    "        heapify(arr, n, largest)\n",
    " \n",
    "# The main function to sort an array of given size\n",
    " \n",
    " \n",
    "def heapSort(arr):\n",
    "    n = len(arr)\n",
    " \n",
    "    # Build a maxheap.\n",
    "    for i in range(n//2 - 1, -1, -1):\n",
    "        heapify(arr, n, i)\n",
    " \n",
    "    # One by one extract elements\n",
    "    for i in range(n-1, 0, -1):\n",
    "        arr[i], arr[0] = arr[0], arr[i]  # swap\n",
    "        heapify(arr, i, 0)\n",
    " \n",
    " \n",
    "# Driver code\n",
    "arr = [12, 11, 13, 5, 6, 7]\n",
    "heapSort(arr)\n",
    "n = len(arr)\n",
    "print(\"Sorted array is\")\n",
    "for i in range(n):\n",
    "    print(\"%d\" % arr[i]),"
   ],
   "outputs": [
    {
     "output_type": "stream",
     "name": "stdout",
     "text": [
      "Sorted array is\n",
      "5\n",
      "6\n",
      "7\n",
      "11\n",
      "12\n",
      "13\n"
     ]
    }
   ],
   "metadata": {}
  },
  {
   "cell_type": "markdown",
   "source": [
    "# 5. Merge k Sorted Lists\n",
    "\n",
    "You are given an array of k linked-lists lists, each linked-list is sorted in ascending order.\n",
    "\n",
    "Merge all the linked-lists into one sorted linked-list and return it.\n",
    "```\n",
    "Example 1:\n",
    "\n",
    "Input: lists = [[1,4,5],[1,3,4],[2,6]]\n",
    "Output: [1,1,2,3,4,4,5,6]\n",
    "Explanation: The linked-lists are:\n",
    "[\n",
    "  1->4->5,\n",
    "  1->3->4,\n",
    "  2->6\n",
    "]\n",
    "merging them into one sorted list:\n",
    "1->1->2->3->4->4->5->6\n",
    "```"
   ],
   "metadata": {}
  },
  {
   "cell_type": "code",
   "execution_count": 12,
   "source": [
    "# Definition for singly-linked list.\n",
    "class ListNode:\n",
    "    def __init__(self, val=0, next=None):\n",
    "        self.val = val\n",
    "        self.next = next\n",
    "#class Solution:\n",
    "#    def mergeKLists(self, lists: List[ListNode]) -> ListNode:\n",
    "from heapq import heapify, heappop, heappush\n",
    "import heapq\n",
    "class Solution(object):\n",
    "    def mergeKLists(self, lists):\n",
    "        \"\"\"\n",
    "        :type lists: List[ListNode]\n",
    "        :rtype: ListNode\n",
    "        \"\"\"\n",
    "        dummy = ListNode(0)\n",
    "        tail = dummy\n",
    "        q = []\n",
    "        # https://stackoverflow.com/questions/33058482/python-error-adding-node-to-priority-queue\n",
    "        count = 0\n",
    "        for l in lists:\n",
    "            if l:\n",
    "                heapq.heappush(q, (l.val, count, l))\n",
    "                count += 1\n",
    "        while len(q)!=0:\n",
    "            val, _, node = heapq.heappop(q)\n",
    "            tail.next = ListNode(val)\n",
    "            tail = tail.next\n",
    "            node = node.next\n",
    "            if node:\n",
    "                heapq.heappush(q, (node.val, count, node))\n",
    "                count += 1\n",
    "        return dummy.next\n",
    "head1 = ListNode(1)\n",
    "head1.next = ListNode(4)\n",
    "head1.next.next = ListNode(5)\n",
    "\n",
    "head2 = ListNode(1)\n",
    "head2.next = ListNode(3)\n",
    "head2.next.next = ListNode(4)\n",
    "\n",
    "head3 = ListNode(2)\n",
    "head3.next = ListNode(6)\n",
    "\n",
    "lists = [head1, head2, head3]\n",
    "# print(lists[0].next.val)\n",
    "s = Solution()\n",
    "head = s.mergeKLists(lists)\n",
    "while head!=None:\n",
    "    print(head.val, end = \" \")\n",
    "    head = head.next"
   ],
   "outputs": [
    {
     "output_type": "stream",
     "name": "stdout",
     "text": [
      "1 1 2 3 4 4 5 6 "
     ]
    }
   ],
   "metadata": {}
  },
  {
   "cell_type": "code",
   "execution_count": null,
   "source": [],
   "outputs": [],
   "metadata": {}
  },
  {
   "cell_type": "markdown",
   "source": [
    "# 6. Maximum distinct elements after removing k elements\n"
   ],
   "metadata": {}
  },
  {
   "cell_type": "code",
   "execution_count": 18,
   "source": [
    "from heapdict import heapdict\n",
    "def maxDistinct(arr, n, k):\n",
    "    freq_dict = {}\n",
    "    for ele in arr:\n",
    "        if ele in freq_dict:\n",
    "            freq_dict[ele] += 1\n",
    "        else:\n",
    "            freq_dict[ele] = 1\n",
    "    print(freq_dict)\n",
    "    q = heapdict() # https://www.geeksforgeeks.org/priority-queue-using-queue-and-heapdict-module-in-python/\n",
    "    result = 0\n",
    "\n",
    "    for key in freq_dict:\n",
    "        #print(key)\n",
    "        if freq_dict[key] == 1:\n",
    "            result += 1\n",
    "        else:\n",
    "            q[key] = freq_dict[key]\n",
    "    \n",
    "    while k != -1 and len(q) != 0:\n",
    "        key, freq_key = q.popitem()\n",
    "        #print('key, freq popped:{},{}'.format(key, freq_key))\n",
    "        if freq_key == 1:\n",
    "            result += 1\n",
    "            #print(result)\n",
    "        else:\n",
    "            freq_key -= 1\n",
    "            #print('k before:', k)\n",
    "            k -= 1\n",
    "            #print('k after', k)\n",
    "            q[key] = freq_key\n",
    "    return result\n",
    "\n",
    "arr = [5, 7, 5, 5, 1, 2, 2]\n",
    "n = len(arr)\n",
    "k = 3\n",
    "print(\"Maximum distinct element =\",  maxDistinct(arr, n, k))"
   ],
   "outputs": [
    {
     "output_type": "stream",
     "name": "stdout",
     "text": [
      "{5: 3, 7: 1, 1: 1, 2: 2}\n",
      "Maximum distinct element = 4\n"
     ]
    }
   ],
   "metadata": {}
  },
  {
   "cell_type": "markdown",
   "source": [
    "# 7. Height of a complete binary tree (or Heap) with N nodes\n",
    "\n"
   ],
   "metadata": {}
  },
  {
   "cell_type": "code",
   "execution_count": 19,
   "source": [
    "# Python 3 program to find\n",
    "# height of complete binary\n",
    "# tree from total nodes.\n",
    "import math\n",
    "def height(N):\n",
    "    return math.ceil(math.log2(N + 1)) - 1\n",
    " \n",
    "# driver node\n",
    "N = 6\n",
    "print(height(N))"
   ],
   "outputs": [
    {
     "output_type": "stream",
     "name": "stdout",
     "text": [
      "2\n"
     ]
    }
   ],
   "metadata": {}
  },
  {
   "cell_type": "markdown",
   "source": [
    "# 8. Median in a stream of integers (running integers)\n"
   ],
   "metadata": {}
  },
  {
   "cell_type": "code",
   "execution_count": 31,
   "source": [
    "from queue import PriorityQueue\n",
    "def getMedian(arr):\n",
    "    median = arr[0]\n",
    "    minHeap = PriorityQueue()\n",
    "    maxHeap = PriorityQueue()\n",
    "    maxHeap.put((-arr[0], arr[0]))\n",
    "    print(median)\n",
    "\n",
    "    for ele in arr[1:]:\n",
    "        if maxHeap.qsize() > minHeap.qsize():\n",
    "            if ele < median:\n",
    "                minHeap.put(maxHeap.get()[1])\n",
    "                maxHeap.put((-ele, ele))\n",
    "            else:\n",
    "                minHeap.put(ele)\n",
    "            top_minHeap = minHeap.get()\n",
    "            top_maxHeap = maxHeap.get()[1]\n",
    "            minHeap.put(top_minHeap)\n",
    "            maxHeap.put((-top_maxHeap, top_maxHeap))\n",
    "            median = (top_maxHeap + top_minHeap)/2\n",
    "\n",
    "        elif maxHeap.qsize() == minHeap.qsize():\n",
    "            if ele < median:\n",
    "                maxHeap.put((-ele, ele))\n",
    "                top_maxHeap = maxHeap.get()[1]\n",
    "                median = top_maxHeap\n",
    "                maxHeap.put((-top_maxHeap, top_maxHeap))\n",
    "            else:\n",
    "                minHeap.put(ele)\n",
    "                top_minHeap = minHeap.get()\n",
    "                median = top_minHeap\n",
    "                minHeap.put(top_minHeap)\n",
    "        \n",
    "        else: # minHeap.qsize() > maxHeap.qsize()\n",
    "            if ele < median:\n",
    "                maxHeap.put((-ele, ele))\n",
    "            else:\n",
    "                top_minHeap = minHeap.get()\n",
    "                maxHeap.put((-top_minHeap, top_minHeap))\n",
    "                minHeap.put(ele)\n",
    "            top_minHeap = minHeap.get()\n",
    "            top_maxHeap = maxHeap.get()[1]\n",
    "            minHeap.put(top_minHeap)\n",
    "            maxHeap.put((-top_maxHeap, top_maxHeap))\n",
    "            median = (top_maxHeap + top_minHeap)/2\n",
    "        print(median)\n",
    "\n",
    "arr = [5, 15, 10, 20, 3]\n",
    "getMedian(arr)\n"
   ],
   "outputs": [
    {
     "output_type": "stream",
     "name": "stdout",
     "text": [
      "5\n",
      "10.0\n",
      "10\n",
      "12.5\n",
      "10\n"
     ]
    }
   ],
   "metadata": {}
  },
  {
   "cell_type": "markdown",
   "source": [
    "# 9. Sort a nearly sorted (or K sorted) array\n"
   ],
   "metadata": {}
  },
  {
   "cell_type": "code",
   "execution_count": 28,
   "source": [
    "# A Python3 program to sort a\n",
    "# nearly sorted array.\n",
    " \n",
    "from heapq import heappop, heappush, heapify\n",
    " \n",
    " \n",
    "# A utility function to print\n",
    "# array elements\n",
    "def print_array(arr: list):\n",
    "    for elem in arr:\n",
    "        print(elem, end=' ')\n",
    " \n",
    "# Given an array of size n, where every\n",
    "# element is k away from its target\n",
    "# position, sorts the array in O(nLogk) time.\n",
    " \n",
    " \n",
    "def sort_k(arr: list, n: int, k: int):\n",
    "    \"\"\"\n",
    "    :param arr: input array\n",
    "    :param n: length of the array\n",
    "    :param k: max distance, which every\n",
    "     element is away from its target position.\n",
    "    :return: None\n",
    "    \"\"\"\n",
    "    # List of first k+1 items\n",
    "    heap = arr[:k + 1]\n",
    " \n",
    "    # using heapify to convert list\n",
    "    # into heap(or min heap)\n",
    "    heapify(heap)\n",
    " \n",
    "    # \"rem_elmnts_index\" is index for remaining\n",
    "    # elements in arr and \"target_index\" is\n",
    "    # target index of for current minimum element\n",
    "    # in Min Heap \"heap\".\n",
    "    target_index = 0\n",
    "    for rem_elmnts_index in range(k + 1, n):\n",
    "        arr[target_index] = heappop(heap)\n",
    "        heappush(heap, arr[rem_elmnts_index])\n",
    "        target_index += 1\n",
    " \n",
    "    while heap:\n",
    "        arr[target_index] = heappop(heap)\n",
    "        target_index += 1\n",
    " \n",
    " \n",
    "# Driver Code\n",
    "k = 3\n",
    "arr = [2, 6, 3, 12, 56, 8]\n",
    "n = len(arr)\n",
    "sort_k(arr, n, k)\n",
    " \n",
    "print('Following is sorted array')\n",
    "print_array(arr)\n",
    " "
   ],
   "outputs": [
    {
     "output_type": "stream",
     "name": "stdout",
     "text": [
      "Following is sorted array\n",
      "2 3 6 8 12 56 "
     ]
    }
   ],
   "metadata": {}
  },
  {
   "cell_type": "code",
   "execution_count": null,
   "source": [],
   "outputs": [],
   "metadata": {}
  }
 ]
}