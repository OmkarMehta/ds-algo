{
 "metadata": {
  "language_info": {
   "codemirror_mode": {
    "name": "ipython",
    "version": 3
   },
   "file_extension": ".py",
   "mimetype": "text/x-python",
   "name": "python",
   "nbconvert_exporter": "python",
   "pygments_lexer": "ipython3",
   "version": "3.8.5"
  },
  "orig_nbformat": 2,
  "kernelspec": {
   "name": "python385jvsc74a57bd0dca0ade3e726a953b501b15e8e990130d2b7799f14cfd9f4271676035ebe5511",
   "display_name": "Python 3.8.5 64-bit ('base': conda)"
  },
  "metadata": {
   "interpreter": {
    "hash": "dca0ade3e726a953b501b15e8e990130d2b7799f14cfd9f4271676035ebe5511"
   }
  }
 },
 "nbformat": 4,
 "nbformat_minor": 2,
 "cells": [
  {
   "source": [
    "# Array\n",
    "## &copy;  [Omkar Mehta](omehta2@illinois.edu) ##\n",
    "### Industrial and Enterprise Systems Engineering, The Grainger College of Engineering,  UIUC ###\n",
    "\n",
    "<hr style=\"border:2px solid blue\"> </hr>\n",
    "\n",
    "# 1. Majority Element\n"
   ],
   "cell_type": "markdown",
   "metadata": {}
  },
  {
   "cell_type": "code",
   "execution_count": 6,
   "metadata": {},
   "outputs": [
    {
     "output_type": "stream",
     "name": "stdout",
     "text": [
      "3\n"
     ]
    }
   ],
   "source": [
    "\n",
    "# Method: Using Moore's Voting Algorithm\n",
    "# Program for finding out majority element in an array\n",
    " \n",
    "# Function to find the candidate for Majority\n",
    " \n",
    " \n",
    "def findCandidate(A):\n",
    "    maj_index = 0\n",
    "    count = 1\n",
    "    for i in range(1, len(A)):\n",
    "        if A[maj_index] == A[i]:\n",
    "            count += 1\n",
    "        else:\n",
    "            count -= 1\n",
    "        if count == 0:\n",
    "            maj_index = i\n",
    "            count = 1\n",
    "    return A[maj_index]\n",
    " \n",
    "# Function to check if the candidate occurs more than n/2 times\n",
    " \n",
    " \n",
    "def isMajority(A, cand):\n",
    "    count = 0\n",
    "    for i in range(len(A)):\n",
    "        if A[i] == cand:\n",
    "            count += 1\n",
    "    if count > len(A)/2:\n",
    "        return True\n",
    "    else:\n",
    "        return False\n",
    " \n",
    "# Function to print Majority Element\n",
    " \n",
    " \n",
    "def printMajority(A):\n",
    "    # Find the candidate for Majority\n",
    "    cand = findCandidate(A)\n",
    " \n",
    "    # Print the candidate if it is Majority\n",
    "    if isMajority(A, cand) == True:\n",
    "        print(cand)\n",
    "    else:\n",
    "        print(\"No Majority Element\")\n",
    " \n",
    " \n",
    "# Driver code\n",
    "A = [3, 1, 3, 1, 3]\n",
    " \n",
    "# Function call\n",
    "printMajority(A)"
   ]
  },
  {
   "cell_type": "code",
   "execution_count": 5,
   "metadata": {},
   "outputs": [
    {
     "output_type": "stream",
     "name": "stdout",
     "text": [
      "Majority found :- 2\n"
     ]
    }
   ],
   "source": [
    "# Using Hashmap\n",
    "# Python3 program for finding out majority\n",
    "# element in an array\n",
    " \n",
    "def findMajority(arr, size):\n",
    "    m = {}\n",
    "    for i in range(size):\n",
    "        if arr[i] in m:\n",
    "            m[arr[i]] += 1\n",
    "        else:\n",
    "            m[arr[i]] = 1\n",
    "    count = 0\n",
    "    for key in m:\n",
    "        if m[key] > size / 2:\n",
    "            count = 1\n",
    "            print(\"Majority found :-\",key)\n",
    "            break\n",
    "    if(count == 0):\n",
    "        print(\"No Majority element\")\n",
    " \n",
    "# Driver code\n",
    "arr = [2, 2, 2, 2, 5, 5, 2, 3, 3]\n",
    "n = len(arr)\n",
    " \n",
    "# Function calling\n",
    "findMajority(arr, n)"
   ]
  },
  {
   "cell_type": "code",
   "execution_count": 3,
   "metadata": {},
   "outputs": [
    {
     "output_type": "stream",
     "name": "stdout",
     "text": [
      "1\n"
     ]
    }
   ],
   "source": [
    "# Sort the array\n",
    "# Python3 program to find Majority\n",
    "# element in an array\n",
    " \n",
    "# Function to find Majority element\n",
    "# in an array\n",
    "# it returns -1 if there is no majority element\n",
    "def majorityElement(arr, n) :\n",
    "     \n",
    "    # sort the array in O(nlogn)\n",
    "    arr.sort()  \n",
    "    count, max_ele, temp, f = 1, -1, arr[0], 0\n",
    "    for i in range(1, n) :\n",
    "         \n",
    "        # increases the count if the same element occurs\n",
    "        # otherwise starts counting new element\n",
    "        if(temp == arr[i]) :\n",
    "            count += 1\n",
    "        else :\n",
    "            count = 1\n",
    "            temp = arr[i]\n",
    "             \n",
    "        # sets maximum count\n",
    "        # and stores maximum occured element so far\n",
    "        # if maximum count becomes greater than n/2\n",
    "        # it breaks out setting the flag\n",
    "        if(max_ele < count) :\n",
    "            max_ele = count\n",
    "            ele = arr[i]\n",
    "             \n",
    "            if(max_ele > (n//2)) :\n",
    "                f = 1\n",
    "                break\n",
    "             \n",
    "    # returns maximum occured element\n",
    "    # if there is no such element, returns -1\n",
    "    if f == 1 :\n",
    "        return ele\n",
    "    else :\n",
    "        return -1\n",
    " \n",
    "# Driver code\n",
    "arr = [1, 1, 2, 1, 3, 5, 1]\n",
    "n = len(arr)\n",
    " \n",
    "# Function calling\n",
    "print(majorityElement(arr, n))\n"
   ]
  },
  {
   "cell_type": "code",
   "execution_count": null,
   "metadata": {},
   "outputs": [],
   "source": []
  }
 ]
}