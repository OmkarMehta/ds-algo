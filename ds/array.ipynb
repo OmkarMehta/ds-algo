{
 "metadata": {
  "language_info": {
   "codemirror_mode": {
    "name": "ipython",
    "version": 3
   },
   "file_extension": ".py",
   "mimetype": "text/x-python",
   "name": "python",
   "nbconvert_exporter": "python",
   "pygments_lexer": "ipython3",
   "version": "3.8.5"
  },
  "orig_nbformat": 2,
  "kernelspec": {
   "name": "python385jvsc74a57bd0dca0ade3e726a953b501b15e8e990130d2b7799f14cfd9f4271676035ebe5511",
   "display_name": "Python 3.8.5 64-bit ('base': conda)"
  },
  "metadata": {
   "interpreter": {
    "hash": "dca0ade3e726a953b501b15e8e990130d2b7799f14cfd9f4271676035ebe5511"
   }
  }
 },
 "nbformat": 4,
 "nbformat_minor": 2,
 "cells": [
  {
   "source": [
    "# Array\n",
    "## &copy;  [Omkar Mehta](omehta2@illinois.edu) ##\n",
    "### Industrial and Enterprise Systems Engineering, The Grainger College of Engineering,  UIUC ###\n",
    "\n",
    "<hr style=\"border:2px solid blue\"> </hr>\n",
    "\n",
    "# 1. Majority Element\n"
   ],
   "cell_type": "markdown",
   "metadata": {}
  },
  {
   "cell_type": "code",
   "execution_count": 6,
   "metadata": {},
   "outputs": [
    {
     "output_type": "stream",
     "name": "stdout",
     "text": [
      "3\n"
     ]
    }
   ],
   "source": [
    "\n",
    "# Method: Using Moore's Voting Algorithm\n",
    "# Program for finding out majority element in an array\n",
    " \n",
    "# Function to find the candidate for Majority\n",
    " \n",
    " \n",
    "def findCandidate(A):\n",
    "    maj_index = 0\n",
    "    count = 1\n",
    "    for i in range(1, len(A)):\n",
    "        if A[maj_index] == A[i]:\n",
    "            count += 1\n",
    "        else:\n",
    "            count -= 1\n",
    "        if count == 0:\n",
    "            maj_index = i\n",
    "            count = 1\n",
    "    return A[maj_index]\n",
    " \n",
    "# Function to check if the candidate occurs more than n/2 times\n",
    " \n",
    " \n",
    "def isMajority(A, cand):\n",
    "    count = 0\n",
    "    for i in range(len(A)):\n",
    "        if A[i] == cand:\n",
    "            count += 1\n",
    "    if count > len(A)/2:\n",
    "        return True\n",
    "    else:\n",
    "        return False\n",
    " \n",
    "# Function to print Majority Element\n",
    " \n",
    " \n",
    "def printMajority(A):\n",
    "    # Find the candidate for Majority\n",
    "    cand = findCandidate(A)\n",
    " \n",
    "    # Print the candidate if it is Majority\n",
    "    if isMajority(A, cand) == True:\n",
    "        print(cand)\n",
    "    else:\n",
    "        print(\"No Majority Element\")\n",
    " \n",
    " \n",
    "# Driver code\n",
    "A = [3, 1, 3, 1, 3]\n",
    " \n",
    "# Function call\n",
    "printMajority(A)"
   ]
  },
  {
   "cell_type": "code",
   "execution_count": 5,
   "metadata": {},
   "outputs": [
    {
     "output_type": "stream",
     "name": "stdout",
     "text": [
      "Majority found :- 2\n"
     ]
    }
   ],
   "source": [
    "# Using Hashmap\n",
    "# Python3 program for finding out majority\n",
    "# element in an array\n",
    " \n",
    "def findMajority(arr, size):\n",
    "    m = {}\n",
    "    for i in range(size):\n",
    "        if arr[i] in m:\n",
    "            m[arr[i]] += 1\n",
    "        else:\n",
    "            m[arr[i]] = 1\n",
    "    count = 0\n",
    "    for key in m:\n",
    "        if m[key] > size / 2:\n",
    "            count = 1\n",
    "            print(\"Majority found :-\",key)\n",
    "            break\n",
    "    if(count == 0):\n",
    "        print(\"No Majority element\")\n",
    " \n",
    "# Driver code\n",
    "arr = [2, 2, 2, 2, 5, 5, 2, 3, 3]\n",
    "n = len(arr)\n",
    " \n",
    "# Function calling\n",
    "findMajority(arr, n)"
   ]
  },
  {
   "cell_type": "code",
   "execution_count": 3,
   "metadata": {},
   "outputs": [
    {
     "output_type": "stream",
     "name": "stdout",
     "text": [
      "1\n"
     ]
    }
   ],
   "source": [
    "# Sort the array\n",
    "# Python3 program to find Majority\n",
    "# element in an array\n",
    " \n",
    "# Function to find Majority element\n",
    "# in an array\n",
    "# it returns -1 if there is no majority element\n",
    "def majorityElement(arr, n) :\n",
    "     \n",
    "    # sort the array in O(nlogn)\n",
    "    arr.sort()  \n",
    "    count, max_ele, temp, f = 1, -1, arr[0], 0\n",
    "    for i in range(1, n) :\n",
    "         \n",
    "        # increases the count if the same element occurs\n",
    "        # otherwise starts counting new element\n",
    "        if(temp == arr[i]) :\n",
    "            count += 1\n",
    "        else :\n",
    "            count = 1\n",
    "            temp = arr[i]\n",
    "             \n",
    "        # sets maximum count\n",
    "        # and stores maximum occured element so far\n",
    "        # if maximum count becomes greater than n/2\n",
    "        # it breaks out setting the flag\n",
    "        if(max_ele < count) :\n",
    "            max_ele = count\n",
    "            ele = arr[i]\n",
    "             \n",
    "            if(max_ele > (n//2)) :\n",
    "                f = 1\n",
    "                break\n",
    "             \n",
    "    # returns maximum occured element\n",
    "    # if there is no such element, returns -1\n",
    "    if f == 1 :\n",
    "        return ele\n",
    "    else :\n",
    "        return -1\n",
    " \n",
    "# Driver code\n",
    "arr = [1, 1, 2, 1, 3, 5, 1]\n",
    "n = len(arr)\n",
    " \n",
    "# Function calling\n",
    "print(majorityElement(arr, n))\n"
   ]
  },
  {
   "source": [
    "# 2. Two Pointers Technique\n"
   ],
   "cell_type": "markdown",
   "metadata": {}
  },
  {
   "cell_type": "code",
   "execution_count": 7,
   "metadata": {},
   "outputs": [
    {
     "output_type": "stream",
     "name": "stdout",
     "text": [
      "True\n"
     ]
    }
   ],
   "source": [
    "# Two pointer technique based solution to find\n",
    "# if there is a pair in A[0..N-1] with a given sum.\n",
    "def isPairSum(A, N, X):\n",
    " \n",
    "    # represents first pointer\n",
    "    i = 0\n",
    " \n",
    "    # represents second pointer\n",
    "    j = N - 1\n",
    " \n",
    "    while(i < j):\n",
    "       \n",
    "        # If we find a pair\n",
    "        if (A[i] + A[j] == X):\n",
    "            return True\n",
    " \n",
    "        # If sum of elements at current\n",
    "        # pointers is less, we move towards\n",
    "        # higher values by doing i += 1\n",
    "        elif(A[i] + A[j] < X):\n",
    "            i += 1\n",
    " \n",
    "        # If sum of elements at current\n",
    "        # pointers is more, we move towards\n",
    "        # lower values by doing j -= 1\n",
    "        else:\n",
    "            j -= 1\n",
    "    return 0\n",
    " \n",
    "# array declaration\n",
    "arr = [3, 5, 9, 2, 8, 10, 11]\n",
    " \n",
    "# value to search\n",
    "val = 17\n",
    " \n",
    "print(isPairSum(arr, len(arr), val))"
   ]
  },
  {
   "source": [
    "# 3. Find subarray with given sum | Set 1 (Nonnegative Numbers)\n"
   ],
   "cell_type": "markdown",
   "metadata": {}
  },
  {
   "cell_type": "code",
   "execution_count": 8,
   "metadata": {},
   "outputs": [
    {
     "output_type": "stream",
     "name": "stdout",
     "text": [
      "Sum found between indexes\n 1 and  4\n"
     ]
    },
    {
     "output_type": "execute_result",
     "data": {
      "text/plain": [
       "1"
      ]
     },
     "metadata": {},
     "execution_count": 8
    }
   ],
   "source": [
    "# An efficient program\n",
    "# to print subarray\n",
    "# with sum as given sum\n",
    " \n",
    "# Returns true if the\n",
    "# there is a subarray\n",
    "# of arr[] with sum\n",
    "# equal to 'sum'\n",
    "# otherwise returns\n",
    "# false. Also, prints\n",
    "# the result.\n",
    "def subArraySum(arr, n, sum_):\n",
    "     \n",
    "    # Initialize curr_sum as\n",
    "    # value of first element\n",
    "    # and starting point as 0\n",
    "    curr_sum = arr[0]\n",
    "    start = 0\n",
    " \n",
    "    # Add elements one by\n",
    "    # one to curr_sum and\n",
    "    # if the curr_sum exceeds\n",
    "    # the sum, then remove\n",
    "    # starting element\n",
    "    i = 1\n",
    "    while i <= n:\n",
    "         \n",
    "        # If curr_sum exceeds\n",
    "        # the sum, then remove\n",
    "        # the starting elements\n",
    "        while curr_sum > sum_ and start < i-1:\n",
    "         \n",
    "            curr_sum = curr_sum - arr[start]\n",
    "            start += 1\n",
    "             \n",
    "        # If curr_sum becomes\n",
    "        # equal to sum, then\n",
    "        # return true\n",
    "        if curr_sum == sum_:\n",
    "            print (\"Sum found between indexes\")\n",
    "            print (\"% d and % d\"%(start, i-1))\n",
    "            return 1\n",
    " \n",
    "        # Add this element\n",
    "        # to curr_sum\n",
    "        if i < n:\n",
    "            curr_sum = curr_sum + arr[i]\n",
    "        i += 1\n",
    " \n",
    "    # If we reach here,\n",
    "    # then no subarray\n",
    "    print (\"No subarray found\")\n",
    "    return 0\n",
    " \n",
    "# Driver program\n",
    "arr = [15, 2, 4, 8, 9, 5, 10, 23]\n",
    "n = len(arr)\n",
    "sum_ = 23\n",
    " \n",
    "subArraySum(arr, n, sum_)\n",
    " "
   ]
  },
  {
   "source": [
    "# 4. Find a triplet that sum to a given value\n"
   ],
   "cell_type": "markdown",
   "metadata": {}
  },
  {
   "cell_type": "code",
   "execution_count": 9,
   "metadata": {},
   "outputs": [
    {
     "output_type": "stream",
     "name": "stdout",
     "text": [
      "Triplet is 4 ,  8 ,  10\n"
     ]
    },
    {
     "output_type": "execute_result",
     "data": {
      "text/plain": [
       "True"
      ]
     },
     "metadata": {},
     "execution_count": 9
    }
   ],
   "source": [
    "# Python3 program to find a triplet using Hashing\n",
    "# returns true if there is triplet with sum equal\n",
    "# to 'sum' present in A[]. Also, prints the triplet\n",
    "def find3Numbers(A, arr_size, sum):\n",
    "    for i in range(0, arr_size-1):\n",
    "        # Find pair in subarray A[i + 1..n-1]\n",
    "        # with sum equal to sum - A[i]\n",
    "        s = set()\n",
    "        curr_sum = sum - A[i]\n",
    "        for j in range(i + 1, arr_size):\n",
    "            if (curr_sum - A[j]) in s:\n",
    "                print(\"Triplet is\", A[i],\n",
    "                        \", \", A[j], \", \", curr_sum-A[j])\n",
    "                return True\n",
    "            s.add(A[j])\n",
    "     \n",
    "    return False\n",
    " \n",
    "# Driver program to test above function\n",
    "A = [1, 4, 45, 6, 10, 8]\n",
    "sum = 22\n",
    "arr_size = len(A)\n",
    "find3Numbers(A, arr_size, sum)"
   ]
  },
  {
   "source": [
    "# 5. Search, insert and delete in a sorted array\n"
   ],
   "cell_type": "markdown",
   "metadata": {}
  },
  {
   "cell_type": "code",
   "execution_count": 10,
   "metadata": {},
   "outputs": [
    {
     "output_type": "stream",
     "name": "stdout",
     "text": [
      "Index: 5\n"
     ]
    }
   ],
   "source": [
    "# python 3  program to implement\n",
    "# binary search in sorted array\n",
    " \n",
    "def binarySearch(arr, low, high, key):\n",
    "    # low + (high - low)/2\n",
    "    mid = (low + high)/2\n",
    " \n",
    "    if (key == arr[int(mid)]):\n",
    "        return mid\n",
    " \n",
    "    if (key > arr[int(mid)]):\n",
    "        return binarySearch(arr,\n",
    "           (mid + 1), high, key)\n",
    " \n",
    "    if (key < arr[int(mid)]):\n",
    "        return binarySearch(arr,low, (mid-1), key)\n",
    "     \n",
    "    return 0\n",
    " \n",
    "# Driver program to check above functions\n",
    "# Let us search 3 in below array\n",
    "arr = [5, 6, 7, 8, 9, 10]\n",
    "n = len(arr)\n",
    "key = 10\n",
    "print(\"Index:\", int(binarySearch(arr, 0, n-1, key) ))\n",
    " "
   ]
  },
  {
   "cell_type": "code",
   "execution_count": 12,
   "metadata": {},
   "outputs": [
    {
     "output_type": "stream",
     "name": "stdout",
     "text": [
      "[12, 16, 20, 40, 50, 70, 0, 0, 0, 0, 0, 0, 0, 0, 0, 0, 0, 0, 0, 0, 0, 0, 0, 0, 0, 0]\nBefore Insertion:  12 16 20 40 50 70 \nAfter Insertion: 12 16 20 26 40 50 70 "
     ]
    }
   ],
   "source": [
    "# Python3 program to implement insert\n",
    "# operation in an sorted array.\n",
    " \n",
    "# Inserts a key in arr[] of given capacity.\n",
    "# n is current size of arr[]. This function\n",
    "# returns n+1 if insertion is successful, else n.\n",
    "def insertSorted(arr, n, key, capacity):\n",
    "     \n",
    "    # Cannot insert more elements if n is\n",
    "    # already more than or equal to capacity\n",
    "    if (n >= capacity):\n",
    "        return n\n",
    " \n",
    "    i = n - 1\n",
    "    while i >= 0 and arr[i] > key:\n",
    "        arr[i + 1] = arr[i]\n",
    "        i -= 1\n",
    " \n",
    "    arr[i + 1] = key\n",
    " \n",
    "    return (n + 1)\n",
    " \n",
    "# Driver Code\n",
    "arr = [12, 16, 20, 40, 50, 70]\n",
    " \n",
    "for i in range(20):\n",
    "    arr.append(0)\n",
    "#print(arr) \n",
    "capacity = len(arr)\n",
    "n = 6\n",
    "key = 26\n",
    " \n",
    "print(\"Before Insertion: \", end = \" \");\n",
    "for i in range(n):\n",
    "    print(arr[i], end = \" \")\n",
    "     \n",
    "# Inserting key\n",
    "n = insertSorted(arr, n, key, capacity)\n",
    " \n",
    "print(\"\\nAfter Insertion: \", end = \"\")\n",
    "for i in range(n):\n",
    "    print(arr[i], end = \" \")\n",
    " "
   ]
  },
  {
   "cell_type": "code",
   "execution_count": null,
   "metadata": {},
   "outputs": [],
   "source": [
    "# Python program to implement delete operation in a\n",
    "# sorted array\n",
    " \n",
    "#/* Function to delete an element */\n",
    "def deleteElement(arr, n, key):\n",
    "     \n",
    "    # Find position of element to be deleted\n",
    "    pos = binarySearch(arr, 0, n - 1, key)\n",
    "     \n",
    "    if (pos == -1):\n",
    "        print(\"Element not found\")\n",
    "        return n\n",
    "         \n",
    "    # Deleting element\n",
    "    for i in range(pos,n - 1):\n",
    "        arr[i] = arr[i + 1]\n",
    "     \n",
    "    return n - 1\n",
    "     \n",
    "# To search a ley to be deleted\n",
    "def binarySearch(arr, low, high, key):\n",
    "     \n",
    "    if (high < low):\n",
    "        return -1\n",
    "    mid = (low + high) // 2\n",
    "     \n",
    "    if (key == arr[mid]):\n",
    "        return mid\n",
    "    if (key > arr[mid]):\n",
    "        return binarySearch(arr, (mid + 1), high, key)\n",
    "     \n",
    "    return binarySearch(arr, low, (mid - 1), key)\n",
    "  \n",
    "# Driver code\n",
    "arr = [10, 20, 30, 40, 50 ]\n",
    " \n",
    "n = len(arr)\n",
    "key = 30\n",
    " \n",
    "print(\"Array before deletion\")\n",
    " \n",
    "for i in range(n):\n",
    "    print(arr[i],end=\" \")\n",
    "     \n",
    "n = deleteElement(arr, n, key)\n",
    "print(\"\\n\\nArray after deletion\")\n",
    "for i in range(n):\n",
    "    print(arr[i],end=\" \")\n",
    " "
   ]
  },
  {
   "source": [
    "# 6. Merge Sort"
   ],
   "cell_type": "markdown",
   "metadata": {}
  },
  {
   "cell_type": "code",
   "execution_count": 1,
   "metadata": {},
   "outputs": [
    {
     "output_type": "stream",
     "name": "stdout",
     "text": [
      "Given array is\n12 11 13 5 6 7 \nSorted array is: \n5 6 7 11 12 13 \n"
     ]
    }
   ],
   "source": [
    "# Python program for implementation of MergeSort\n",
    "def mergeSort(arr):\n",
    "    if len(arr) > 1:\n",
    " \n",
    "         # Finding the mid of the array\n",
    "        mid = len(arr)//2\n",
    " \n",
    "        # Dividing the array elements\n",
    "        L = arr[:mid]\n",
    " \n",
    "        # into 2 halves\n",
    "        R = arr[mid:]\n",
    " \n",
    "        # Sorting the first half\n",
    "        mergeSort(L)\n",
    " \n",
    "        # Sorting the second half\n",
    "        mergeSort(R)\n",
    " \n",
    "        i = j = k = 0\n",
    " \n",
    "        # Copy data to temp arrays L[] and R[]\n",
    "        while i < len(L) and j < len(R):\n",
    "            if L[i] < R[j]:\n",
    "                arr[k] = L[i]\n",
    "                i += 1\n",
    "            else:\n",
    "                arr[k] = R[j]\n",
    "                j += 1\n",
    "            k += 1\n",
    " \n",
    "        # Checking if any element was left\n",
    "        while i < len(L):\n",
    "            arr[k] = L[i]\n",
    "            i += 1\n",
    "            k += 1\n",
    " \n",
    "        while j < len(R):\n",
    "            arr[k] = R[j]\n",
    "            j += 1\n",
    "            k += 1\n",
    " \n",
    "# Code to print the list\n",
    " \n",
    " \n",
    "def printList(arr):\n",
    "    for i in range(len(arr)):\n",
    "        print(arr[i], end=\" \")\n",
    "    print()\n",
    " \n",
    " \n",
    "# Driver Code\n",
    "if __name__ == '__main__':\n",
    "    arr = [12, 11, 13, 5, 6, 7]\n",
    "    print(\"Given array is\", end=\"\\n\")\n",
    "    printList(arr)\n",
    "    mergeSort(arr)\n",
    "    print(\"Sorted array is: \", end=\"\\n\")\n",
    "    printList(arr)\n"
   ]
  },
  {
   "source": [
    "# 7. QuickSort"
   ],
   "cell_type": "markdown",
   "metadata": {}
  },
  {
   "cell_type": "code",
   "execution_count": 2,
   "metadata": {},
   "outputs": [
    {
     "output_type": "stream",
     "name": "stdout",
     "text": [
      "Sorted array: [1, 5, 7, 8, 9, 10]\n"
     ]
    }
   ],
   "source": [
    "# Python3 implementation of QuickSort \n",
    " \n",
    "# This Function handles sorting part of quick sort\n",
    "# start and end points to first and last element of\n",
    "# an array respectively\n",
    "def partition(start, end, array):\n",
    "     \n",
    "    # Initializing pivot's index to start\n",
    "    pivot_index = start\n",
    "    pivot = array[pivot_index]\n",
    "     \n",
    "    # This loop runs till start pointer crosses\n",
    "    # end pointer, and when it does we swap the\n",
    "    # pivot with element on end pointer\n",
    "    while start < end:\n",
    "         \n",
    "        # Increment the start pointer till it finds an\n",
    "        # element greater than  pivot\n",
    "        while start < len(array) and array[start] <= pivot:\n",
    "            start += 1\n",
    "             \n",
    "        # Decrement the end pointer till it finds an\n",
    "        # element less than pivot\n",
    "        while array[end] > pivot:\n",
    "            end -= 1\n",
    "         \n",
    "        # If start and end have not crossed each other,\n",
    "        # swap the numbers on start and end\n",
    "        if(start < end):\n",
    "            array[start], array[end] = array[end], array[start]\n",
    "     \n",
    "    # Swap pivot element with element on end pointer.\n",
    "    # This puts pivot on its correct sorted place.\n",
    "    array[end], array[pivot_index] = array[pivot_index], array[end]\n",
    "    \n",
    "    # Returning end pointer to divide the array into 2\n",
    "    return end\n",
    "     \n",
    "# The main function that implements QuickSort\n",
    "def quick_sort(start, end, array):\n",
    "     \n",
    "    if (start < end):\n",
    "         \n",
    "        # p is partitioning index, array[p]\n",
    "        # is at right place\n",
    "        p = partition(start, end, array)\n",
    "         \n",
    "        # Sort elements before partition\n",
    "        # and after partition\n",
    "        quick_sort(start, p - 1, array)\n",
    "        quick_sort(p + 1, end, array)\n",
    "         \n",
    "# Driver code\n",
    "array = [ 10, 7, 8, 9, 1, 5 ]\n",
    "quick_sort(0, len(array) - 1, array)\n",
    " \n",
    "print(f'Sorted array: {array}')\n",
    "     "
   ]
  },
  {
   "source": [
    "# 8. Binary Search\n"
   ],
   "cell_type": "markdown",
   "metadata": {}
  },
  {
   "cell_type": "code",
   "execution_count": 1,
   "metadata": {},
   "outputs": [
    {
     "output_type": "stream",
     "name": "stdout",
     "text": [
      "Element is present at index  3\n"
     ]
    }
   ],
   "source": [
    "# Python3 Program for recursive binary search.\n",
    "  \n",
    "# Returns index of x in arr if present, else -1\n",
    "def binarySearch (arr, l, r, x):\n",
    "  \n",
    "    # Check base case\n",
    "    if r >= l:\n",
    "  \n",
    "        mid = l + (r - l) // 2\n",
    "  \n",
    "        # If element is present at the middle itself\n",
    "        if arr[mid] == x:\n",
    "            return mid\n",
    "          \n",
    "        # If element is smaller than mid, then it \n",
    "        # can only be present in left subarray\n",
    "        elif arr[mid] > x:\n",
    "            return binarySearch(arr, l, mid-1, x)\n",
    "  \n",
    "        # Else the element can only be present \n",
    "        # in right subarray\n",
    "        else:\n",
    "            return binarySearch(arr, mid + 1, r, x)\n",
    "  \n",
    "    else:\n",
    "        # Element is not present in the array\n",
    "        return -1\n",
    "  \n",
    "# Driver Code\n",
    "arr = [ 2, 3, 4, 10, 40 ]\n",
    "x = 10\n",
    "  \n",
    "# Function call\n",
    "result = binarySearch(arr, 0, len(arr)-1, x)\n",
    "  \n",
    "if result != -1:\n",
    "    print (\"Element is present at index % d\" % result)\n",
    "else:\n",
    "    print (\"Element is not present in array\")"
   ]
  },
  {
   "cell_type": "code",
   "execution_count": null,
   "metadata": {},
   "outputs": [],
   "source": []
  }
 ]
}