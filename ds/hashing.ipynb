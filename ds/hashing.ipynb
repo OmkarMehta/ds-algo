{
 "metadata": {
  "language_info": {
   "codemirror_mode": {
    "name": "ipython",
    "version": 3
   },
   "file_extension": ".py",
   "mimetype": "text/x-python",
   "name": "python",
   "nbconvert_exporter": "python",
   "pygments_lexer": "ipython3",
   "version": "3.8.5"
  },
  "orig_nbformat": 2,
  "kernelspec": {
   "name": "python385jvsc74a57bd0dca0ade3e726a953b501b15e8e990130d2b7799f14cfd9f4271676035ebe5511",
   "display_name": "Python 3.8.5 64-bit ('base': conda)"
  },
  "metadata": {
   "interpreter": {
    "hash": "dca0ade3e726a953b501b15e8e990130d2b7799f14cfd9f4271676035ebe5511"
   }
  }
 },
 "nbformat": 4,
 "nbformat_minor": 2,
 "cells": [
  {
   "source": [
    "# Hashing\n",
    "## &copy;  [Omkar Mehta](omehta2@illinois.edu) ##\n",
    "### Industrial and Enterprise Systems Engineering, The Grainger College of Engineering,  UIUC ###\n",
    "\n",
    "<hr style=\"border:2px solid blue\"> </hr>\n",
    "\n",
    "## 1. Index Mapping (or Trivial Hashing) with negatives allowed"
   ],
   "cell_type": "markdown",
   "metadata": {}
  },
  {
   "cell_type": "code",
   "execution_count": 1,
   "metadata": {},
   "outputs": [
    {
     "output_type": "stream",
     "name": "stdout",
     "text": [
      "Present\n"
     ]
    }
   ],
   "source": [
    "# Python3 program to implement direct index\n",
    "# mapping with negative values allowed.\n",
    "\n",
    "# Searching if X is Present in the\n",
    "# given array or not.\n",
    "def search(X):\n",
    "\n",
    "\tif X >= 0:\n",
    "\t\treturn has[X][0] == 1\n",
    "\n",
    "\t# if X is negative take the absolute\n",
    "\t# value of X.\n",
    "\tX = abs(X)\n",
    "\treturn has[X][1] == 1\n",
    "\n",
    "def insert(a, n):\n",
    "\n",
    "\tfor i in range(0, n):\n",
    "\t\tif a[i] >= 0:\n",
    "\t\t\thas[a[i]][0] = 1\n",
    "\t\telse:\n",
    "\t\t\thas[abs(a[i])][1] = 1\n",
    "\n",
    "# Driver code\n",
    "if __name__ == \"__main__\":\n",
    "\n",
    "\ta = [-1, 9, -5, -8, -5, -2]\n",
    "\tn = len(a)\n",
    "\n",
    "\tMAX = 1000\n",
    "\t\n",
    "\t# Since array is global, it is\n",
    "\t# initialized as 0.\n",
    "\thas = [[0 for i in range(2)]\n",
    "\t\t\tfor j in range(MAX + 1)]\n",
    "\tinsert(a, n)\n",
    "\n",
    "\tX = -5\n",
    "\tif search(X) == True:\n",
    "\t\tprint(\"Present\")\n",
    "\telse:\n",
    "\t\tprint(\"Not Present\")"
   ]
  },
  {
   "source": [
    "## 2. Hashing | Set 2 (Separate Chaining)\n",
    "\n",
    "* Insert takes $ O(1) $\n",
    "* Search takes $ O(1+\\alpha) $\n",
    "* Delete takes $ O(1+\\alpha) $\n",
    "\n",
    "where $\\alpha = \\frac{n}{m} $\n",
    "\n",
    "n = number of keys\n",
    "m = number of slots in hash table.\n",
    "\n"
   ],
   "cell_type": "markdown",
   "metadata": {}
  },
  {
   "source": [
    "## 3. Hashing | Set 3 (Open Addressing)\n",
    "\n",
    "* Insert(k): Keep probing until an empty slot is found. Once an empty slot is found, insert k. \n",
    "\n",
    "* Search(k): Keep probing until slot’s key doesn’t become equal to k or an empty slot is reached. \n",
    "\n",
    "* Delete(k): Delete operation is interesting. If we simply delete a key, then the search may fail. So slots of deleted keys are marked specially as “deleted”. \n",
    "\n",
    "To address Open Addressing, we use `Linear Probing`, `Quadratic Probing`, or `Double Hashing`. \n",
    "\n",
    "Time Complexity for Search, Insert and Delete is less than $ \\frac{1}{1-\\alpha} $\n"
   ],
   "cell_type": "markdown",
   "metadata": {}
  },
  {
   "cell_type": "code",
   "execution_count": null,
   "metadata": {},
   "outputs": [],
   "source": []
  }
 ]
}