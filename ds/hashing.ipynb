{
 "metadata": {
  "language_info": {
   "codemirror_mode": {
    "name": "ipython",
    "version": 3
   },
   "file_extension": ".py",
   "mimetype": "text/x-python",
   "name": "python",
   "nbconvert_exporter": "python",
   "pygments_lexer": "ipython3",
   "version": "3.8.5"
  },
  "orig_nbformat": 2,
  "kernelspec": {
   "name": "python385jvsc74a57bd0dca0ade3e726a953b501b15e8e990130d2b7799f14cfd9f4271676035ebe5511",
   "display_name": "Python 3.8.5 64-bit ('base': conda)"
  },
  "metadata": {
   "interpreter": {
    "hash": "dca0ade3e726a953b501b15e8e990130d2b7799f14cfd9f4271676035ebe5511"
   }
  }
 },
 "nbformat": 4,
 "nbformat_minor": 2,
 "cells": [
  {
   "source": [
    "# Hashing\n",
    "## &copy;  [Omkar Mehta](omehta2@illinois.edu) ##\n",
    "### Industrial and Enterprise Systems Engineering, The Grainger College of Engineering,  UIUC ###\n",
    "\n",
    "<hr style=\"border:2px solid blue\"> </hr>\n",
    "\n",
    "## 1. Index Mapping (or Trivial Hashing) with negatives allowed"
   ],
   "cell_type": "markdown",
   "metadata": {}
  },
  {
   "cell_type": "code",
   "execution_count": 1,
   "metadata": {},
   "outputs": [
    {
     "output_type": "stream",
     "name": "stdout",
     "text": [
      "Present\n"
     ]
    }
   ],
   "source": [
    "# Python3 program to implement direct index\n",
    "# mapping with negative values allowed.\n",
    "\n",
    "# Searching if X is Present in the\n",
    "# given array or not.\n",
    "def search(X):\n",
    "\n",
    "\tif X >= 0:\n",
    "\t\treturn has[X][0] == 1\n",
    "\n",
    "\t# if X is negative take the absolute\n",
    "\t# value of X.\n",
    "\tX = abs(X)\n",
    "\treturn has[X][1] == 1\n",
    "\n",
    "def insert(a, n):\n",
    "\n",
    "\tfor i in range(0, n):\n",
    "\t\tif a[i] >= 0:\n",
    "\t\t\thas[a[i]][0] = 1\n",
    "\t\telse:\n",
    "\t\t\thas[abs(a[i])][1] = 1\n",
    "\n",
    "# Driver code\n",
    "if __name__ == \"__main__\":\n",
    "\n",
    "\ta = [-1, 9, -5, -8, -5, -2]\n",
    "\tn = len(a)\n",
    "\n",
    "\tMAX = 1000\n",
    "\t\n",
    "\t# Since array is global, it is\n",
    "\t# initialized as 0.\n",
    "\thas = [[0 for i in range(2)]\n",
    "\t\t\tfor j in range(MAX + 1)]\n",
    "\tinsert(a, n)\n",
    "\n",
    "\tX = -5\n",
    "\tif search(X) == True:\n",
    "\t\tprint(\"Present\")\n",
    "\telse:\n",
    "\t\tprint(\"Not Present\")"
   ]
  },
  {
   "source": [
    "## 2. Hashing | Set 2 (Separate Chaining)\n",
    "\n",
    "* Insert takes $ O(1) $\n",
    "* Search takes $ O(1+\\alpha) $\n",
    "* Delete takes $ O(1+\\alpha) $\n",
    "\n",
    "where $\\alpha = \\frac{n}{m} $\n",
    "\n",
    "n = number of keys\n",
    "m = number of slots in hash table.\n",
    "\n"
   ],
   "cell_type": "markdown",
   "metadata": {}
  },
  {
   "source": [
    "## 3. Hashing | Set 3 (Open Addressing)\n",
    "\n",
    "* Insert(k): Keep probing until an empty slot is found. Once an empty slot is found, insert k. \n",
    "\n",
    "* Search(k): Keep probing until slot’s key doesn’t become equal to k or an empty slot is reached. \n",
    "\n",
    "* Delete(k): Delete operation is interesting. If we simply delete a key, then the search may fail. So slots of deleted keys are marked specially as “deleted”. \n",
    "\n",
    "To address Open Addressing, we use `Linear Probing`, `Quadratic Probing`, or `Double Hashing`. \n",
    "\n",
    "Time Complexity for Search, Insert and Delete is less than $ \\frac{1}{1-\\alpha} $\n"
   ],
   "cell_type": "markdown",
   "metadata": {}
  },
  {
   "source": [
    "## 4. Double Hashing\n",
    "\n"
   ],
   "cell_type": "markdown",
   "metadata": {}
  },
  {
   "cell_type": "code",
   "execution_count": 4,
   "metadata": {},
   "outputs": [
    {
     "output_type": "stream",
     "name": "stdout",
     "text": [
      "Key Found\nKey not present\n0\n1 --> 27\n2\n3\n4\n5 --> 10\n6 --> 19\n7\n8\n9\n10 --> 36\n11\n12 --> 64\n"
     ]
    }
   ],
   "source": [
    "TABLE_SIZE = 13\n",
    "PRIME = 7\n",
    "\n",
    "class DoubleHash:\n",
    "    def __init__(self):\n",
    "        self.curr_size = 0\n",
    "        self.HashTable = [-1 for i in range(TABLE_SIZE)]\n",
    "    \n",
    "    def isFull(self):\n",
    "        return self.curr_size == TABLE_SIZE\n",
    "    \n",
    "    def hash1(self, key):\n",
    "        return key%TABLE_SIZE\n",
    "    \n",
    "    def hash2(self, key):\n",
    "        return PRIME - key%PRIME\n",
    "    \n",
    "    def display(self):\n",
    "        for i in range(TABLE_SIZE):\n",
    "            if self.HashTable[i] != -1:\n",
    "                print(f'{i} --> {self.HashTable[i]}')\n",
    "            else:\n",
    "                print(i)\n",
    "    \n",
    "    def search(self, key):\n",
    "        index1 = self.hash1(key)\n",
    "        index2 = self.hash2(key)\n",
    "        i = 0\n",
    "        while self.HashTable[(index1+i*index2)%TABLE_SIZE] != key:\n",
    "            if self.HashTable[(index1+i*index2)%TABLE_SIZE] == -1:\n",
    "                print('Key not present')\n",
    "                return\n",
    "            i += 1\n",
    "        print('Key Found')\n",
    "    \n",
    "    def insert(self, key):\n",
    "        if self.isFull():\n",
    "            return\n",
    "        \n",
    "        index = self.hash1(key)\n",
    "\n",
    "        if self.HashTable[index] != -1:\n",
    "            index2 = self.hash2(key)\n",
    "            i = 1\n",
    "\n",
    "            while True:\n",
    "                newIndex = (index+i*index2)%TABLE_SIZE\n",
    "                if self.HashTable[newIndex] == -1:\n",
    "                    self.HashTable[newIndex] = key\n",
    "                    break\n",
    "                i += 1\n",
    "        else:\n",
    "            self.HashTable[index] = key\n",
    "        \n",
    "        self.curr_size += 1\n",
    "\n",
    "def main():\n",
    "    a = [19, 27, 36, 10, 64]\n",
    "    n = len(a)\n",
    "\n",
    "    h = DoubleHash()\n",
    "    for ele in a:\n",
    "        h.insert(ele)\n",
    "    \n",
    "    # searching some keys\n",
    "    h.search(36)  # This key is present in hash table\n",
    "    h.search(100)  # This key does not exist in hash table\n",
    "    # display the hash Table\n",
    "    h.display()\n",
    "\n",
    "main()"
   ]
  },
  {
   "cell_type": "code",
   "execution_count": null,
   "metadata": {},
   "outputs": [],
   "source": []
  }
 ]
}