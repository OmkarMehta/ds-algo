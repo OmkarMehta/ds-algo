{
 "metadata": {
  "language_info": {
   "codemirror_mode": {
    "name": "ipython",
    "version": 3
   },
   "file_extension": ".py",
   "mimetype": "text/x-python",
   "name": "python",
   "nbconvert_exporter": "python",
   "pygments_lexer": "ipython3",
   "version": "3.8.5"
  },
  "orig_nbformat": 2,
  "kernelspec": {
   "name": "python385jvsc74a57bd0dca0ade3e726a953b501b15e8e990130d2b7799f14cfd9f4271676035ebe5511",
   "display_name": "Python 3.8.5 64-bit ('base': conda)"
  },
  "metadata": {
   "interpreter": {
    "hash": "dca0ade3e726a953b501b15e8e990130d2b7799f14cfd9f4271676035ebe5511"
   }
  }
 },
 "nbformat": 4,
 "nbformat_minor": 2,
 "cells": [
  {
   "source": [
    "# Hashing\n",
    "## &copy;  [Omkar Mehta](omehta2@illinois.edu) ##\n",
    "### Industrial and Enterprise Systems Engineering, The Grainger College of Engineering,  UIUC ###\n",
    "\n",
    "<hr style=\"border:2px solid blue\"> </hr>\n",
    "\n",
    "## 1. Index Mapping (or Trivial Hashing) with negatives allowed"
   ],
   "cell_type": "markdown",
   "metadata": {}
  },
  {
   "cell_type": "code",
   "execution_count": 1,
   "metadata": {},
   "outputs": [
    {
     "output_type": "stream",
     "name": "stdout",
     "text": [
      "Present\n"
     ]
    }
   ],
   "source": [
    "# Python3 program to implement direct index\n",
    "# mapping with negative values allowed.\n",
    "\n",
    "# Searching if X is Present in the\n",
    "# given array or not.\n",
    "def search(X):\n",
    "\n",
    "\tif X >= 0:\n",
    "\t\treturn has[X][0] == 1\n",
    "\n",
    "\t# if X is negative take the absolute\n",
    "\t# value of X.\n",
    "\tX = abs(X)\n",
    "\treturn has[X][1] == 1\n",
    "\n",
    "def insert(a, n):\n",
    "\n",
    "\tfor i in range(0, n):\n",
    "\t\tif a[i] >= 0:\n",
    "\t\t\thas[a[i]][0] = 1\n",
    "\t\telse:\n",
    "\t\t\thas[abs(a[i])][1] = 1\n",
    "\n",
    "# Driver code\n",
    "if __name__ == \"__main__\":\n",
    "\n",
    "\ta = [-1, 9, -5, -8, -5, -2]\n",
    "\tn = len(a)\n",
    "\n",
    "\tMAX = 1000\n",
    "\t\n",
    "\t# Since array is global, it is\n",
    "\t# initialized as 0.\n",
    "\thas = [[0 for i in range(2)]\n",
    "\t\t\tfor j in range(MAX + 1)]\n",
    "\tinsert(a, n)\n",
    "\n",
    "\tX = -5\n",
    "\tif search(X) == True:\n",
    "\t\tprint(\"Present\")\n",
    "\telse:\n",
    "\t\tprint(\"Not Present\")"
   ]
  },
  {
   "source": [
    "## 2. Hashing | Set 2 (Separate Chaining)\n",
    "\n",
    "* Insert takes $ O(1) $\n",
    "* Search takes $ O(1+\\alpha) $\n",
    "* Delete takes $ O(1+\\alpha) $\n",
    "\n",
    "where $\\alpha = \\frac{n}{m} $\n",
    "\n",
    "n = number of keys\n",
    "m = number of slots in hash table.\n",
    "\n"
   ],
   "cell_type": "markdown",
   "metadata": {}
  },
  {
   "source": [
    "## 3. Hashing | Set 3 (Open Addressing)\n",
    "\n",
    "* Insert(k): Keep probing until an empty slot is found. Once an empty slot is found, insert k. \n",
    "\n",
    "* Search(k): Keep probing until slot’s key doesn’t become equal to k or an empty slot is reached. \n",
    "\n",
    "* Delete(k): Delete operation is interesting. If we simply delete a key, then the search may fail. So slots of deleted keys are marked specially as “deleted”. \n",
    "\n",
    "To address Open Addressing, we use `Linear Probing`, `Quadratic Probing`, or `Double Hashing`. \n",
    "\n",
    "Time Complexity for Search, Insert and Delete is less than $ \\frac{1}{1-\\alpha} $\n"
   ],
   "cell_type": "markdown",
   "metadata": {}
  },
  {
   "source": [
    "## 4. Double Hashing\n",
    "\n"
   ],
   "cell_type": "markdown",
   "metadata": {}
  },
  {
   "cell_type": "code",
   "execution_count": 4,
   "metadata": {},
   "outputs": [
    {
     "output_type": "stream",
     "name": "stdout",
     "text": [
      "Key Found\nKey not present\n0\n1 --> 27\n2\n3\n4\n5 --> 10\n6 --> 19\n7\n8\n9\n10 --> 36\n11\n12 --> 64\n"
     ]
    }
   ],
   "source": [
    "TABLE_SIZE = 13\n",
    "PRIME = 7\n",
    "\n",
    "class DoubleHash:\n",
    "    def __init__(self):\n",
    "        self.curr_size = 0\n",
    "        self.HashTable = [-1 for i in range(TABLE_SIZE)]\n",
    "    \n",
    "    def isFull(self):\n",
    "        return self.curr_size == TABLE_SIZE\n",
    "    \n",
    "    def hash1(self, key):\n",
    "        return key%TABLE_SIZE\n",
    "    \n",
    "    def hash2(self, key):\n",
    "        return PRIME - key%PRIME\n",
    "    \n",
    "    def display(self):\n",
    "        for i in range(TABLE_SIZE):\n",
    "            if self.HashTable[i] != -1:\n",
    "                print(f'{i} --> {self.HashTable[i]}')\n",
    "            else:\n",
    "                print(i)\n",
    "    \n",
    "    def search(self, key):\n",
    "        index1 = self.hash1(key)\n",
    "        index2 = self.hash2(key)\n",
    "        i = 0\n",
    "        while self.HashTable[(index1+i*index2)%TABLE_SIZE] != key:\n",
    "            if self.HashTable[(index1+i*index2)%TABLE_SIZE] == -1:\n",
    "                print('Key not present')\n",
    "                return\n",
    "            i += 1\n",
    "        print('Key Found')\n",
    "    \n",
    "    def insert(self, key):\n",
    "        if self.isFull():\n",
    "            return\n",
    "        \n",
    "        index = self.hash1(key)\n",
    "\n",
    "        if self.HashTable[index] != -1:\n",
    "            index2 = self.hash2(key)\n",
    "            i = 1\n",
    "\n",
    "            while True:\n",
    "                newIndex = (index+i*index2)%TABLE_SIZE\n",
    "                if self.HashTable[newIndex] == -1:\n",
    "                    self.HashTable[newIndex] = key\n",
    "                    break\n",
    "                i += 1\n",
    "        else:\n",
    "            self.HashTable[index] = key\n",
    "        \n",
    "        self.curr_size += 1\n",
    "\n",
    "def main():\n",
    "    a = [19, 27, 36, 10, 64]\n",
    "    n = len(a)\n",
    "\n",
    "    h = DoubleHash()\n",
    "    for ele in a:\n",
    "        h.insert(ele)\n",
    "    \n",
    "    # searching some keys\n",
    "    h.search(36)  # This key is present in hash table\n",
    "    h.search(100)  # This key does not exist in hash table\n",
    "    # display the hash Table\n",
    "    h.display()\n",
    "\n",
    "main()"
   ]
  },
  {
   "source": [
    "## 5. Load Factor and Rehashing\n",
    "\n"
   ],
   "cell_type": "markdown",
   "metadata": {}
  },
  {
   "cell_type": "code",
   "execution_count": 10,
   "metadata": {},
   "outputs": [
    {
     "output_type": "stream",
     "name": "stdout",
     "text": [
      "HashMap created\nNumber of pairs in the Map:  0\nSize of Map:  5\nDefault Load Factor :  0.75 \n\nPair( 1 ,  Geeks ) inserted successfully.\n\nCurrent Load factor =  0.2\nNumber of pairs in the Map:  1\nSize of Map:  5 \n\nCurrent HashMap:\nkey =  1 , val =  Geeks\n\n\nPair( 2 ,  forGeeks ) inserted successfully.\n\nCurrent Load factor =  0.4\nNumber of pairs in the Map:  2\nSize of Map:  5 \n\nCurrent HashMap:\nkey =  1 , val =  Geeks\nkey =  2 , val =  forGeeks\n\n\nPair( 3 ,  A ) inserted successfully.\n\nCurrent Load factor =  0.6\nNumber of pairs in the Map:  3\nSize of Map:  5 \n\nCurrent HashMap:\nkey =  1 , val =  Geeks\nkey =  2 , val =  forGeeks\nkey =  3 , val =  A\n\n\nPair( 4 ,  Computer ) inserted successfully.\n\nCurrent Load factor =  0.8\n0.8  is greater than  0.75\nTherefore Rehashing will be done.\n\n\n***Rehashing Started***\n\nPair( 1 ,  Geeks ) inserted successfully.\n\nCurrent Load factor =  0.1\nNumber of pairs in the Map:  1\nSize of Map:  10 \n\nPair( 2 ,  forGeeks ) inserted successfully.\n\nCurrent Load factor =  0.2\nNumber of pairs in the Map:  2\nSize of Map:  10 \n\nPair( 3 ,  A ) inserted successfully.\n\nCurrent Load factor =  0.3\nNumber of pairs in the Map:  3\nSize of Map:  10 \n\nPair( 4 ,  Computer ) inserted successfully.\n\nCurrent Load factor =  0.4\nNumber of pairs in the Map:  4\nSize of Map:  10 \n\n\n***Rehashing Ended***\n\nNew Size of Map:  10 \n\nNumber of pairs in the Map:  4\nSize of Map:  10 \n\nCurrent HashMap:\nkey =  1 , val =  Geeks\nkey =  2 , val =  forGeeks\nkey =  3 , val =  A\nkey =  4 , val =  Computer\n\n\nPair( 5 ,  Portal ) inserted successfully.\n\nCurrent Load factor =  0.5\nNumber of pairs in the Map:  5\nSize of Map:  10 \n\nCurrent HashMap:\nkey =  1 , val =  Geeks\nkey =  2 , val =  forGeeks\nkey =  3 , val =  A\nkey =  4 , val =  Computer\nkey =  5 , val =  Portal\n\n\n"
     ]
    }
   ],
   "source": [
    "class MapNode:\n",
    "    def __init__(self, key, value):\n",
    "        self.key = key\n",
    "        self.value = value\n",
    "        self.next = None\n",
    "\n",
    "#Global parameters\n",
    "alpha = 0.75  # Default Load Factor\n",
    "\n",
    "class Map:\n",
    "    def __init__(self):\n",
    "        self.curr_size = 0\n",
    "        self.bucket_size = 5\n",
    "        self.buckets = [None for i in range(self.bucket_size)]\n",
    "        print(\"HashMap created\")\n",
    "        print(\"Number of pairs in the Map: \",  self.curr_size)\n",
    "        print(\"Size of Map: \",  self.bucket_size)\n",
    "        print(\"Default Load Factor : \", alpha,  \"\\n\")\n",
    "    \n",
    "    def hash1(self, key):\n",
    "        return key%self.bucket_size\n",
    "\n",
    "    def rehash(self):\n",
    "        print(\"\\n***Rehashing Started***\\n\")\n",
    "        # The present bucket list is made curr_bucket\n",
    "        curr_bucket = self.buckets\n",
    "\n",
    "        self.bucket_size *= 2\n",
    "        # New bucketList of double the old size is created\n",
    "        self.buckets = [None for i in range(self.bucket_size)]\n",
    "        # Now size is made zero\n",
    "        self.curr_size = 0\n",
    "        # and we loop through all the nodes in the original bucket list(curr_bucket)\n",
    "        # and insert it into the new list\n",
    "        for i in range(len(curr_bucket)):\n",
    "            # head of the chain at that index\n",
    "            head = curr_bucket[i]\n",
    "            while head is not None:\n",
    "                key = head.key \n",
    "                value = head.value\n",
    "                # calling the insert function for each node in curr_bucket\n",
    "                # as the new list is now the bucketArray\n",
    "                self.insert(key, value)\n",
    "                head = head.next \n",
    "        print(\"\\n***Rehashing Ended***\\n\")\n",
    "    \n",
    "    def printMap(self):\n",
    "        # The present bucket list is made curr_bucket\n",
    "        curr_bucket = self.buckets \n",
    "        print(\"Current HashMap:\")\n",
    "\n",
    "        # loop through all the nodes and print them\n",
    "        for i in range(len(curr_bucket)):\n",
    "            # head of the chain at that index\n",
    "            head = curr_bucket[i]\n",
    "            while head is not None:\n",
    "                print(\"key = \", head.key, \", val = \", head.value)\n",
    "                head = head.next \n",
    "        print('\\n')\n",
    "    \n",
    "    def insert(self, key, value):\n",
    "        # Getting the index at which it needs to be inserted\n",
    "        bucketIndex = self.hash1(key)\n",
    "        # The first node at that index\n",
    "        head = self.buckets[bucketIndex]\n",
    "        # First, loop through all the nodes present at that index\n",
    "        # to check if the key already exists\n",
    "        while head is not None:\n",
    "            # If already present the value is updated\n",
    "            if head.key == key:\n",
    "                head.value = value\n",
    "                return\n",
    "            head = head.next \n",
    "        \n",
    "        # new node with the key and value\n",
    "        newNode = MapNode(key, value)\n",
    "        # The head node at the index\n",
    "        head = self.buckets[bucketIndex]\n",
    "        # the new node is inserted\n",
    "        # by making it the head\n",
    "        # and it's next is the previous head\n",
    "        newNode.next = head\n",
    "\n",
    "        self.buckets[bucketIndex] = newNode \n",
    "        print(\"Pair(\", key, \", \", value, \") inserted successfully.\\n\")\n",
    "\n",
    "        # Incrementing size\n",
    "        # as new key-value pair is added to the map\n",
    "        self.curr_size += 1\n",
    "\n",
    "        # Load factor calculated\n",
    "        load_factor = 1.0 * self.curr_size/self.bucket_size\n",
    "        print(\"Current Load factor = \", load_factor) \n",
    "\n",
    "        # If the load factor is > 0.75, rehashing is done\n",
    "        if load_factor > alpha:\n",
    "            print(load_factor, \" is greater than \", alpha)\n",
    "            print(\"Therefore Rehashing will be done.\\n\")\n",
    "\n",
    "            # Rehash\n",
    "            self.rehash()\n",
    "\n",
    "            print(\"New Size of Map: \", self.bucket_size,  \"\\n\")\n",
    "        print(\"Number of pairs in the Map: \", self.curr_size)\n",
    "        print(\"Size of Map: \", self.bucket_size, \"\\n\")\n",
    "\n",
    "def main():\n",
    "    # Creating the Map\n",
    "    map = Map()\n",
    "    # Inserting elements\n",
    "    map.insert(1, \"Geeks\")\n",
    "    map.printMap()\n",
    "  \n",
    "    map.insert(2, \"forGeeks\")\n",
    "    map.printMap()\n",
    "  \n",
    "    map.insert(3, \"A\")\n",
    "    map.printMap()\n",
    "  \n",
    "    map.insert(4, \"Computer\")\n",
    "    map.printMap()\n",
    "  \n",
    "    map.insert(5, \"Portal\")\n",
    "    map.printMap()\n",
    "\n",
    "            \n",
    "main()"
   ]
  },
  {
   "source": [
    "## 6. Find whether an array is subset of another array\n"
   ],
   "cell_type": "markdown",
   "metadata": {}
  },
  {
   "cell_type": "code",
   "execution_count": 11,
   "metadata": {},
   "outputs": [
    {
     "output_type": "stream",
     "name": "stdout",
     "text": [
      "arr2[] is subset of arr1[] \n"
     ]
    }
   ],
   "source": [
    "# Python3 program to find whether an array\n",
    "# is subset of another array\n",
    " \n",
    "# Return true if arr2[] is a subset\n",
    "# of arr1[]\n",
    "def isSubset(arr1, m, arr2, n):\n",
    "     \n",
    "    # Using STL set for hashing\n",
    "    hashset = set()\n",
    " \n",
    "    # hset stores all the values of arr1\n",
    "    for i in range(0, m):\n",
    "        hashset.add(arr1[i])\n",
    " \n",
    "    # Loop to check if all elements\n",
    "    # of arr2 also lies in arr1\n",
    "    for i in range(0, n):\n",
    "        if arr2[i] in hashset:\n",
    "            continue\n",
    "        else:\n",
    "            return False\n",
    " \n",
    "    return True\n",
    " \n",
    "# Driver Code\n",
    "if __name__ == '__main__':\n",
    "     \n",
    "    arr1 = [ 11, 1, 13, 21, 3, 7 ]\n",
    "    arr2 = [ 11, 3, 7, 1 ]\n",
    "     \n",
    "    m = len(arr1)\n",
    "    n = len(arr2)\n",
    "     \n",
    "    if (isSubset(arr1, m, arr2, n)):\n",
    "        print(\"arr2[] is subset of arr1[] \")\n",
    "    else:\n",
    "        print(\"arr2[] is not a subset of arr1[] \")"
   ]
  },
  {
   "source": [
    "### 7. Given an array A[] and a number x, check for pair in A[] with sum as x"
   ],
   "cell_type": "markdown",
   "metadata": {}
  },
  {
   "cell_type": "code",
   "execution_count": 14,
   "metadata": {},
   "outputs": [
    {
     "output_type": "stream",
     "name": "stdout",
     "text": [
      "Pair with given sum 16 is (10, 6)\n"
     ]
    }
   ],
   "source": [
    "\n",
    "# Python program to find if there are\n",
    "# two elements wtih given sum\n",
    " \n",
    "# function to check for the given sum\n",
    "# in the array\n",
    "def printPairs(arr, arr_size, sum):\n",
    "     \n",
    "    # Create an empty hash set\n",
    "    s = set()\n",
    "     \n",
    "    for i in range(0, arr_size):\n",
    "        temp = sum-arr[i]\n",
    "        if (temp in s):\n",
    "            print(\"Pair with given sum \"+ str(sum) +\n",
    "       \" is (\" + str(arr[i]) + \", \" + str(temp) + \")\")\n",
    "        s.add(arr[i])\n",
    " \n",
    "# driver code\n",
    "A = [1, 4, 45, 6, 10, 8]\n",
    "n = 16\n",
    "printPairs(A, len(A), n)"
   ]
  },
  {
   "source": [
    "## 8. Maximum distance between two occurrences of same element in array"
   ],
   "cell_type": "markdown",
   "metadata": {}
  },
  {
   "cell_type": "code",
   "execution_count": 16,
   "metadata": {},
   "outputs": [
    {
     "output_type": "stream",
     "name": "stdout",
     "text": [
      "10\n"
     ]
    }
   ],
   "source": [
    "# Python program to find maximum distance between two\n",
    "# same occurrences of a number.\n",
    " \n",
    "# Function to find maximum distance between equal elements\n",
    "def maxDistance(arr, n):\n",
    "     \n",
    "    # Used to store element to first index mapping\n",
    "    mp = {}\n",
    " \n",
    "    # Traverse elements and find maximum distance between\n",
    "    # same occurrences with the help of map.\n",
    "    maxDict = 0\n",
    "    for i in range(n):\n",
    " \n",
    "        # If this is first occurrence of element, insert its\n",
    "        # index in map\n",
    "        if arr[i] not in mp.keys():\n",
    "            mp[arr[i]] = i\n",
    " \n",
    "        # Else update max distance\n",
    "        else:\n",
    "            maxDict = max(maxDict, i-mp[arr[i]])\n",
    " \n",
    "    return maxDict\n",
    " \n",
    "# Driver Program\n",
    "if __name__=='__main__':\n",
    "    arr = [3, 2, 1, 2, 1, 4, 5, 8, 6, 7, 4, 2]\n",
    "    n = len(arr)\n",
    "    print (maxDistance(arr, n))"
   ]
  },
  {
   "cell_type": "code",
   "execution_count": null,
   "metadata": {},
   "outputs": [],
   "source": []
  }
 ]
}