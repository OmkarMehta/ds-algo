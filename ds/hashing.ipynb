{
 "cells": [
  {
   "cell_type": "markdown",
   "metadata": {},
   "source": [
    "# Hashing\n",
    "## &copy;  [Omkar Mehta](omehta2@illinois.edu) ##\n",
    "### Industrial and Enterprise Systems Engineering, The Grainger College of Engineering,  UIUC ###\n",
    "\n",
    "<hr style=\"border:2px solid blue\"> </hr>\n",
    "\n",
    "## 1. Index Mapping (or Trivial Hashing) with negatives allowed"
   ]
  },
  {
   "cell_type": "code",
   "execution_count": 1,
   "metadata": {},
   "outputs": [
    {
     "name": "stdout",
     "output_type": "stream",
     "text": [
      "Present\n"
     ]
    }
   ],
   "source": [
    "# Python3 program to implement direct index\n",
    "# mapping with negative values allowed.\n",
    "\n",
    "# Searching if X is Present in the\n",
    "# given array or not.\n",
    "def search(X):\n",
    "\n",
    "\tif X >= 0:\n",
    "\t\treturn has[X][0] == 1\n",
    "\n",
    "\t# if X is negative take the absolute\n",
    "\t# value of X.\n",
    "\tX = abs(X)\n",
    "\treturn has[X][1] == 1\n",
    "\n",
    "def insert(a, n):\n",
    "\n",
    "\tfor i in range(0, n):\n",
    "\t\tif a[i] >= 0:\n",
    "\t\t\thas[a[i]][0] = 1\n",
    "\t\telse:\n",
    "\t\t\thas[abs(a[i])][1] = 1\n",
    "\n",
    "# Driver code\n",
    "if __name__ == \"__main__\":\n",
    "\n",
    "\ta = [-1, 9, -5, -8, -5, -2]\n",
    "\tn = len(a)\n",
    "\n",
    "\tMAX = 1000\n",
    "\t\n",
    "\t# Since array is global, it is\n",
    "\t# initialized as 0.\n",
    "\thas = [[0 for i in range(2)]\n",
    "\t\t\tfor j in range(MAX + 1)]\n",
    "\tinsert(a, n)\n",
    "\n",
    "\tX = -5\n",
    "\tif search(X) == True:\n",
    "\t\tprint(\"Present\")\n",
    "\telse:\n",
    "\t\tprint(\"Not Present\")"
   ]
  },
  {
   "cell_type": "markdown",
   "metadata": {},
   "source": [
    "## 2. Hashing | Set 2 (Separate Chaining)\n",
    "\n",
    "* Insert takes $ O(1) $\n",
    "* Search takes $ O(1+\\alpha) $\n",
    "* Delete takes $ O(1+\\alpha) $\n",
    "\n",
    "where $\\alpha = \\frac{n}{m} $\n",
    "\n",
    "n = number of keys\n",
    "m = number of slots in hash table.\n",
    "\n"
   ]
  },
  {
   "cell_type": "markdown",
   "metadata": {},
   "source": [
    "## 3. Hashing | Set 3 (Open Addressing)\n",
    "\n",
    "* Insert(k): Keep probing until an empty slot is found. Once an empty slot is found, insert k. \n",
    "\n",
    "* Search(k): Keep probing until slot’s key doesn’t become equal to k or an empty slot is reached. \n",
    "\n",
    "* Delete(k): Delete operation is interesting. If we simply delete a key, then the search may fail. So slots of deleted keys are marked specially as “deleted”. \n",
    "\n",
    "To address Open Addressing, we use `Linear Probing`, `Quadratic Probing`, or `Double Hashing`. \n",
    "\n",
    "Time Complexity for Search, Insert and Delete is less than $ \\frac{1}{1-\\alpha} $\n"
   ]
  },
  {
   "cell_type": "markdown",
   "metadata": {},
   "source": [
    "## 4. Double Hashing\n",
    "\n"
   ]
  },
  {
   "cell_type": "code",
   "execution_count": 4,
   "metadata": {},
   "outputs": [
    {
     "name": "stdout",
     "output_type": "stream",
     "text": [
      "Key Found\n",
      "Key not present\n",
      "0\n",
      "1 --> 27\n",
      "2\n",
      "3\n",
      "4\n",
      "5 --> 10\n",
      "6 --> 19\n",
      "7\n",
      "8\n",
      "9\n",
      "10 --> 36\n",
      "11\n",
      "12 --> 64\n"
     ]
    }
   ],
   "source": [
    "TABLE_SIZE = 13\n",
    "PRIME = 7\n",
    "\n",
    "class DoubleHash:\n",
    "    def __init__(self):\n",
    "        self.curr_size = 0\n",
    "        self.HashTable = [-1 for i in range(TABLE_SIZE)]\n",
    "    \n",
    "    def isFull(self):\n",
    "        return self.curr_size == TABLE_SIZE\n",
    "    \n",
    "    def hash1(self, key):\n",
    "        return key%TABLE_SIZE\n",
    "    \n",
    "    def hash2(self, key):\n",
    "        return PRIME - key%PRIME\n",
    "    \n",
    "    def display(self):\n",
    "        for i in range(TABLE_SIZE):\n",
    "            if self.HashTable[i] != -1:\n",
    "                print(f'{i} --> {self.HashTable[i]}')\n",
    "            else:\n",
    "                print(i)\n",
    "    \n",
    "    def search(self, key):\n",
    "        index1 = self.hash1(key)\n",
    "        index2 = self.hash2(key)\n",
    "        i = 0\n",
    "        while self.HashTable[(index1+i*index2)%TABLE_SIZE] != key:\n",
    "            if self.HashTable[(index1+i*index2)%TABLE_SIZE] == -1:\n",
    "                print('Key not present')\n",
    "                return\n",
    "            i += 1\n",
    "        print('Key Found')\n",
    "    \n",
    "    def insert(self, key):\n",
    "        if self.isFull():\n",
    "            return\n",
    "        \n",
    "        index = self.hash1(key)\n",
    "\n",
    "        if self.HashTable[index] != -1:\n",
    "            index2 = self.hash2(key)\n",
    "            i = 1\n",
    "\n",
    "            while True:\n",
    "                newIndex = (index+i*index2)%TABLE_SIZE\n",
    "                if self.HashTable[newIndex] == -1:\n",
    "                    self.HashTable[newIndex] = key\n",
    "                    break\n",
    "                i += 1\n",
    "        else:\n",
    "            self.HashTable[index] = key\n",
    "        \n",
    "        self.curr_size += 1\n",
    "\n",
    "def main():\n",
    "    a = [19, 27, 36, 10, 64]\n",
    "    n = len(a)\n",
    "\n",
    "    h = DoubleHash()\n",
    "    for ele in a:\n",
    "        h.insert(ele)\n",
    "    \n",
    "    # searching some keys\n",
    "    h.search(36)  # This key is present in hash table\n",
    "    h.search(100)  # This key does not exist in hash table\n",
    "    # display the hash Table\n",
    "    h.display()\n",
    "\n",
    "main()"
   ]
  },
  {
   "cell_type": "markdown",
   "metadata": {},
   "source": [
    "## 5. Load Factor and Rehashing\n",
    "\n"
   ]
  },
  {
   "cell_type": "code",
   "execution_count": 10,
   "metadata": {},
   "outputs": [
    {
     "name": "stdout",
     "output_type": "stream",
     "text": [
      "HashMap created\n",
      "Number of pairs in the Map:  0\n",
      "Size of Map:  5\n",
      "Default Load Factor :  0.75 \n",
      "\n",
      "Pair( 1 ,  Geeks ) inserted successfully.\n",
      "\n",
      "Current Load factor =  0.2\n",
      "Number of pairs in the Map:  1\n",
      "Size of Map:  5 \n",
      "\n",
      "Current HashMap:\n",
      "key =  1 , val =  Geeks\n",
      "\n",
      "\n",
      "Pair( 2 ,  forGeeks ) inserted successfully.\n",
      "\n",
      "Current Load factor =  0.4\n",
      "Number of pairs in the Map:  2\n",
      "Size of Map:  5 \n",
      "\n",
      "Current HashMap:\n",
      "key =  1 , val =  Geeks\n",
      "key =  2 , val =  forGeeks\n",
      "\n",
      "\n",
      "Pair( 3 ,  A ) inserted successfully.\n",
      "\n",
      "Current Load factor =  0.6\n",
      "Number of pairs in the Map:  3\n",
      "Size of Map:  5 \n",
      "\n",
      "Current HashMap:\n",
      "key =  1 , val =  Geeks\n",
      "key =  2 , val =  forGeeks\n",
      "key =  3 , val =  A\n",
      "\n",
      "\n",
      "Pair( 4 ,  Computer ) inserted successfully.\n",
      "\n",
      "Current Load factor =  0.8\n",
      "0.8  is greater than  0.75\n",
      "Therefore Rehashing will be done.\n",
      "\n",
      "\n",
      "***Rehashing Started***\n",
      "\n",
      "Pair( 1 ,  Geeks ) inserted successfully.\n",
      "\n",
      "Current Load factor =  0.1\n",
      "Number of pairs in the Map:  1\n",
      "Size of Map:  10 \n",
      "\n",
      "Pair( 2 ,  forGeeks ) inserted successfully.\n",
      "\n",
      "Current Load factor =  0.2\n",
      "Number of pairs in the Map:  2\n",
      "Size of Map:  10 \n",
      "\n",
      "Pair( 3 ,  A ) inserted successfully.\n",
      "\n",
      "Current Load factor =  0.3\n",
      "Number of pairs in the Map:  3\n",
      "Size of Map:  10 \n",
      "\n",
      "Pair( 4 ,  Computer ) inserted successfully.\n",
      "\n",
      "Current Load factor =  0.4\n",
      "Number of pairs in the Map:  4\n",
      "Size of Map:  10 \n",
      "\n",
      "\n",
      "***Rehashing Ended***\n",
      "\n",
      "New Size of Map:  10 \n",
      "\n",
      "Number of pairs in the Map:  4\n",
      "Size of Map:  10 \n",
      "\n",
      "Current HashMap:\n",
      "key =  1 , val =  Geeks\n",
      "key =  2 , val =  forGeeks\n",
      "key =  3 , val =  A\n",
      "key =  4 , val =  Computer\n",
      "\n",
      "\n",
      "Pair( 5 ,  Portal ) inserted successfully.\n",
      "\n",
      "Current Load factor =  0.5\n",
      "Number of pairs in the Map:  5\n",
      "Size of Map:  10 \n",
      "\n",
      "Current HashMap:\n",
      "key =  1 , val =  Geeks\n",
      "key =  2 , val =  forGeeks\n",
      "key =  3 , val =  A\n",
      "key =  4 , val =  Computer\n",
      "key =  5 , val =  Portal\n",
      "\n",
      "\n"
     ]
    }
   ],
   "source": [
    "class MapNode:\n",
    "    def __init__(self, key, value):\n",
    "        self.key = key\n",
    "        self.value = value\n",
    "        self.next = None\n",
    "\n",
    "#Global parameters\n",
    "alpha = 0.75  # Default Load Factor\n",
    "\n",
    "class Map:\n",
    "    def __init__(self):\n",
    "        self.curr_size = 0\n",
    "        self.bucket_size = 5\n",
    "        self.buckets = [None for i in range(self.bucket_size)]\n",
    "        print(\"HashMap created\")\n",
    "        print(\"Number of pairs in the Map: \",  self.curr_size)\n",
    "        print(\"Size of Map: \",  self.bucket_size)\n",
    "        print(\"Default Load Factor : \", alpha,  \"\\n\")\n",
    "    \n",
    "    def hash1(self, key):\n",
    "        return key%self.bucket_size\n",
    "\n",
    "    def rehash(self):\n",
    "        print(\"\\n***Rehashing Started***\\n\")\n",
    "        # The present bucket list is made curr_bucket\n",
    "        curr_bucket = self.buckets\n",
    "\n",
    "        self.bucket_size *= 2\n",
    "        # New bucketList of double the old size is created\n",
    "        self.buckets = [None for i in range(self.bucket_size)]\n",
    "        # Now size is made zero\n",
    "        self.curr_size = 0\n",
    "        # and we loop through all the nodes in the original bucket list(curr_bucket)\n",
    "        # and insert it into the new list\n",
    "        for i in range(len(curr_bucket)):\n",
    "            # head of the chain at that index\n",
    "            head = curr_bucket[i]\n",
    "            while head is not None:\n",
    "                key = head.key \n",
    "                value = head.value\n",
    "                # calling the insert function for each node in curr_bucket\n",
    "                # as the new list is now the bucketArray\n",
    "                self.insert(key, value)\n",
    "                head = head.next \n",
    "        print(\"\\n***Rehashing Ended***\\n\")\n",
    "    \n",
    "    def printMap(self):\n",
    "        # The present bucket list is made curr_bucket\n",
    "        curr_bucket = self.buckets \n",
    "        print(\"Current HashMap:\")\n",
    "\n",
    "        # loop through all the nodes and print them\n",
    "        for i in range(len(curr_bucket)):\n",
    "            # head of the chain at that index\n",
    "            head = curr_bucket[i]\n",
    "            while head is not None:\n",
    "                print(\"key = \", head.key, \", val = \", head.value)\n",
    "                head = head.next \n",
    "        print('\\n')\n",
    "    \n",
    "    def insert(self, key, value):\n",
    "        # Getting the index at which it needs to be inserted\n",
    "        bucketIndex = self.hash1(key)\n",
    "        # The first node at that index\n",
    "        head = self.buckets[bucketIndex]\n",
    "        # First, loop through all the nodes present at that index\n",
    "        # to check if the key already exists\n",
    "        while head is not None:\n",
    "            # If already present the value is updated\n",
    "            if head.key == key:\n",
    "                head.value = value\n",
    "                return\n",
    "            head = head.next \n",
    "        \n",
    "        # new node with the key and value\n",
    "        newNode = MapNode(key, value)\n",
    "        # The head node at the index\n",
    "        head = self.buckets[bucketIndex]\n",
    "        # the new node is inserted\n",
    "        # by making it the head\n",
    "        # and it's next is the previous head\n",
    "        newNode.next = head\n",
    "\n",
    "        self.buckets[bucketIndex] = newNode \n",
    "        print(\"Pair(\", key, \", \", value, \") inserted successfully.\\n\")\n",
    "\n",
    "        # Incrementing size\n",
    "        # as new key-value pair is added to the map\n",
    "        self.curr_size += 1\n",
    "\n",
    "        # Load factor calculated\n",
    "        load_factor = 1.0 * self.curr_size/self.bucket_size\n",
    "        print(\"Current Load factor = \", load_factor) \n",
    "\n",
    "        # If the load factor is > 0.75, rehashing is done\n",
    "        if load_factor > alpha:\n",
    "            print(load_factor, \" is greater than \", alpha)\n",
    "            print(\"Therefore Rehashing will be done.\\n\")\n",
    "\n",
    "            # Rehash\n",
    "            self.rehash()\n",
    "\n",
    "            print(\"New Size of Map: \", self.bucket_size,  \"\\n\")\n",
    "        print(\"Number of pairs in the Map: \", self.curr_size)\n",
    "        print(\"Size of Map: \", self.bucket_size, \"\\n\")\n",
    "\n",
    "def main():\n",
    "    # Creating the Map\n",
    "    map = Map()\n",
    "    # Inserting elements\n",
    "    map.insert(1, \"Geeks\")\n",
    "    map.printMap()\n",
    "  \n",
    "    map.insert(2, \"forGeeks\")\n",
    "    map.printMap()\n",
    "  \n",
    "    map.insert(3, \"A\")\n",
    "    map.printMap()\n",
    "  \n",
    "    map.insert(4, \"Computer\")\n",
    "    map.printMap()\n",
    "  \n",
    "    map.insert(5, \"Portal\")\n",
    "    map.printMap()\n",
    "\n",
    "            \n",
    "main()"
   ]
  },
  {
   "cell_type": "markdown",
   "metadata": {},
   "source": [
    "## 6. Find whether an array is subset of another array\n"
   ]
  },
  {
   "cell_type": "code",
   "execution_count": 11,
   "metadata": {},
   "outputs": [
    {
     "name": "stdout",
     "output_type": "stream",
     "text": [
      "arr2[] is subset of arr1[] \n"
     ]
    }
   ],
   "source": [
    "# Python3 program to find whether an array\n",
    "# is subset of another array\n",
    " \n",
    "# Return true if arr2[] is a subset\n",
    "# of arr1[]\n",
    "def isSubset(arr1, m, arr2, n):\n",
    "     \n",
    "    # Using STL set for hashing\n",
    "    hashset = set()\n",
    " \n",
    "    # hset stores all the values of arr1\n",
    "    for i in range(0, m):\n",
    "        hashset.add(arr1[i])\n",
    " \n",
    "    # Loop to check if all elements\n",
    "    # of arr2 also lies in arr1\n",
    "    for i in range(0, n):\n",
    "        if arr2[i] in hashset:\n",
    "            continue\n",
    "        else:\n",
    "            return False\n",
    " \n",
    "    return True\n",
    " \n",
    "# Driver Code\n",
    "if __name__ == '__main__':\n",
    "     \n",
    "    arr1 = [ 11, 1, 13, 21, 3, 7 ]\n",
    "    arr2 = [ 11, 3, 7, 1 ]\n",
    "     \n",
    "    m = len(arr1)\n",
    "    n = len(arr2)\n",
    "     \n",
    "    if (isSubset(arr1, m, arr2, n)):\n",
    "        print(\"arr2[] is subset of arr1[] \")\n",
    "    else:\n",
    "        print(\"arr2[] is not a subset of arr1[] \")"
   ]
  },
  {
   "cell_type": "markdown",
   "metadata": {},
   "source": [
    "### 7. Given an array A[] and a number x, check for pair in A[] with sum as x"
   ]
  },
  {
   "cell_type": "code",
   "execution_count": 14,
   "metadata": {},
   "outputs": [
    {
     "name": "stdout",
     "output_type": "stream",
     "text": [
      "Pair with given sum 16 is (10, 6)\n"
     ]
    }
   ],
   "source": [
    "\n",
    "# Python program to find if there are\n",
    "# two elements wtih given sum\n",
    " \n",
    "# function to check for the given sum\n",
    "# in the array\n",
    "def printPairs(arr, arr_size, sum):\n",
    "     \n",
    "    # Create an empty hash set\n",
    "    s = set()\n",
    "     \n",
    "    for i in range(0, arr_size):\n",
    "        temp = sum-arr[i]\n",
    "        if (temp in s):\n",
    "            print(\"Pair with given sum \"+ str(sum) +\n",
    "       \" is (\" + str(arr[i]) + \", \" + str(temp) + \")\")\n",
    "        s.add(arr[i])\n",
    " \n",
    "# driver code\n",
    "A = [1, 4, 45, 6, 10, 8]\n",
    "n = 16\n",
    "printPairs(A, len(A), n)"
   ]
  },
  {
   "cell_type": "markdown",
   "metadata": {},
   "source": [
    "## 8. Maximum distance between two occurrences of same element in array"
   ]
  },
  {
   "cell_type": "code",
   "execution_count": 16,
   "metadata": {},
   "outputs": [
    {
     "name": "stdout",
     "output_type": "stream",
     "text": [
      "10\n"
     ]
    }
   ],
   "source": [
    "# Python program to find maximum distance between two\n",
    "# same occurrences of a number.\n",
    " \n",
    "# Function to find maximum distance between equal elements\n",
    "def maxDistance(arr, n):\n",
    "     \n",
    "    # Used to store element to first index mapping\n",
    "    mp = {}\n",
    " \n",
    "    # Traverse elements and find maximum distance between\n",
    "    # same occurrences with the help of map.\n",
    "    maxDict = 0\n",
    "    for i in range(n):\n",
    " \n",
    "        # If this is first occurrence of element, insert its\n",
    "        # index in map\n",
    "        if arr[i] not in mp.keys():\n",
    "            mp[arr[i]] = i\n",
    " \n",
    "        # Else update max distance\n",
    "        else:\n",
    "            maxDict = max(maxDict, i-mp[arr[i]])\n",
    " \n",
    "    return maxDict\n",
    " \n",
    "# Driver Program\n",
    "if __name__=='__main__':\n",
    "    arr = [3, 2, 1, 2, 1, 4, 5, 8, 6, 7, 4, 2]\n",
    "    n = len(arr)\n",
    "    print (maxDistance(arr, n))"
   ]
  },
  {
   "cell_type": "markdown",
   "metadata": {},
   "source": [
    "## 9. Count maximum points on same line\n"
   ]
  },
  {
   "cell_type": "code",
   "execution_count": 21,
   "metadata": {},
   "outputs": [
    {
     "name": "stdout",
     "output_type": "stream",
     "text": [
      "3\n"
     ]
    }
   ],
   "source": [
    "def maxPoints(points):\n",
    "    n = len(points)\n",
    "    \n",
    "    if n < 3:\n",
    "        return n\n",
    "    \n",
    "    max_points = 0\n",
    "    \n",
    "    for i in range(n):\n",
    "        dict_slope = {}\n",
    "        overlapping_points = 0\n",
    "        vertical_points = 0\n",
    "        curr_max = 0\n",
    "\n",
    "        for j in range(1, n):\n",
    "            if points[i] == points[j]:\n",
    "                overlapping_points += 1\n",
    "            elif points[i][0] == points[j][0]:\n",
    "                vertical_points += 1\n",
    "            else:\n",
    "                slope = float(points[j][1] - points[i][1])/float(points[j][0] - points[i][0])\n",
    "                if slope in dict_slope.keys():\n",
    "                    dict_slope[slope] += 1\n",
    "                else:\n",
    "                    dict_slope[slope] = 1\n",
    "                curr_max = max(curr_max, dict_slope[slope])\n",
    "            curr_max = max(curr_max, vertical_points)\n",
    "        max_points = max(max_points, curr_max+overlapping_points)\n",
    "    return max_points\n",
    "def main():\n",
    "    points = [(-1, 1), (0, 1), (1, 1), (2, 2), (3, 3), (3, 4)]\n",
    "    print(maxPoints(points))\n",
    "main()"
   ]
  },
  {
   "cell_type": "markdown",
   "metadata": {},
   "source": [
    "## 10. Minimum Moves to Equal Array Elements\n",
    "\n",
    "- In each move, we can increment n-1 elements by 1."
   ]
  },
  {
   "cell_type": "code",
   "execution_count": 27,
   "metadata": {},
   "outputs": [
    {
     "name": "stdout",
     "output_type": "stream",
     "text": [
      "10\n"
     ]
    }
   ],
   "source": [
    "def min_moves(arr):\n",
    "    n = len(arr)\n",
    "    arraySum = sum(arr)\n",
    "    smallest = arr[0]\n",
    "    for i in range(n):\n",
    "        if arr[i] < smallest:\n",
    "            smallest = arr[i]\n",
    "    return arraySum - n * smallest\n",
    "arr = [5, 6, 2, 4, 3]\n",
    "print(min_moves(arr))\n",
    "\n",
    "def min_moves2(arr):\n",
    "    return sum(arr) - len(arr)* min(arr)"
   ]
  },
  {
   "cell_type": "markdown",
   "metadata": {},
   "source": [
    "## 11. Check if a given array contains duplicate elements within k distance from each other"
   ]
  },
  {
   "cell_type": "code",
   "execution_count": 28,
   "metadata": {},
   "outputs": [
    {
     "name": "stdout",
     "output_type": "stream",
     "text": [
      "Yes\n"
     ]
    }
   ],
   "source": [
    "# Python 3 program to Check if a given array\n",
    "# contains duplicate elements within k distance\n",
    "# from each other\n",
    "def checkDuplicatesWithinK(arr, n, k):\n",
    " \n",
    "    # Creates an empty list\n",
    "    myset = []\n",
    " \n",
    "    # Traverse the input array\n",
    "    for i in range(n):\n",
    "     \n",
    "        # If already present n hash, then we\n",
    "        # found a duplicate within k distance\n",
    "        if arr[i] in myset:\n",
    "            return True\n",
    " \n",
    "        # Add this item to hashset\n",
    "        myset.append(arr[i])\n",
    " \n",
    "        # Remove the k+1 distant item\n",
    "        if (i >= k):\n",
    "            myset.remove(arr[i - k])\n",
    "    return False\n",
    " \n",
    "# Driver Code\n",
    "if __name__ == \"__main__\":\n",
    "     \n",
    "    arr = [10, 5, 3, 4, 3, 5, 6]\n",
    "    n = len(arr)\n",
    "    if (checkDuplicatesWithinK(arr, n, 3)):\n",
    "        print(\"Yes\")\n",
    "    else:\n",
    "        print(\"No\")\n"
   ]
  },
  {
   "cell_type": "markdown",
   "metadata": {},
   "source": [
    "## 12. Minimum Moves to Equal Array Elements II\n",
    "\n",
    "- In each move, we increment/decrement only one element by 1.\n"
   ]
  },
  {
   "cell_type": "code",
   "execution_count": 36,
   "metadata": {},
   "outputs": [
    {
     "name": "stdout",
     "output_type": "stream",
     "text": [
      "4\n",
      "4\n"
     ]
    }
   ],
   "source": [
    "def min_moves1(arr):\n",
    "    n = len(arr)\n",
    "    mid = n//2\n",
    "    arr.sort()\n",
    "    result = 0\n",
    "    for i in range(n):\n",
    "        result += abs(arr[i] - arr[mid])\n",
    "    return result\n",
    "\n",
    "def min_moves2(arr):\n",
    "    arr.sort()\n",
    "    left = 0\n",
    "    right = len(arr)-1\n",
    "    total_moves = 0\n",
    "    while left<right:\n",
    "        total_moves += arr[right] - arr[left]\n",
    "        left += 1\n",
    "        right -= 1\n",
    "    return total_moves\n",
    "arr = [1, 2, 3, 4]\n",
    "print(min_moves1(arr))\n",
    "print(min_moves2(arr))"
   ]
  },
  {
   "cell_type": "markdown",
   "metadata": {},
   "source": [
    "## 13. Top K Frequent Elements"
   ]
  },
  {
   "cell_type": "code",
   "execution_count": 38,
   "metadata": {},
   "outputs": [
    {
     "data": {
      "text/plain": [
       "[2, 6, 3]"
      ]
     },
     "execution_count": 38,
     "metadata": {},
     "output_type": "execute_result"
    }
   ],
   "source": [
    "from collections import Counter\n",
    "import random\n",
    "class Solution:\n",
    "    def topKFrequent(self, nums, k):\n",
    "        count = Counter(nums)\n",
    "        unique = list(count.keys())\n",
    "        \n",
    "        def partition(left, right, pivot_index) -> int:\n",
    "            pivot_frequency = count[unique[pivot_index]]\n",
    "            # 1. move pivot to end\n",
    "            unique[pivot_index], unique[right] = unique[right], unique[pivot_index]  \n",
    "            \n",
    "            # 2. move all less frequent elements to the left\n",
    "            store_index = left\n",
    "            for i in range(left, right):\n",
    "                if count[unique[i]] < pivot_frequency:\n",
    "                    unique[store_index], unique[i] = unique[i], unique[store_index]\n",
    "                    store_index += 1\n",
    "\n",
    "            # 3. move pivot to its final place\n",
    "            unique[right], unique[store_index] = unique[store_index], unique[right]  \n",
    "            \n",
    "            return store_index\n",
    "        \n",
    "        def quickselect(left, right, k_smallest) -> None:\n",
    "            \"\"\"\n",
    "            Sort a list within left..right till kth less frequent element\n",
    "            takes its place. \n",
    "            \"\"\"\n",
    "            # base case: the list contains only one element\n",
    "            if left == right: \n",
    "                return\n",
    "            \n",
    "            # select a random pivot_index\n",
    "            pivot_index = random.randint(left, right)     \n",
    "                            \n",
    "            # find the pivot position in a sorted list   \n",
    "            pivot_index = partition(left, right, pivot_index)\n",
    "            \n",
    "            # if the pivot is in its final sorted position\n",
    "            if k_smallest == pivot_index:\n",
    "                 return \n",
    "            # go left\n",
    "            elif k_smallest < pivot_index:\n",
    "                quickselect(left, pivot_index - 1, k_smallest)\n",
    "            # go right\n",
    "            else:\n",
    "                quickselect(pivot_index + 1, right, k_smallest)\n",
    "         \n",
    "        n = len(unique) \n",
    "        # kth top frequent element is (n - k)th less frequent.\n",
    "        # Do a partial sort: from less frequent to the most frequent, till\n",
    "        # (n - k)th less frequent element takes its place (n - k) in a sorted array. \n",
    "        # All element on the left are less frequent.\n",
    "        # All the elements on the right are more frequent.  \n",
    "        quickselect(0, n - 1, n - k)\n",
    "        # Return top k frequent elements\n",
    "        return unique[n - k:]\n",
    "s = Solution()\n",
    "s.topKFrequent([1,2,3,3,5,6,3], 3)"
   ]
  },
  {
   "cell_type": "markdown",
   "metadata": {},
   "source": [
    "## 14. Most frequent element in an array"
   ]
  },
  {
   "cell_type": "code",
   "execution_count": 39,
   "metadata": {},
   "outputs": [
    {
     "name": "stdout",
     "output_type": "stream",
     "text": [
      "1\n"
     ]
    }
   ],
   "source": [
    "# Python3 program to find the most\n",
    "# frequent element in an array.\n",
    "import math as mt\n",
    " \n",
    "def mostFrequent(arr, n):\n",
    " \n",
    "    # Insert all elements in Hash.\n",
    "    Hash = dict()\n",
    "    for i in range(n):\n",
    "        if arr[i] in Hash.keys():\n",
    "            Hash[arr[i]] += 1\n",
    "        else:\n",
    "            Hash[arr[i]] = 1\n",
    " \n",
    "    # find the max frequency\n",
    "    max_count = 0\n",
    "    res = -1\n",
    "    for i in Hash:\n",
    "        if (max_count < Hash[i]):\n",
    "            res = i\n",
    "            max_count = Hash[i]\n",
    "         \n",
    "    return res\n",
    " \n",
    "# Driver Code\n",
    "arr = [ 1, 5, 2, 1, 3, 2, 1]\n",
    "n = len(arr)\n",
    "print(mostFrequent(arr, n))\n",
    " "
   ]
  },
  {
   "cell_type": "markdown",
   "metadata": {},
   "source": [
    "## 15. Count pairs with given sum\n"
   ]
  },
  {
   "cell_type": "code",
   "execution_count": 40,
   "metadata": {},
   "outputs": [
    {
     "name": "stdout",
     "output_type": "stream",
     "text": [
      "Count of pairs is 3\n"
     ]
    }
   ],
   "source": [
    "def countPair(arr, arr_size, target_sum):\n",
    "    count = 0\n",
    "    s = set()\n",
    "    for i in range(arr_size):\n",
    "        temp = target_sum - arr[i]\n",
    "        if temp in s:\n",
    "            count += 1\n",
    "        s.add(arr[i])\n",
    "    return count\n",
    "\n",
    "arr = [1, 5, 7, -1, 5]\n",
    "n = len(arr)\n",
    "sum = 6\n",
    " \n",
    "print(\"Count of pairs is\", countPair(arr, n, sum))\n"
   ]
  },
  {
   "cell_type": "markdown",
   "metadata": {},
   "source": [
    "## 16. Find distinct elements common to all rows of a matrix"
   ]
  },
  {
   "cell_type": "code",
   "execution_count": 41,
   "metadata": {},
   "outputs": [
    {
     "name": "stdout",
     "output_type": "stream",
     "text": [
      "3 2 "
     ]
    }
   ],
   "source": [
    "# Python3 program to find distinct elements\n",
    "# common to all rows of a matrix\n",
    "MAX = 100\n",
    " \n",
    "# function to individually sort\n",
    "# each row in increasing order\n",
    "def findAndPrintCommonElements(mat, n):\n",
    "    us = dict()\n",
    " \n",
    "    # map elements of first row\n",
    "    # into 'us'\n",
    "    for i in range(n):\n",
    "        us[mat[0][i]] = 1\n",
    " \n",
    "    for i in range(1, n):\n",
    "        temp = dict()\n",
    "         \n",
    "        # mapping elements of current row\n",
    "        # in 'temp'\n",
    "        for j in range(n):\n",
    "            temp[mat[i][j]] = 1\n",
    " \n",
    "        # iterate through all the elements\n",
    "        # of 'us'\n",
    "        for itr in list(us):\n",
    " \n",
    "            # if an element of 'us' is not present\n",
    "            # into 'temp', then erase that element\n",
    "            # from 'us'\n",
    "            if itr not in temp:\n",
    "                del us[itr]\n",
    " \n",
    "        # if size of 'us' becomes 0,\n",
    "        # then there are no common elements\n",
    "        if (len(us) == 0):\n",
    "            break\n",
    " \n",
    "    # prthe common elements\n",
    "    for itr in list(us)[::-1]:\n",
    "        print(itr, end = \" \")\n",
    " \n",
    "# Driver Code\n",
    "mat = [[2, 1, 4, 3],\n",
    "       [1, 2, 3, 2],\n",
    "       [3, 6, 2, 3],\n",
    "       [5, 2, 5, 3]]\n",
    "n = 4\n",
    "findAndPrintCommonElements(mat, n)"
   ]
  },
  {
   "cell_type": "markdown",
   "metadata": {},
   "source": [
    "## 17. Number of subarrays having sum exactly equal to k\n"
   ]
  },
  {
   "cell_type": "code",
   "execution_count": 2,
   "metadata": {},
   "outputs": [
    {
     "name": "stdout",
     "output_type": "stream",
     "text": [
      "3\n"
     ]
    }
   ],
   "source": [
    "def findSubArrays(arr, arr_size, target_sum):\n",
    "    # Dictionary to store sum and its count\n",
    "    dict_sum_count = dict()\n",
    "\n",
    "    # count of sub-arrays\n",
    "    count_sub = 0\n",
    "\n",
    "    # Current sum of sub-arrays\n",
    "    curr_sum = 0\n",
    "    \n",
    "    # Go through each element in arr\n",
    "    for i in range(arr_size):\n",
    "        # Add it to curr_sum\n",
    "        curr_sum += arr[i]\n",
    "\n",
    "        # If the sum of sub-arrays become target_sum, then increment count\n",
    "        if curr_sum == target_sum:\n",
    "            count_sub += 1\n",
    "        \n",
    "        # If curr_sum exceeds target_sum, check if curr_sum - target_sum exists in dict_sum_count.\n",
    "        if curr_sum - target_sum in dict_sum_count.keys():\n",
    "            count_sub += dict_sum_count[curr_sum-target_sum]  # if it does, then add its value to the count\n",
    "        \n",
    "        if curr_sum in dict_sum_count:\n",
    "            dict_sum_count[curr_sum] += 1\n",
    "        else:\n",
    "            dict_sum_count[curr_sum] = 1\n",
    "    \n",
    "    return count_sub\n",
    "arr =  [10, 2, -2, -20, 10] \n",
    "Sum = -10\n",
    "n = len(arr)\n",
    "print(findSubArrays(arr, n, Sum))"
   ]
  },
  {
   "cell_type": "markdown",
   "metadata": {},
   "source": [
    "## 18. k-th distinct (or non-repeating) element in an array."
   ]
  },
  {
   "cell_type": "code",
   "execution_count": 8,
   "metadata": {},
   "outputs": [
    {
     "name": "stdout",
     "output_type": "stream",
     "text": [
      "4\n"
     ]
    }
   ],
   "source": [
    "def findKDistinct(arr, arr_size, k):\n",
    "    hashmap = dict()\n",
    "    for ele in arr:\n",
    "        if ele in hashmap:\n",
    "            hashmap[ele] += 1\n",
    "        else:\n",
    "            hashmap[ele] = 1\n",
    "    \n",
    "    # Vaariable to store count of distinct elelents\n",
    "    dist_count = 0\n",
    "\n",
    "    # hashmap's size is less than k\n",
    "    if len(hashmap) < k:\n",
    "        return -1    \n",
    "\n",
    "    for i in range(arr_size):\n",
    "        if hashmap[arr[i]] == 1:\n",
    "            dist_count += 1\n",
    "        if dist_count == k:\n",
    "            return arr[i]\n",
    "\n",
    "    return -1\n",
    "arr = [1, 2, 1, 3, 4, 2]\n",
    "n = len(arr)\n",
    "k = 2\n",
    "print(findKDistinct(arr, n, k))"
   ]
  },
  {
   "cell_type": "markdown",
   "metadata": {},
   "source": [
    "## 19. Find number of Employees Under every Employee "
   ]
  },
  {
   "cell_type": "code",
   "execution_count": 20,
   "metadata": {},
   "outputs": [
    {
     "name": "stdout",
     "output_type": "stream",
     "text": [
      "{'A': 0, 'B': 0, 'C': 2, 'D': 0, 'E': 1, 'F': 5}\n"
     ]
    }
   ],
   "source": [
    "class NumberEmployeeUnderManager:\n",
    "    # Dictionary to store (manager, #employees)\n",
    "    def __init__(self):\n",
    "        self.result = {}\n",
    "\n",
    "    def populateResult(self, dataset):\n",
    "        # Dictionary to store (manager, list of employees that work under manager)\n",
    "        mngrEmpMap = {}\n",
    "\n",
    "        # Go through each pair in dataset, and append employee as value to the list of manager as key in mngrEmpMap\n",
    "        for (employee, manager) in dataset.items():\n",
    "            if employee != manager:\n",
    "                if manager not in mngrEmpMap:\n",
    "                    mngrEmpMap[manager] = []\n",
    "                    mngrEmpMap[manager].append(employee)\n",
    "                else:\n",
    "                    mngrEmpMap[manager].append(employee)\n",
    "        \n",
    "        # Go through each manager as key in dataset\n",
    "        for key in dataset:\n",
    "            self.populateResultUtil(key, mngrEmpMap)\n",
    "        print(self.result)\n",
    "\n",
    "\n",
    "\n",
    "    def populateResultUtil(self, manager, mngrEmpMap):\n",
    "\n",
    "        # count variable to store the count of employees that work under manager\n",
    "        count = 0\n",
    "\n",
    "        # If manager is not in mngrEmpMap, then add (manager, 0) pair to the result\n",
    "        if manager not in mngrEmpMap:\n",
    "            self.result[manager] = 0\n",
    "            return 0\n",
    "        # if manager is present in result, get its value from result and store it in count\n",
    "        elif manager in self.result:\n",
    "            count = self.result[manager]\n",
    "        # if manager is present in mngrEmpMap, get its list of employees, store its length in count, \n",
    "        # and go through each employee and get its count of employees and add that to the count.\n",
    "        else:\n",
    "            list_employees = mngrEmpMap[manager]\n",
    "            count = len(list_employees)\n",
    "\n",
    "            for employee in list_employees:\n",
    "                count += self.populateResultUtil(employee, mngrEmpMap)\n",
    "                self.result[manager] = count\n",
    "        return count\n",
    "\n",
    "\n",
    "dataset = {\"A\": \"C\",\n",
    "            \"B\": \"C\", \n",
    "            \"C\": \"F\", \n",
    "            \"D\": \"E\", \n",
    "            \"E\": \"F\",\n",
    "            \"F\": \"F\"}\n",
    "em = NumberEmployeeUnderManager()\n",
    "em.populateResult(dataset)"
   ]
  },
  {
   "cell_type": "markdown",
   "metadata": {},
   "source": [
    "## 20. Find four elements a, b, c and d in an array such that a+b = c+d"
   ]
  },
  {
   "cell_type": "code",
   "execution_count": 22,
   "metadata": {},
   "outputs": [
    {
     "name": "stdout",
     "output_type": "stream",
     "text": [
      "(3, 8) and (4, 7) are the pairs.\n"
     ]
    },
    {
     "data": {
      "text/plain": [
       "True"
      ]
     },
     "execution_count": 22,
     "metadata": {},
     "output_type": "execute_result"
    }
   ],
   "source": [
    "class ArrayElements:\n",
    "    # Pair class to store pair's first and second elements\n",
    "    class Pair:\n",
    "        def __init__(self, first, second):\n",
    "            self.first = first\n",
    "            self.second = second\n",
    "        \n",
    "    def findPairs(self, arr):\n",
    "        # length of arr\n",
    "        n = len(arr)\n",
    "        # dictionary to store sum and pair\n",
    "        map_ = dict()\n",
    "\n",
    "        # Go through all possible pairs of arr\n",
    "        for i in range(n):\n",
    "            for j in range(i+1, n):\n",
    "\n",
    "                # Get the sum of elements at i and j positions of arr\n",
    "                sum = arr[i] + arr[j]\n",
    "                # if sum doesn't exist in map_\n",
    "                if sum not in map_:\n",
    "                    map_[sum] = self.Pair(i, j)\n",
    "                # if sum exists in map_\n",
    "                else:\n",
    "                    # get the previous pair of sum\n",
    "                    pair = map_[sum]\n",
    "                    print(f\"({arr[pair.first]}, {arr[pair.second]}) and ({arr[i]}, {arr[j]}) are the pairs.\")\n",
    "                    return True\n",
    "        return False\n",
    "\n",
    "# driver program\n",
    "arr = [3, 4, 7, 1, 2, 9, 8]\n",
    "n = len(arr)\n",
    "arr_ele = ArrayElements()\n",
    "arr_ele.findPairs(arr)\n"
   ]
  },
  {
   "cell_type": "markdown",
   "metadata": {},
   "source": [
    "## 21. Find the length of largest subarray with 0 sum"
   ]
  },
  {
   "cell_type": "code",
   "execution_count": 26,
   "metadata": {},
   "outputs": [
    {
     "name": "stdout",
     "output_type": "stream",
     "text": [
      "Length of the longest 0 sum subarray is  5\n"
     ]
    }
   ],
   "source": [
    "def maxlen(arr):\n",
    "\n",
    "    # initialize\n",
    "    sum = 0\n",
    "    max_len = 0\n",
    "\n",
    "    # dictionary to store (sum, index) pair. Sum: sum of all elements till that index\n",
    "    hm = {}\n",
    "\n",
    "    # go through each index in arr and get sum till that index. If that sum exists in hm, upadate max_len\n",
    "    for i in range(len(arr)):\n",
    "        \n",
    "        # Add element to sum\n",
    "        sum += arr[i]\n",
    "\n",
    "        # If that element is 0 and max_len is also 0\n",
    "        if arr[i] == 0 and max_len == 0:\n",
    "            max_len = 1\n",
    "        \n",
    "        # if sum is 0\n",
    "        if sum == 0:\n",
    "            max_len = i+1\n",
    "        \n",
    "        # get previous index for which we got the same sum\n",
    "        #if previous index exists, update max_len\n",
    "        if sum in hm:\n",
    "            max_len = max(max_len, i - hm[sum])\n",
    "        else:\n",
    "            hm[sum] = i\n",
    "    return max_len\n",
    "\n",
    "# test array\n",
    "arr = [15, -2, 2, -8, 1, 7, 10, 13]\n",
    "  \n",
    "print (\"Length of the longest 0 sum subarray is % d\" % maxlen(arr))"
   ]
  },
  {
   "cell_type": "markdown",
   "metadata": {},
   "source": [
    "## 22. Find subarray with given sum | Set 2 (Handles Negative Numbers)"
   ]
  },
  {
   "cell_type": "code",
   "execution_count": 29,
   "metadata": {},
   "outputs": [
    {
     "name": "stdout",
     "output_type": "stream",
     "text": [
      "Sum found between indexes: 2 to 3\n"
     ]
    }
   ],
   "source": [
    "def subArraySum(arr, arr_size, target_sum):\n",
    "\n",
    "    # dictionary to put (sum, index) pair\n",
    "    hm = {}\n",
    "\n",
    "    # Initialize\n",
    "    curr_sum = 0  # sum till that index\n",
    "    start = 0  # start index of subarray\n",
    "    end = -1  # end index of subarray\n",
    "\n",
    "    # Go through each index of arr\n",
    "    for i in range(arr_size):\n",
    "        # add the current element to curr_sum\n",
    "        curr_sum += arr[i]\n",
    "        # if curr_sum is the target_index\n",
    "        if curr_sum == target_sum:\n",
    "            start = 0\n",
    "            end = i\n",
    "            break\n",
    "\n",
    "        # If current sum exceeds target sum, Check if we already have the curr_sum - target_sum in hm\n",
    "        if (curr_sum - target_sum) in hm:\n",
    "            start = hm[curr_sum - target_sum] + 1  # the element after the index till which we have the difference\n",
    "            end = i \n",
    "            break\n",
    "        hm[curr_sum] = i\n",
    "    \n",
    "    if end == -1:\n",
    "        print(\"No subarray with given sum exists\")\n",
    "    else:\n",
    "        print(f\"Sum found between indexes: {start} to {end}\")\n",
    "\n",
    "# Driver program to test above function\n",
    "if __name__ == \"__main__\":\n",
    "  \n",
    "    arr = [10, 2, -2, -20, 10]\n",
    "    n = len(arr)\n",
    "    Sum = -22\n",
    "   \n",
    "    subArraySum(arr, n, Sum)\n"
   ]
  },
  {
   "cell_type": "markdown",
   "metadata": {},
   "source": [
    "## 23. Design a data structure that supports insert, delete, search and getRandom in constant time"
   ]
  },
  {
   "cell_type": "code",
   "execution_count": 30,
   "metadata": {},
   "outputs": [
    {
     "name": "stdout",
     "output_type": "stream",
     "text": [
      "2\n",
      "3\n",
      "40\n"
     ]
    }
   ],
   "source": [
    "import random\n",
    "class MyDS:\n",
    "    def __init__(self):\n",
    "        self.arr = []  # arraylist to store elements\n",
    "        self.hm = {}  # dictionary to store (arr_element, arr_index)\n",
    "    \n",
    "    def add(self, x):\n",
    "        # check if x already exists in arr\n",
    "        if x in self.hm:\n",
    "            return\n",
    "        \n",
    "        # get the current length of the arr\n",
    "        n = len(self.arr)\n",
    "\n",
    "        # add x to the end of arr\n",
    "        self.arr.append(x)\n",
    "        \n",
    "        # add (x, n) pair to the hm\n",
    "        self.hm[x] = n\n",
    "    \n",
    "    def search(self, x):\n",
    "        return self.hm.get(x, None)  # get the index of x in hm, else return default None\n",
    "    \n",
    "    def getRandom(self):\n",
    "        random_index = random.randrange(0, len(self.arr))\n",
    "        return self.arr[random_index]\n",
    "\n",
    "    def remove(self, x):\n",
    "\n",
    "        # get the index of x in hm\n",
    "        index = self.hm.get(x, None)\n",
    "        # if x is not in hm, return nothing\n",
    "        if index == None:\n",
    "            return\n",
    "        \n",
    "        # It means that x exists in hm, so delete it from hm\n",
    "        del self.hm[x]\n",
    "\n",
    "        # in order to delete x from arr in O(1), swap the last element with x in arr\n",
    "        ## get the length of the arr\n",
    "        n = len(self.arr)\n",
    "        # get the last element and store it in last\n",
    "        last = self.arr[n-1]\n",
    "        # swap the elements now\n",
    "        self.arr[index], self.arr[n-1] = self.arr[n-1], self.arr[index]\n",
    "\n",
    "        # del the new last element which is x\n",
    "        del self.arr[-1]\n",
    "\n",
    "        # Update the index of last element in hm\n",
    "        self.hm[last] = index\n",
    "\n",
    "# Driver Code\n",
    "if __name__==\"__main__\":\n",
    "    ds = MyDS()\n",
    "    ds.add(10)\n",
    "    ds.add(20)\n",
    "    ds.add(30)\n",
    "    ds.add(40)\n",
    "    print(ds.search(30))\n",
    "    ds.remove(20)\n",
    "    ds.add(50)\n",
    "    print(ds.search(50))\n",
    "    print(ds.getRandom())\n",
    "\n"
   ]
  },
  {
   "cell_type": "markdown",
   "metadata": {},
   "source": [
    "## 24. Group Shifted String\n"
   ]
  },
  {
   "cell_type": "code",
   "execution_count": 35,
   "metadata": {},
   "outputs": [
    {
     "name": "stdout",
     "output_type": "stream",
     "text": [
      "acd dfg wyz yab mop \n",
      "bdfh moqs \n",
      "a x \n"
     ]
    }
   ],
   "source": [
    "ALPHA = 26  # total number of letters\n",
    "def getDiffString(string):\n",
    "    # store the difference in shift\n",
    "    shift = ''\n",
    "\n",
    "    # go through each index in string: 1 to n-1\n",
    "    for i in range(1, len(string)):\n",
    "        # get the difference of unicode values of characters stored at i and i-1 positions, \n",
    "        # and store them in diff\n",
    "        diff = ord(string[i]) - ord(string[i-1])\n",
    "        # if diff is negative, we must add 26 to it.\n",
    "        if diff < 0:\n",
    "            diff += ALPHA\n",
    "        # Add the unicode value to diff and add the character of (diff+ord('a')) to shift\n",
    "        shift += chr(diff + ord('a'))\n",
    "    return shift\n",
    "\n",
    "def groupShiftedString(list_of_string):\n",
    "    # Get the length of the list\n",
    "    n = len(list_of_string)\n",
    "    # dictionary to store (shift, list of indices of string having same shift)\n",
    "    groupString = {}\n",
    "    # go through each index in list\n",
    "    for i in range(n):\n",
    "        # get the shift frmo getDiffString function\n",
    "        shift = getDiffString(list_of_string[i])\n",
    "        # if shift exists in groupShift, append the index to it\n",
    "        if shift in groupString:\n",
    "            groupString[shift].append(i)\n",
    "        # if shift doesn't exist in groupString, create a list having index i\n",
    "        else:\n",
    "            groupString[shift] = [i]\n",
    "    # go through each shift in the dictionary\n",
    "    for shift in groupString:\n",
    "        # get the list of strings having same shift\n",
    "        list_of_grouped_strings = groupString[shift]\n",
    "        # go through each string having same shift and print it side-by-side\n",
    "        for i in range(len(list_of_grouped_strings)):\n",
    "            print(list_of_string[list_of_grouped_strings[i]], end = ' ')\n",
    "        # print a new line for each list\n",
    "        print()\n",
    "# Driver code\n",
    "list_of_string = [\"acd\", \"dfg\", \"wyz\",\n",
    "       \"yab\", \"mop\",\"bdfh\",\n",
    "       \"a\", \"x\", \"moqs\"]\n",
    "\n",
    "groupShiftedString(list_of_string)"
   ]
  },
  {
   "cell_type": "markdown",
   "metadata": {},
   "source": [
    "## 25. Check for Palindrome after every character replacement Query\n"
   ]
  },
  {
   "cell_type": "code",
   "execution_count": 3,
   "metadata": {},
   "outputs": [
    {
     "name": "stdout",
     "output_type": "stream",
     "text": [
      "No\n",
      "Yes, ['s', 'e', 's', 'e', 's'] is palindrome\n"
     ]
    }
   ],
   "source": [
    "def storeUnequal(string, index, string_length, set):\n",
    "    # if character at index is same as that at n-1-index position, remove the index from set\n",
    "    if string[index] == string[string_length - 1 - index]:\n",
    "        if index in set:\n",
    "            set.remove(index)\n",
    "    # else, add index to the set\n",
    "    else:\n",
    "        set.add(index)\n",
    "\n",
    "def query(string, Q):\n",
    "    # get the length of the string\n",
    "    n = len(string)\n",
    "    # create an empty set to store the unequal indices of the first half of string\n",
    "    s = set()\n",
    "    # go through each index in the first half\n",
    "    for i in range(n//2):\n",
    "        # if character at i is not same as that in n-1-i, add i to the set\n",
    "        if string[i] != string[n-1-1]:\n",
    "            s.add(i)\n",
    "    # go through each query\n",
    "    for q in range(Q):\n",
    "        # query 1: i1 = 3, i2 = 0, ch = 'e'\n",
    "        # query 2: i1 = 0, i2 = 2, ch = 's'\n",
    "        # input from user\n",
    "        inp = list(input().split())\n",
    " \n",
    "        # parsing user inputs as integers\n",
    "        # and strings/char\n",
    "        i1 = int(inp[0])\n",
    "        i2 = int(inp[1])\n",
    "        ch = inp[2]\n",
    "\n",
    "        # replace the characters at i1 and i2 positions\n",
    "        string[i1] = string[i2] = ch\n",
    "\n",
    "        # if i1 and i2 are more than the half of string length, update the indexes\n",
    "        if i1 > n//2:\n",
    "            i1 = n-1-i1\n",
    "        if i2 > n//2:\n",
    "            i2 = n-1-i2\n",
    "\n",
    "        \n",
    "        # invoke the storeUnequal function to remove index i1 or i2 from the set if characters are equal\n",
    "        storeUnequal(string, i1, n, s)\n",
    "        storeUnequal(string, i2, n, s)\n",
    "\n",
    "        # if set doesn't contain any index, it is a palindrome\n",
    "        if len(s) == 0:\n",
    "            print(f'Yes, {string} is palindrome')\n",
    "        else:\n",
    "            print('No')\n",
    "    \n",
    "    # Driver Code\n",
    "if __name__ == \"__main__\":\n",
    "    string = list(\"geeks\")\n",
    "    Q = 2\n",
    "    query(string, Q)"
   ]
  },
  {
   "cell_type": "markdown",
   "metadata": {},
   "source": [
    "## 26. Minimum insertions to form a palindrome with permutations allowed"
   ]
  },
  {
   "cell_type": "code",
   "execution_count": 4,
   "metadata": {},
   "outputs": [
    {
     "name": "stdout",
     "output_type": "stream",
     "text": [
      "2\n"
     ]
    }
   ],
   "source": [
    "def minInsertion(string):\n",
    "    # length of the string\n",
    "    n = len(string)\n",
    "    # variable to store the count of characters occuring odd number of times\n",
    "    result = 0\n",
    "    # list to store count of each character\n",
    "    count = [0 for i in range(26)]\n",
    "    # go through each index i in string and store the count of each character in string\n",
    "    for i in range(n):\n",
    "        count[ord(string[i]) - ord('a')] += 1\n",
    "    # go through each index in count list and store the odd occurrences in result\n",
    "    for i in range(26):\n",
    "        if count[i]%2 != 0:\n",
    "            result += 1\n",
    "    # if it is an even palindrome\n",
    "    if result == 0:\n",
    "        return 0\n",
    "    else:\n",
    "        return result - 1\n",
    "str1 = \"geeksforgeeks\"\n",
    "print(minInsertion(str1))\n"
   ]
  },
  {
   "cell_type": "markdown",
   "metadata": {},
   "source": [
    "## 27. All unique triplets that sum up to a given value"
   ]
  },
  {
   "cell_type": "code",
   "execution_count": 6,
   "metadata": {},
   "outputs": [
    {
     "name": "stdout",
     "output_type": "stream",
     "text": [
      "3, 9 and 12 are the triplets\n",
      "6, 6 and 12 are the triplets\n"
     ]
    }
   ],
   "source": [
    "def findTriplets(arr, arr_size, target_sum):\n",
    "\n",
    "    # sort the array\n",
    "    arr.sort()\n",
    "\n",
    "    # boolean variable to store if triplets exist\n",
    "    flag = False\n",
    "\n",
    "    # go through each index i going from 0 to n-2\n",
    "    for i in range(arr_size-2):\n",
    "\n",
    "        if i == 0 or arr[i] > arr[i-1]:\n",
    "        # \n",
    "            pair_sum = target_sum - arr[i]\n",
    "\n",
    "            start = i+1\n",
    "            \n",
    "            end = arr_size-1\n",
    "\n",
    "            while start < end:\n",
    "\n",
    "                if start > i+1 and arr[start] == arr[start-1]:\n",
    "                    start += 1\n",
    "                    continue\n",
    "\n",
    "                if end < n-1 and arr[end] == arr[end+1]:\n",
    "                    end -= 1\n",
    "                    continue\n",
    "\n",
    "                if pair_sum == arr[start] + arr[end]:\n",
    "                    print(f\"{arr[i]}, {arr[start]} and {arr[end]} are the triplets\")\n",
    "                    flag = True\n",
    "                    start += 1\n",
    "                    end -= 1\n",
    "                \n",
    "                elif pair_sum > arr[start] + arr[end]:\n",
    "                    start += 1\n",
    "                \n",
    "                else:\n",
    "                    end -= 1\n",
    "    if flag == False:\n",
    "        print('No triplets found.')\n",
    "\n",
    "# driver code\n",
    "if __name__ == \"__main__\":\n",
    " \n",
    "    a = [12, 3, 6, 1, 6, 9]\n",
    "    n = len(a)\n",
    "    sum = 24\n",
    " \n",
    "    # Function call\n",
    "    findTriplets(a, n, sum)\n"
   ]
  },
  {
   "cell_type": "markdown",
   "metadata": {},
   "source": [
    "## 28. Clone a Binary Tree with Random Pointers\n"
   ]
  },
  {
   "cell_type": "code",
   "execution_count": 10,
   "metadata": {},
   "outputs": [
    {
     "name": "stdout",
     "output_type": "stream",
     "text": [
      "Inorder traversal of original binary tree is: \n",
      "\n",
      "[4 1], \n",
      "[2 None], \n",
      "[5 3], \n",
      "[1 5], \n",
      "[3 None], \n",
      "\n",
      "\n",
      "Inorder traversal of cloned binary tree is: \n",
      "\n",
      "[4 1], \n",
      "[2 None], \n",
      "[5 3], \n",
      "[1 5], \n",
      "[3 None], \n"
     ]
    }
   ],
   "source": [
    "class newNode:\n",
    "    def __init__(self, key):\n",
    "        self.key = key \n",
    "        self.left = self.right = self.random = None \n",
    "\n",
    "def printInorder(node):\n",
    "    if node is None:\n",
    "        return\n",
    "    \n",
    "    printInorder(node.left)  \n",
    "    print(f\"[{node.key} \", end ='')\n",
    "    if node.random is None:\n",
    "        print('None], ')\n",
    "    else:\n",
    "        print(f\"{node.random.key}], \")\n",
    "    \n",
    "    printInorder(node.right)\n",
    "def copyLeftRightNode(node, hashmap):\n",
    "    if node is None:\n",
    "        return None\n",
    "    # Create cloneNode from node's key\n",
    "    cloneNode = newNode(node.key)\n",
    "    # store node, cloneNode in hashmap\n",
    "    hashmap[node] = cloneNode \n",
    "    # recur\n",
    "    cloneNode.left = copyLeftRightNode(node.left, hashmap)\n",
    "    cloneNode.right = copyLeftRightNode(node.right, hashmap)\n",
    "    return cloneNode\n",
    "\n",
    "def copyRandom(node, cloneNode, hashmap):\n",
    "    if cloneNode is None:\n",
    "        return None\n",
    "    # store in cloneNode's random the value that we get from node's random in hashmap\n",
    "    cloneNode.random = hashmap.get(node.random, None)\n",
    "    # recur\n",
    "    copyRandom(node.left, cloneNode.left, hashmap)\n",
    "    copyRandom(node.right, cloneNode.right, hashmap)\n",
    "\n",
    "def cloneTree(tree):\n",
    "    if tree is None:\n",
    "        return None\n",
    "    \n",
    "    # dictionary to store tree, clone as key-value pair\n",
    "    hashmap = {}\n",
    "    # clone node\n",
    "    newTree = copyLeftRightNode(tree, hashmap)\n",
    "    # copy random\n",
    "    copyRandom(tree, newTree, hashmap)\n",
    "    return newTree\n",
    "\n",
    "# Driver program to test above functions*/\n",
    "def main():\n",
    "    # Test No 1\n",
    "    tree = newNode(1);\n",
    "    tree.left = newNode(2);\n",
    "    tree.right = newNode(3);\n",
    "    tree.left.left = newNode(4);\n",
    "    tree.left.right = newNode(5);\n",
    "    tree.random = tree.left.right;\n",
    "    tree.left.left.random = tree;\n",
    "    tree.left.right.random = tree.right;\n",
    " \n",
    "    #  Test No 2\n",
    "    # tree = None;\n",
    " \n",
    "    #  Test No 3\n",
    "    # tree = newNode(1);\n",
    " \n",
    "    # Test No 4\n",
    "    # tree = newNode(1);\n",
    "    # tree.left = newNode(2)\n",
    "    # tree.right = newNode(3)\n",
    "    # tree.random = tree.right\n",
    "    # tree.left.random = tree\n",
    "    \n",
    " \n",
    "    print(\"Inorder traversal of original binary tree is: \\n\")\n",
    "    printInorder(tree)\n",
    " \n",
    "    clone = cloneTree(tree)\n",
    " \n",
    "    print(\"\\n\\nInorder traversal of cloned binary tree is: \\n\")\n",
    "    printInorder(clone)\n",
    " \n",
    "main()"
   ]
  },
  {
   "cell_type": "code",
   "execution_count": null,
   "metadata": {},
   "outputs": [],
   "source": []
  }
 ],
 "metadata": {
  "kernelspec": {
   "display_name": "Python 3.8.5 64-bit ('base': conda)",
   "name": "python385jvsc74a57bd0dca0ade3e726a953b501b15e8e990130d2b7799f14cfd9f4271676035ebe5511"
  },
  "language_info": {
   "codemirror_mode": {
    "name": "ipython",
    "version": 3
   },
   "file_extension": ".py",
   "mimetype": "text/x-python",
   "name": "python",
   "nbconvert_exporter": "python",
   "pygments_lexer": "ipython3",
   "version": "3.8.5"
  },
  "metadata": {
   "interpreter": {
    "hash": "dca0ade3e726a953b501b15e8e990130d2b7799f14cfd9f4271676035ebe5511"
   }
  },
  "orig_nbformat": 2
 },
 "nbformat": 4,
 "nbformat_minor": 2
}